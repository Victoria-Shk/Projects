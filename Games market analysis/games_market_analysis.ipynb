{
 "cells": [
  {
   "cell_type": "markdown",
   "metadata": {},
   "source": [
    "# Проект исследования рынка компьютерных игр:\n",
    "\n",
    "<b>  Цель исследования: </b> \n",
    " Выявить закономерности определяющие успешность игры для планирования рекламной компании на 2017 год.\n",
    " \n",
    "<b>  Ход исследования:  </b> \n",
    " Исследование будет проводиться в 3 этапа. Будет обработан следующий файл: '/datasets/games.csv'. \n",
    " \n",
    " <b> Этап 1. Предобработка данных. </b> \n",
    " Так как о данных нам предварительно мало известно, для их дальнейшего корректного анализа будет проведена предобработка, а именно:\n",
    " \n",
    " - обработка столбцов и приведение их к единому стандарту\n",
    " - выявление и замена пропусков при необходимости\n",
    " - приведение данных к необходимому типу\n",
    " - добавление дополнительного столбца с данными по продажам для дальнейшего более полного анализа\n",
    " \n",
    "<b> Этап 2. Исследовательский анализ. </b> \n",
    "Для того что бы в последующем сделать корректные выводы нам необходимо тщательно изучить имеющиеся данные. Установить, есть ли какие-либо взаимосвязи между ними, определить периоды за которые данные действительно важны, а которые можно не брать в расчет. Для этого будут выполнены следующие пункты:\n",
    "  \n",
    "  \n",
    " - проанализириуем выпуск игр по годам\n",
    " - изучим продажи игр по виду платформы и установим срок их \"жизни\"\n",
    " - определим лидеров по продажам и по виду платформ\n",
    " - определим корреляцию между отзывами на игры и продажами внутри одной платформы\n",
    " - определим можно ли применить выводы по корреляции одной платформы ко всем остальным\n",
    " - изучим распределение игр по жанрам, определим есть ли лидирующие по продажам жанры\n",
    " - составим портрет пользователя отдельно для каждого региона с описанием самых популярных патформ и жанров, а также определим влияние рейтинга ESRB на продажи\n",
    " \n",
    "<b> Этап 3. Проверка гипотез. </b> \n",
    "На данном этапе проверим гипотезы и сможем сделать окончательные выводы по исследованию.\n",
    "\n",
    "<b> Этап 4. Общие выводы и рекомендации. </b>"
   ]
  },
  {
   "cell_type": "code",
   "execution_count": 1,
   "metadata": {
    "scrolled": true
   },
   "outputs": [
    {
     "name": "stdout",
     "output_type": "stream",
     "text": [
      "<class 'pandas.core.frame.DataFrame'>\n",
      "RangeIndex: 16715 entries, 0 to 16714\n",
      "Data columns (total 11 columns):\n",
      " #   Column           Non-Null Count  Dtype  \n",
      "---  ------           --------------  -----  \n",
      " 0   Name             16713 non-null  object \n",
      " 1   Platform         16715 non-null  object \n",
      " 2   Year_of_Release  16446 non-null  float64\n",
      " 3   Genre            16713 non-null  object \n",
      " 4   NA_sales         16715 non-null  float64\n",
      " 5   EU_sales         16715 non-null  float64\n",
      " 6   JP_sales         16715 non-null  float64\n",
      " 7   Other_sales      16715 non-null  float64\n",
      " 8   Critic_Score     8137 non-null   float64\n",
      " 9   User_Score       10014 non-null  object \n",
      " 10  Rating           9949 non-null   object \n",
      "dtypes: float64(6), object(5)\n",
      "memory usage: 1.4+ MB\n"
     ]
    },
    {
     "data": {
      "text/html": [
       "<div>\n",
       "<style scoped>\n",
       "    .dataframe tbody tr th:only-of-type {\n",
       "        vertical-align: middle;\n",
       "    }\n",
       "\n",
       "    .dataframe tbody tr th {\n",
       "        vertical-align: top;\n",
       "    }\n",
       "\n",
       "    .dataframe thead th {\n",
       "        text-align: right;\n",
       "    }\n",
       "</style>\n",
       "<table border=\"1\" class=\"dataframe\">\n",
       "  <thead>\n",
       "    <tr style=\"text-align: right;\">\n",
       "      <th></th>\n",
       "      <th>Name</th>\n",
       "      <th>Platform</th>\n",
       "      <th>Year_of_Release</th>\n",
       "      <th>Genre</th>\n",
       "      <th>NA_sales</th>\n",
       "      <th>EU_sales</th>\n",
       "      <th>JP_sales</th>\n",
       "      <th>Other_sales</th>\n",
       "      <th>Critic_Score</th>\n",
       "      <th>User_Score</th>\n",
       "      <th>Rating</th>\n",
       "    </tr>\n",
       "  </thead>\n",
       "  <tbody>\n",
       "    <tr>\n",
       "      <th>0</th>\n",
       "      <td>Wii Sports</td>\n",
       "      <td>Wii</td>\n",
       "      <td>2006.0</td>\n",
       "      <td>Sports</td>\n",
       "      <td>41.36</td>\n",
       "      <td>28.96</td>\n",
       "      <td>3.77</td>\n",
       "      <td>8.45</td>\n",
       "      <td>76.0</td>\n",
       "      <td>8</td>\n",
       "      <td>E</td>\n",
       "    </tr>\n",
       "    <tr>\n",
       "      <th>1</th>\n",
       "      <td>Super Mario Bros.</td>\n",
       "      <td>NES</td>\n",
       "      <td>1985.0</td>\n",
       "      <td>Platform</td>\n",
       "      <td>29.08</td>\n",
       "      <td>3.58</td>\n",
       "      <td>6.81</td>\n",
       "      <td>0.77</td>\n",
       "      <td>NaN</td>\n",
       "      <td>NaN</td>\n",
       "      <td>NaN</td>\n",
       "    </tr>\n",
       "    <tr>\n",
       "      <th>2</th>\n",
       "      <td>Mario Kart Wii</td>\n",
       "      <td>Wii</td>\n",
       "      <td>2008.0</td>\n",
       "      <td>Racing</td>\n",
       "      <td>15.68</td>\n",
       "      <td>12.76</td>\n",
       "      <td>3.79</td>\n",
       "      <td>3.29</td>\n",
       "      <td>82.0</td>\n",
       "      <td>8.3</td>\n",
       "      <td>E</td>\n",
       "    </tr>\n",
       "    <tr>\n",
       "      <th>3</th>\n",
       "      <td>Wii Sports Resort</td>\n",
       "      <td>Wii</td>\n",
       "      <td>2009.0</td>\n",
       "      <td>Sports</td>\n",
       "      <td>15.61</td>\n",
       "      <td>10.93</td>\n",
       "      <td>3.28</td>\n",
       "      <td>2.95</td>\n",
       "      <td>80.0</td>\n",
       "      <td>8</td>\n",
       "      <td>E</td>\n",
       "    </tr>\n",
       "    <tr>\n",
       "      <th>4</th>\n",
       "      <td>Pokemon Red/Pokemon Blue</td>\n",
       "      <td>GB</td>\n",
       "      <td>1996.0</td>\n",
       "      <td>Role-Playing</td>\n",
       "      <td>11.27</td>\n",
       "      <td>8.89</td>\n",
       "      <td>10.22</td>\n",
       "      <td>1.00</td>\n",
       "      <td>NaN</td>\n",
       "      <td>NaN</td>\n",
       "      <td>NaN</td>\n",
       "    </tr>\n",
       "  </tbody>\n",
       "</table>\n",
       "</div>"
      ],
      "text/plain": [
       "                       Name Platform  Year_of_Release         Genre  NA_sales  \\\n",
       "0                Wii Sports      Wii           2006.0        Sports     41.36   \n",
       "1         Super Mario Bros.      NES           1985.0      Platform     29.08   \n",
       "2            Mario Kart Wii      Wii           2008.0        Racing     15.68   \n",
       "3         Wii Sports Resort      Wii           2009.0        Sports     15.61   \n",
       "4  Pokemon Red/Pokemon Blue       GB           1996.0  Role-Playing     11.27   \n",
       "\n",
       "   EU_sales  JP_sales  Other_sales  Critic_Score User_Score Rating  \n",
       "0     28.96      3.77         8.45          76.0          8      E  \n",
       "1      3.58      6.81         0.77           NaN        NaN    NaN  \n",
       "2     12.76      3.79         3.29          82.0        8.3      E  \n",
       "3     10.93      3.28         2.95          80.0          8      E  \n",
       "4      8.89     10.22         1.00           NaN        NaN    NaN  "
      ]
     },
     "execution_count": 1,
     "metadata": {},
     "output_type": "execute_result"
    }
   ],
   "source": [
    "# импортируем необходимые библиотеки\n",
    "\n",
    "import pandas as pd\n",
    "import matplotlib.pyplot as plt\n",
    "import seaborn as sns\n",
    "from scipy import stats as st\n",
    "\n",
    "#создаем переменную data куда записываем датафрейм\n",
    "try:\n",
    "    data = pd.read_csv('/datasets/games.csv')  \n",
    "except:\n",
    "    data = pd.read_csv('C:/Users/victo/Downloads/games.csv')  \n",
    "\n",
    "#выводим общую информацию о датафрейме и первые строки на экран\n",
    "data.info() \n",
    "data.head()"
   ]
  },
  {
   "cell_type": "markdown",
   "metadata": {},
   "source": [
    "Загруженный файл предоставил нам таблицу из 11 столбцов и 16715 строк, в них содержатся следующие данные:\n",
    "\n",
    "- наименование игры (Name)\n",
    "- наименование платформы (Platform)\n",
    "- год выпуска игры (Year_of_Release)\n",
    "- жанр игры (Genre)\n",
    "- продажи в северной Америке (NA_sales)\n",
    "- продажи в Европе (EU_sales)\n",
    "- продажи в Японии (JP_sales)\n",
    "- продажи в других регионах (Other_sales)\n",
    "- оценки критиков (Critic_Score)\n",
    "- оценки пользователей (User_Score)\n",
    "- рейтинг ESRB (Rating)\n",
    "\n",
    "Столбцы Name, Year_of_Release, Genre, Critic_Score, User_Score и Rating содержат пропуски. 6 столбцов типа float и 5 типа object.\n",
    "В целом файл содержит достаточно данных для обработки и анализа. Будет проведена небольшая предобработка и добавлен столбец с общей суммой продаж."
   ]
  },
  {
   "cell_type": "markdown",
   "metadata": {},
   "source": [
    "## Этап. Предобработка данных."
   ]
  },
  {
   "cell_type": "code",
   "execution_count": 2,
   "metadata": {},
   "outputs": [],
   "source": [
    "# приводим наименовая столбцов к общему виду с нижним регистром\n",
    "data.columns = data.columns.str.lower()"
   ]
  },
  {
   "cell_type": "code",
   "execution_count": 3,
   "metadata": {},
   "outputs": [
    {
     "data": {
      "text/plain": [
       "0"
      ]
     },
     "execution_count": 3,
     "metadata": {},
     "output_type": "execute_result"
    }
   ],
   "source": [
    "# проверим датафрейм на явные дубликаты\n",
    "data.duplicated().sum()"
   ]
  },
  {
   "cell_type": "markdown",
   "metadata": {},
   "source": [
    "Что бы пропуски не мешали изменению формата столбцов, обработаем их в первую очередь"
   ]
  },
  {
   "cell_type": "code",
   "execution_count": 4,
   "metadata": {},
   "outputs": [
    {
     "data": {
      "text/plain": [
       "name                  2\n",
       "platform              0\n",
       "year_of_release     269\n",
       "genre                 2\n",
       "na_sales              0\n",
       "eu_sales              0\n",
       "jp_sales              0\n",
       "other_sales           0\n",
       "critic_score       8578\n",
       "user_score         6701\n",
       "rating             6766\n",
       "dtype: int64"
      ]
     },
     "metadata": {},
     "output_type": "display_data"
    },
    {
     "data": {
      "text/plain": [
       "name                0.011965\n",
       "platform            0.000000\n",
       "year_of_release     1.609333\n",
       "genre               0.011965\n",
       "na_sales            0.000000\n",
       "eu_sales            0.000000\n",
       "jp_sales            0.000000\n",
       "other_sales         0.000000\n",
       "critic_score       51.319174\n",
       "user_score         40.089740\n",
       "rating             40.478612\n",
       "dtype: float64"
      ]
     },
     "execution_count": 4,
     "metadata": {},
     "output_type": "execute_result"
    }
   ],
   "source": [
    "# поиск и обработка пропусков\n",
    "display(data.isna().sum())\n",
    "# также смотрим сразу процентное соотношение пропусков\n",
    "data.isna().mean()*100"
   ]
  },
  {
   "cell_type": "code",
   "execution_count": 5,
   "metadata": {},
   "outputs": [],
   "source": [
    "# удаляем пропуски в столбцах name, genre, year_of_release\n",
    "data = data.dropna(subset=['name', 'genre', 'year_of_release'])\n",
    "\n",
    "#меняем пропуски в столбцах critic_score и user_score на \"-1\"\n",
    "data['critic_score'] = data['critic_score'].fillna(-1)\n",
    "data['user_score'] = data['user_score'].fillna(-1)\n",
    "\n",
    "# меняем пропуски в столбце rating на \"unknown\"\n",
    "data['rating'] = data['rating'].fillna('unknown')"
   ]
  },
  {
   "cell_type": "code",
   "execution_count": 6,
   "metadata": {},
   "outputs": [
    {
     "data": {
      "text/plain": [
       "name               0\n",
       "platform           0\n",
       "year_of_release    0\n",
       "genre              0\n",
       "na_sales           0\n",
       "eu_sales           0\n",
       "jp_sales           0\n",
       "other_sales        0\n",
       "critic_score       0\n",
       "user_score         0\n",
       "rating             0\n",
       "dtype: int64"
      ]
     },
     "metadata": {},
     "output_type": "display_data"
    }
   ],
   "source": [
    "# проверяем наличие пропусков еще раз\n",
    "display(data.isna().sum())"
   ]
  },
  {
   "cell_type": "markdown",
   "metadata": {},
   "source": [
    "Касательно причин появления пропусков, в столбцах с наименованием и жанром, ввиду совершенно малого их количества и значимых характеристик, скорей всего это технический сбой при выгрузке данных.\n",
    "\n",
    "Пропуски в столбце с годом выпуска могут быть как технической ошибкой, так и человеческим фактором, их могли просто не указать.\n",
    "\n",
    "Пропуски же в остальных столбцах могут быть и технической ошибкой, и человеческим фактором - пропуском при заполнении, а возможно действительно не имеют под собой никакой информации. Например как с рейтингом, игра может не иметь оценку указанного рейтинга. А в случае с оценками критиков и пользователей, игра может быть малоизвестна и также не иметь оценки тех или иных."
   ]
  },
  {
   "cell_type": "markdown",
   "metadata": {},
   "source": [
    "1. Колонки с названием, платформой и жанром игры логично оставим в формате object, так как данные в строчном формате таковыми и должны быть. \n",
    "2. В колонке с рейтингом данные имеют буквенное обозначение, поэтому также формат остается без изменений - object. \n",
    "3. Колонку с годом выпуска логично привести к формату int, так как года в любом случае цельночисленные значения. \n",
    "4. Все колонки с данными по продажам оставляем в типе float, так как продажи указаны в миллионах и имеют дробные значения. \n",
    "5. В колонке с оценками критиков все значения цельночисленные, поэтому приводим к int. \n",
    "6. Колонка с оценками пользователей имеет дробные значения, переформатируем ее во float (предварительно обработав значения 'tbd' в ней).\n"
   ]
  },
  {
   "cell_type": "code",
   "execution_count": 7,
   "metadata": {},
   "outputs": [],
   "source": [
    "# преобразуем данные в необходимый формат\n",
    "\n",
    "data['year_of_release'] = data['year_of_release'].astype(int)\n",
    "data['critic_score'] = data['critic_score'].astype(int)\n"
   ]
  },
  {
   "cell_type": "code",
   "execution_count": 8,
   "metadata": {},
   "outputs": [
    {
     "data": {
      "text/plain": [
       "array(['8', -1, '8.3', '8.5', '6.6', '8.4', '8.6', '7.7', '6.3', '7.4',\n",
       "       '8.2', '9', '7.9', '8.1', '8.7', '7.1', '3.4', '5.3', '4.8', '3.2',\n",
       "       '8.9', '6.4', '7.8', '7.5', '2.6', '7.2', '9.2', '7', '7.3', '4.3',\n",
       "       '7.6', '5.7', '5', '9.1', '6.5', 'tbd', '8.8', '6.9', '9.4', '6.8',\n",
       "       '6.1', '6.7', '5.4', '4', '4.9', '4.5', '9.3', '6.2', '4.2', '6',\n",
       "       '3.7', '4.1', '5.8', '5.6', '5.5', '4.4', '4.6', '5.9', '3.9',\n",
       "       '3.1', '2.9', '5.2', '3.3', '4.7', '5.1', '3.5', '2.5', '1.9', '3',\n",
       "       '2.7', '2.2', '2', '9.5', '2.1', '3.6', '2.8', '1.8', '3.8', '0',\n",
       "       '1.6', '9.6', '2.4', '1.7', '1.1', '0.3', '1.5', '0.7', '1.2',\n",
       "       '2.3', '0.5', '1.3', '0.2', '0.6', '1.4', '0.9', '1', '9.7'],\n",
       "      dtype=object)"
      ]
     },
     "execution_count": 8,
     "metadata": {},
     "output_type": "execute_result"
    }
   ],
   "source": [
    "# изучаем уникальные значения в колонке user_score\n",
    "data['user_score'].unique()"
   ]
  },
  {
   "cell_type": "code",
   "execution_count": 9,
   "metadata": {},
   "outputs": [],
   "source": [
    "# меняем значение 'tbd' на условное значение '-1'\n",
    "data['user_score'] = data['user_score'].str.replace('tbd', '-1')"
   ]
  },
  {
   "cell_type": "code",
   "execution_count": 10,
   "metadata": {},
   "outputs": [
    {
     "data": {
      "text/plain": [
       "array(['-1', '0', '0.2', '0.3', '0.5', '0.6', '0.7', '0.9', '1', '1.1',\n",
       "       '1.2', '1.3', '1.4', '1.5', '1.6', '1.7', '1.8', '1.9', '2', '2.1',\n",
       "       '2.2', '2.3', '2.4', '2.5', '2.6', '2.7', '2.8', '2.9', '3', '3.1',\n",
       "       '3.2', '3.3', '3.4', '3.5', '3.6', '3.7', '3.8', '3.9', '4', '4.1',\n",
       "       '4.2', '4.3', '4.4', '4.5', '4.6', '4.7', '4.8', '4.9', '5', '5.1',\n",
       "       '5.2', '5.3', '5.4', '5.5', '5.6', '5.7', '5.8', '5.9', '6', '6.1',\n",
       "       '6.2', '6.3', '6.4', '6.5', '6.6', '6.7', '6.8', '6.9', '7', '7.1',\n",
       "       '7.2', '7.3', '7.4', '7.5', '7.6', '7.7', '7.8', '7.9', '8', '8.1',\n",
       "       '8.2', '8.3', '8.4', '8.5', '8.6', '8.7', '8.8', '8.9', '9', '9.1',\n",
       "       '9.2', '9.3', '9.4', '9.5', '9.6', '9.7', nan], dtype=object)"
      ]
     },
     "execution_count": 10,
     "metadata": {},
     "output_type": "execute_result"
    }
   ],
   "source": [
    "# проверяем уникальные значения еще раз\n",
    "data['user_score'].sort_values().unique()"
   ]
  },
  {
   "cell_type": "markdown",
   "metadata": {},
   "source": [
    "Изменить формат столбца user_score сразу не удалось. Этому помешала аббревиатура \"tbd\" находящаяся в столбце. Поэтому я решила сразу выяснить что она значит, и как с ней правильно поступить.\n",
    "\n",
    "Интернет подсказал что данный термин в компьютерных играх используется довольно часто и расшифровывается как To be determined, что значит - будет определено позже, иными словами на момент формирования данных рейтинг пользователей отсутствовал. Возможно игры свежие и еще не имеют отзывов пользователей, или по ним не нашлось данных и решили использовать данную аббревиатуру.\n",
    "\n",
    "Что бы нам это при обработке и анализе данных не мешало, заменим ее на условное обозначение \"-1\", на 0 менять не будем так как это все таки определенный параметр рейтинга, и может повлиять на анализ."
   ]
  },
  {
   "cell_type": "code",
   "execution_count": 11,
   "metadata": {},
   "outputs": [],
   "source": [
    "# меняем формат столбца user_score\n",
    "data['user_score'] = data['user_score'].astype(float)"
   ]
  },
  {
   "cell_type": "markdown",
   "metadata": {},
   "source": [
    "Ни в одном из столбцов содержащих пропуски нельзя заменить их на усредненное или медианное значение, или же на 0. \n",
    "\n",
    "1. Наименование и жанр игры не могут зависеть от каких либо среднестатистических характеристик игры (имеющихся в нашем распоряжении), в данном случае это уникальные значения. Более того, в этих колонках всего по 2 пропуска, удалим их.\n",
    "\n",
    "2. Колонка с годом выпуска также содержит небольшой процент пропусков - 1,6%. Их удаление будет безболезненно для общего объема данных.\n",
    "\n",
    "3. Оценки пользователей и критиков на данном этапе и при имеющихся данных также сложно раасчитывать среднестатистически. Можно было бы предположить что рейтинг зависит от количества продаж, но это очень спорное предположение в данной ситуации. Такое усреднение будет попросту некорректно и может иметь критическое значение для итоговых выводов ввиду большого процента пропусков 40% и 50% соответственно. Поэтому в данных столбцах заменим пропуски на условное значение \"-1\".\n",
    "\n",
    "4. Столбец с рейтингом тоже имеет большое количество пропусков, однако в данном случае логично предположить что попросту не все игры имеют оценку данного рейтинга. Рейтинг ESRB имеет основное распространение в США и Канаде, но даже там получение оценки данного рейтинга не является обязательным. Пропуски в столбце с рейтингом заменим на \"unknown\"."
   ]
  },
  {
   "cell_type": "code",
   "execution_count": 12,
   "metadata": {},
   "outputs": [
    {
     "data": {
      "text/plain": [
       "array(['AO', 'E', 'E10+', 'EC', 'K-A', 'M', 'RP', 'T', 'unknown'],\n",
       "      dtype=object)"
      ]
     },
     "execution_count": 12,
     "metadata": {},
     "output_type": "execute_result"
    }
   ],
   "source": [
    "# обработка неявных дублей в столбце rating\n",
    "data['rating'].sort_values().unique()"
   ]
  },
  {
   "cell_type": "code",
   "execution_count": 13,
   "metadata": {},
   "outputs": [],
   "source": [
    "# замена аналогичных обозначений рейтинга\n",
    "data['rating'] = data['rating'].str.replace('K-A', 'E')"
   ]
  },
  {
   "cell_type": "code",
   "execution_count": 14,
   "metadata": {},
   "outputs": [
    {
     "data": {
      "text/plain": [
       "array(['AO', 'E', 'E10+', 'EC', 'M', 'RP', 'T', 'unknown'], dtype=object)"
      ]
     },
     "execution_count": 14,
     "metadata": {},
     "output_type": "execute_result"
    }
   ],
   "source": [
    "#контрольная проверка значений\n",
    "data['rating'].sort_values().unique()"
   ]
  },
  {
   "cell_type": "markdown",
   "metadata": {},
   "source": [
    "Изучая рейтинг ESRB, я заметила что в разные периоды времени один и тот же рейтинг имел разные обозначения. Так, первоначально Everyone (E) обозначался как Kids to Adults (K-A). Для более корректного анализа приведем все к единой современной оценке - E."
   ]
  },
  {
   "cell_type": "code",
   "execution_count": 15,
   "metadata": {},
   "outputs": [],
   "source": [
    "# создаем столбец с общими продажами по всем регионам\n",
    "data['total_sales'] = data['na_sales'] + data['eu_sales'] + data['jp_sales'] + data['other_sales']"
   ]
  },
  {
   "cell_type": "markdown",
   "metadata": {},
   "source": [
    "## Этап. Исследовательский анализ."
   ]
  },
  {
   "cell_type": "code",
   "execution_count": 16,
   "metadata": {},
   "outputs": [
    {
     "data": {
      "image/png": "[encoded data removed]",
      "text/plain": [
       "<Figure size 1080x432 with 1 Axes>"
      ]
     },
     "metadata": {
      "needs_background": "light"
     },
     "output_type": "display_data"
    }
   ],
   "source": [
    "# смотрим сколько выпускалось игр по годам\n",
    "data['year_of_release'].plot(kind='hist', bins=37, figsize=(15, 6),).\\\n",
    "    set(title='Выпуск игр по годам', xlabel='Года', ylabel='Количество выпущенных игр')\n",
    "plt.show()\n"
   ]
  },
  {
   "cell_type": "markdown",
   "metadata": {},
   "source": [
    "На графике мы видим что пик выпуска игр приходится на 2008 год, тогда было выпущено порядка 1400 игр. После 2011 года количество игр спустилось до уровня 600 игр в год, и до текущего момента остается в этом пределе. Данные до 1995 года наврядли представляют для нас какой-либо интерес, выпускалось мало игр, и платформы давно устарели. "
   ]
  },
  {
   "cell_type": "code",
   "execution_count": 17,
   "metadata": {},
   "outputs": [
    {
     "data": {
      "text/plain": [
       "<function matplotlib.pyplot.show(close=None, block=None)>"
      ]
     },
     "execution_count": 17,
     "metadata": {},
     "output_type": "execute_result"
    },
    {
     "data": {
      "image/png": "[encoded data removed]",
      "text/plain": [
       "<Figure size 1080x504 with 1 Axes>"
      ]
     },
     "metadata": {
      "needs_background": "light"
     },
     "output_type": "display_data"
    }
   ],
   "source": [
    "# определяем топ-7 платформ по продажам\n",
    "top_platforms = data.pivot_table(index=['platform'], values='total_sales', aggfunc='sum').\\\n",
    "    sort_values(by='total_sales', ascending=False).reset_index().head(7)['platform']\n",
    "\n",
    "# строим график продаж по годам и платформам\n",
    "data.query('platform in @top_platforms and year_of_release > 1994').\\\n",
    "    pivot_table(index=['year_of_release'], columns=['platform'], values='total_sales', aggfunc='sum').reset_index().\\\n",
    "        plot(x='year_of_release', figsize=(15, 7))\n",
    "plt.title('Общее количество продаж для ТОП-7 игровых платформ')\n",
    "plt.xlabel('Год')\n",
    "plt.ylabel('Общее количество проданный копий, млн.шт.')\n",
    "plt.show\n"
   ]
  },
  {
   "cell_type": "markdown",
   "metadata": {},
   "source": [
    "Сгрупировав данные по платформам и отсортировав по общему количеству продаж, мы вывели список ТОП-7 платформ с самым большим количеством продаж. Построив же для них графики продаж по годам можем отметить следующее:\n",
    "\n",
    "- По графикам очень хорошо видно что продолжительность жизни платформы в среднем составляет 10 лет. \n",
    "- Появляются новые платформы с периодичностью 1-4 года, наиболее часто новые платформы появлялись с 2004 по 2006 год, каждый год, а иногда и по нескольку в год. Далее новые платформы появляются уже реже.\n",
    "- Наиболее активный период жизни для платформы - первые 5 лет. После идет явное снижение продаж игр для платформы.\n",
    "\n",
    "Исходя из этих выводов будем считать актуальным периодом для дальнейшего анализа - срок в 3 года. Рынок компьютерных игр довольно дианмичный рынок, изменения на нем происходят активно. Платформы и игры которые были популярны более 3 лет назад в текущем и последующем году скорей всего будут терять свою популярность и ввиду устаревания платформы и ввиду устаревания самой версии игры, поэтому не будем ориентироваться на данные старше 3-х лет.\n",
    "\n",
    "За актуальный период возьмем 2014, 2015, 2016 года."
   ]
  },
  {
   "cell_type": "code",
   "execution_count": 18,
   "metadata": {},
   "outputs": [],
   "source": [
    "# запишем датафрейм с актуальным периодом\n",
    "actual_data = data.query('year_of_release >= 2014')"
   ]
  },
  {
   "cell_type": "markdown",
   "metadata": {},
   "source": [
    "Одну из потенциально прибыльных платформ можно оценить уже сейчас по предыдущему графику. Это PS4, одна из самых свежих платформ которая в любом случае будет актуальной дольше остальных. Оставшиеся же платформы, несмотря на большие объемы продаж в прошлом, в перспективе уже не дадут таких результатов, их жизненный цикл подходит к концу.\n",
    "\n",
    "Тем не менее не будем ограничиваться одной платформой, и с помощью \"ящика с усами\" посмотрим какие преимущества могут иметь другие платформы."
   ]
  },
  {
   "cell_type": "code",
   "execution_count": 19,
   "metadata": {},
   "outputs": [
    {
     "data": {
      "text/plain": [
       "[Text(0.5, 1.0, 'Продажи по платформам за актуальный период 2014-2016гг.'),\n",
       " Text(0.5, 0, 'Платформы'),\n",
       " Text(0, 0.5, 'Общее количество проданных копий, млн.шт.'),\n",
       " (0.0, 2.0)]"
      ]
     },
     "execution_count": 19,
     "metadata": {},
     "output_type": "execute_result"
    },
    {
     "data": {
      "image/png": "[encoded data removed]",
      "text/plain": [
       "<Figure size 1080x720 with 1 Axes>"
      ]
     },
     "metadata": {
      "needs_background": "light"
     },
     "output_type": "display_data"
    }
   ],
   "source": [
    "# строим \"ящик с усами\" для платформ за актуальный период\n",
    "plt.figure(figsize=(15,10))\n",
    "sns.boxplot(data=actual_data, x='platform', y='total_sales').\\\n",
    "    set(title='Продажи по платформам за актуальный период 2014-2016гг.', xlabel='Платформы', ylabel='Общее количество проданных копий, млн.шт.', ylim=(0,2))"
   ]
  },
  {
   "cell_type": "markdown",
   "metadata": {},
   "source": [
    "Вот какие интересные особенности можно подчеркнуть из данного графика: PS4 лидирует по количеству выбросов, в данном случае предполагаю это топовые игры, которые побили все рекорды. Не сильно отстают от PS4 в этом плане Nintendo 3DS и XBox One. Однако стоит учесть, что далеко не всякая игра является топовой, поэтому нельзя ориентироваться только на этот показатель. "
   ]
  },
  {
   "cell_type": "markdown",
   "metadata": {},
   "source": [
    "Медианы примерно на одном уровне у PS4, XBox One, XBox360, Wii и WiiU, что означает примерно одинаковый средний уровень покупок по данным платформам. \n",
    "\n",
    "3-ий квартиль выше всего у Wii, немного отстает PS4, и далее следуют XBox One и Wii, это показывает нам что в целом спрос для этих платформ будет одинаково высок. Другие платформы отстают по этому показателю.\n"
   ]
  },
  {
   "cell_type": "markdown",
   "metadata": {},
   "source": [
    "Мы изучили некоторые характеристики в отношении игровых платформ. Отметим еще несколько наблюдений.\n",
    "\n",
    "- Среди платформ Sony Playstation однозначным лидером является PS4, как уже отмечала, это самая новая версия платформы, и у нее достаточно хорошие характеристики относительно продаж. Много топовых игр, хороший показатель по объему продаж медианы и квартиля. \n",
    "- У Nintendo с небольшим отрывом от WiiU лидирует Wii. Однако если мы изучим Wii и WiiU подробней, можно отметить следующее, WiiU гораздо моложе, выпущена в 11/12 году, тогда как Wii выпущена в 2005/2006 году, то есть её жизненный цикл практически подходит к концу. WiiU гораздо мощнее по техническим характеристикам, но при этом и дороже. В связи с чем как перспективные рассматривала бы обе платформы.\n",
    "- У XBox вперед по показателям за выбранный период выходит Xbox One, так как и по техническим характеристикам она превосходит свою предшественницу XBox 360, так же рекомендую как перспективные, обе эти платформы.\n",
    "\n",
    "Таким образом потенциально прибыльными считаю следующие платформы: PS4, Xbox360, XboxOne, Wii и WiiU."
   ]
  },
  {
   "cell_type": "code",
   "execution_count": 20,
   "metadata": {},
   "outputs": [
    {
     "data": {
      "text/plain": [
       "<AxesSubplot:title={'center':'Корреляция отзывов пользователей и общих продаж'}, xlabel='Оценка пользователей', ylabel='Общее кол-во продаж'>"
      ]
     },
     "execution_count": 20,
     "metadata": {},
     "output_type": "execute_result"
    },
    {
     "data": {
      "image/png": "[encoded data removed]",
      "text/plain": [
       "<Figure size 432x288 with 1 Axes>"
      ]
     },
     "metadata": {
      "needs_background": "light"
     },
     "output_type": "display_data"
    },
    {
     "data": {
      "image/png": "[encoded data removed]",
      "text/plain": [
       "<Figure size 432x288 with 1 Axes>"
      ]
     },
     "metadata": {
      "needs_background": "light"
     },
     "output_type": "display_data"
    }
   ],
   "source": [
    "# создадим выборку по платформе PS4 \n",
    "ps4 = actual_data.query('platform == \"PS4\" and critic_score > 0 and user_score > 0')\n",
    "\n",
    "# строим диаграммы рассеивания\n",
    "ps4.plot(x='critic_score', \n",
    "        y='total_sales', \n",
    "        kind='scatter', \n",
    "        alpha=0.5,\n",
    "        title='Корреляция отзывов критиков и общих продаж',\n",
    "        xlabel='Оценка критиков',\n",
    "        ylabel='Общее кол-во продаж') \n",
    "ps4.plot(x='user_score',\n",
    "        y='total_sales',\n",
    "        kind='scatter',\n",
    "        alpha=0.5,\n",
    "        title='Корреляция отзывов пользователей и общих продаж',\n",
    "        xlabel='Оценка пользователей',\n",
    "        ylabel='Общее кол-во продаж') "
   ]
  },
  {
   "cell_type": "code",
   "execution_count": 21,
   "metadata": {},
   "outputs": [
    {
     "name": "stdout",
     "output_type": "stream",
     "text": [
      "Коэффициент корреляции продаж и оценок критиков: 0.40190287811475334\n",
      "Коэффициент корреляции продаж и оценок пользователей: -0.04318585997193634\n"
     ]
    }
   ],
   "source": [
    "critic_corr = ps4['critic_score'].corr(ps4['total_sales'])\n",
    "print('Коэффициент корреляции продаж и оценок критиков:', critic_corr)\n",
    "user_corr2 = ps4['user_score'].corr(ps4['total_sales'])\n",
    "print('Коэффициент корреляции продаж и оценок пользователей:', user_corr2)\n"
   ]
  },
  {
   "cell_type": "markdown",
   "metadata": {},
   "source": [
    "Диаграмма рассеивания и коэффициент Пирсона явно показывают нам что взаимосвязь между оценками и объемом продаж - небольшая. При этом интересно отметить, что между продажами и оценками пользователей корреляция отрицательная, что означает что это крайне неоднозначный показатель для ориентации на него."
   ]
  },
  {
   "cell_type": "code",
   "execution_count": 22,
   "metadata": {},
   "outputs": [
    {
     "data": {
      "image/png": "[encoded data removed]",
      "text/plain": [
       "<Figure size 1080x360 with 4 Axes>"
      ]
     },
     "metadata": {
      "needs_background": "light"
     },
     "output_type": "display_data"
    },
    {
     "data": {
      "image/png": "[encoded data removed]",
      "text/plain": [
       "<Figure size 1080x360 with 4 Axes>"
      ]
     },
     "metadata": {
      "needs_background": "light"
     },
     "output_type": "display_data"
    },
    {
     "data": {
      "image/png": "[encoded data removed]",
      "text/plain": [
       "<Figure size 1080x360 with 4 Axes>"
      ]
     },
     "metadata": {
      "needs_background": "light"
     },
     "output_type": "display_data"
    },
    {
     "data": {
      "image/png": "[encoded data removed]",
      "text/plain": [
       "<Figure size 1080x360 with 4 Axes>"
      ]
     },
     "metadata": {
      "needs_background": "light"
     },
     "output_type": "display_data"
    },
    {
     "data": {
      "image/png": "[encoded data removed]",
      "text/plain": [
       "<Figure size 1080x360 with 4 Axes>"
      ]
     },
     "metadata": {
      "needs_background": "light"
     },
     "output_type": "display_data"
    }
   ],
   "source": [
    "# создадим новую переменную где отсечем условные значения \"-1\" которые мы добавили вместо пропусков\n",
    "new_actual = actual_data.query('critic_score > 0 and user_score > 0')\n",
    "\n",
    "# напишем функцию которая будет рассчитывать нам коэффициент Пирсона и построит диаграмму рассеивания для других платформ\n",
    "def platform_matrix(df, name_of_platform):\n",
    "    platform = df.loc[df['platform'] == name_of_platform]\n",
    "    platform = platform[['total_sales', 'user_score', 'critic_score']]\n",
    "    \n",
    "    fig, ax = plt.subplots(1, 3, figsize=(15, 5))\n",
    "    plt.suptitle(name_of_platform, fontsize=18)\n",
    "    plt.xticks(fontsize=12)\n",
    "    plt.yticks(fontsize=12)\n",
    "\n",
    "    sns.heatmap(ax=ax[0], data=platform.corr(), xticklabels=platform.corr().columns, yticklabels=platform.corr().columns, cmap='RdYlGn', center=0, annot=True)    \n",
    "    sns.scatterplot(ax=ax[1],x='user_score', y='total_sales', data=platform)    \n",
    "    sns.scatterplot(ax=ax[2], x='critic_score', y='total_sales', data=platform)\n",
    "\n",
    "    plt.show()\n",
    "\n",
    "\n",
    "\n",
    "platforms = ['PS4', 'PS3', 'X360', 'WiiU', 'XOne']\n",
    "for platform in platforms:\n",
    "    platform_matrix(new_actual, platform)"
   ]
  },
  {
   "cell_type": "markdown",
   "metadata": {},
   "source": [
    "Посчитав коэффициенты и построив диаграммы мы лишний раз убедились что взаимосвязь между оценками критиков и пользователей и объемами продаж - слабая."
   ]
  },
  {
   "cell_type": "code",
   "execution_count": 23,
   "metadata": {},
   "outputs": [
    {
     "data": {
      "text/plain": [
       "<function matplotlib.pyplot.show(close=None, block=None)>"
      ]
     },
     "execution_count": 23,
     "metadata": {},
     "output_type": "execute_result"
    },
    {
     "data": {
      "image/png": "[encoded data removed]",
      "text/plain": [
       "<Figure size 1080x504 with 1 Axes>"
      ]
     },
     "metadata": {
      "needs_background": "light"
     },
     "output_type": "display_data"
    }
   ],
   "source": [
    "# смотрим распределение игр по жанрам\n",
    "actual_data.pivot_table(index=['genre'], values='name', aggfunc='count').reset_index().\\\n",
    "    plot(x='genre', kind='bar', figsize=(15, 7))\n",
    "plt.title('Распределение игр по жанрам', fontsize=15)\n",
    "plt.xlabel('Жанр', fontsize=12)\n",
    "plt.ylabel('Общее количество проданный копий, млн.шт.', fontsize=12)\n",
    "plt.show\n"
   ]
  },
  {
   "cell_type": "code",
   "execution_count": 24,
   "metadata": {},
   "outputs": [
    {
     "data": {
      "text/plain": [
       "<function matplotlib.pyplot.show(close=None, block=None)>"
      ]
     },
     "execution_count": 24,
     "metadata": {},
     "output_type": "execute_result"
    },
    {
     "data": {
      "image/png": "[encoded data removed]",
      "text/plain": [
       "<Figure size 1080x504 with 1 Axes>"
      ]
     },
     "metadata": {
      "needs_background": "light"
     },
     "output_type": "display_data"
    }
   ],
   "source": [
    "# смотрим распределение продаж по жанрам\n",
    "actual_data.pivot_table(index=['genre'], values='total_sales', aggfunc='sum').reset_index().\\\n",
    "    plot(x='genre', kind='bar', figsize=(15, 7))\n",
    "plt.title('Распределение продаж по жанрам', fontsize=15)\n",
    "plt.xlabel('Жанр', fontsize=12)\n",
    "plt.ylabel('Общее количество проданный копий, млн.шт.', fontsize=12)\n",
    "plt.show"
   ]
  },
  {
   "cell_type": "markdown",
   "metadata": {},
   "source": [
    "Определенно больше всего игр выпускается в жанре Action, и по объему продаж он занимает первую позицию. При это интересно отметить что Shooter по объему продаж не сильно уступает жанру Action, при этом количество игр выпускаемых в данном жанре - в 3 раза меньше. Что говорит о большой популярности игр в жанре Shooter самих по себе. На третьем месте игры в жанре Sports, они тоже занимают хорошую часть от продаж.\n",
    "\n",
    "Самые низкоприбыльные же игры в жанрах Puzzle, Simulation и Strategy. \n",
    "\n",
    "Но что бы утвердиться в правильности своих выводов, посмотрим распределение продаж подробней."
   ]
  },
  {
   "cell_type": "code",
   "execution_count": 25,
   "metadata": {},
   "outputs": [
    {
     "data": {
      "text/plain": [
       "[Text(0.5, 1.0, 'Продажи по жанрам за актуальный период 2014-2016гг.'),\n",
       " Text(0.5, 0, 'Жанры'),\n",
       " Text(0, 0.5, 'Общее количество проданных копий, млн.шт.')]"
      ]
     },
     "execution_count": 25,
     "metadata": {},
     "output_type": "execute_result"
    },
    {
     "data": {
      "image/png": "[encoded data removed]",
      "text/plain": [
       "<Figure size 1080x360 with 1 Axes>"
      ]
     },
     "metadata": {
      "needs_background": "light"
     },
     "output_type": "display_data"
    }
   ],
   "source": [
    "# построим общий график и посмотрим выбросы\n",
    "plt.figure(figsize=(15,5))\n",
    "sns.boxplot(data=actual_data, x='genre', y='total_sales').\\\n",
    "    set(title='Продажи по жанрам за актуальный период 2014-2016гг.', xlabel='Жанры', ylabel='Общее количество проданных копий, млн.шт.')"
   ]
  },
  {
   "cell_type": "code",
   "execution_count": 26,
   "metadata": {},
   "outputs": [
    {
     "data": {
      "text/plain": [
       "[Text(0.5, 1.0, 'Продажи по жанрам за актуальный период 2014-2016гг.'),\n",
       " Text(0.5, 0, 'Жанры'),\n",
       " Text(0, 0.5, 'Общее количество проданных копий, млн.шт.'),\n",
       " (0.0, 4.0)]"
      ]
     },
     "execution_count": 26,
     "metadata": {},
     "output_type": "execute_result"
    },
    {
     "data": {
      "image/png": "[encoded data removed]",
      "text/plain": [
       "<Figure size 1080x360 with 1 Axes>"
      ]
     },
     "metadata": {
      "needs_background": "light"
     },
     "output_type": "display_data"
    }
   ],
   "source": [
    "# построим общий график без учета выбросов\n",
    "plt.figure(figsize=(15,5))\n",
    "sns.boxplot(data=actual_data, x='genre', y='total_sales').\\\n",
    "    set(title='Продажи по жанрам за актуальный период 2014-2016гг.', xlabel='Жанры', ylabel='Общее количество проданных копий, млн.шт.', ylim=(0,4))"
   ]
  },
  {
   "cell_type": "markdown",
   "metadata": {},
   "source": [
    "Теперь мы смело можем утвердить лидеров продаж.\n",
    "\n",
    "1. Shooter. Несмотря на небольшое количество выпускаемых в данном жанре игр, мы видим что спрос на них очень высок даже без учета выбросов, то есть ТОП игр.\n",
    "2. Sports. На втором месте по уровню спроса и в дополнение имеет тоже достаточное количество выбросов.\n",
    "3. По среднему уровню продаж как ни странно, на 3-м месте игры в жанре Platform, вероятней всего данный жанр имеет своих постоянных фанатов и плюс в этой категории в целом выпускается небольшое количество игр, что и обуславливает такой интерес к ним.\n",
    "4. Отдельно стоит отметить жанр Action. Несмотря на самый большой уровень общих продаж, средние же продажи здесь далеко не на первом месте. Связано это с тем, что в этом жанре выпускается больше всего игр, в 3 раза больше чем в других жанрах. И ко всему в этом больше всего выбросов, то есть игр - звезд.\n",
    "\n",
    "Резюмируя, наиболее прибыльными можно считать игры в жанрах Shooter, Sports. "
   ]
  },
  {
   "cell_type": "code",
   "execution_count": 27,
   "metadata": {},
   "outputs": [
    {
     "data": {
      "text/html": [
       "<div>\n",
       "<style scoped>\n",
       "    .dataframe tbody tr th:only-of-type {\n",
       "        vertical-align: middle;\n",
       "    }\n",
       "\n",
       "    .dataframe tbody tr th {\n",
       "        vertical-align: top;\n",
       "    }\n",
       "\n",
       "    .dataframe thead th {\n",
       "        text-align: right;\n",
       "    }\n",
       "</style>\n",
       "<table border=\"1\" class=\"dataframe\">\n",
       "  <thead>\n",
       "    <tr style=\"text-align: right;\">\n",
       "      <th></th>\n",
       "      <th>platform</th>\n",
       "      <th>na_sales</th>\n",
       "      <th>eu_sales</th>\n",
       "      <th>jp_sales</th>\n",
       "    </tr>\n",
       "  </thead>\n",
       "  <tbody>\n",
       "    <tr>\n",
       "      <th>0</th>\n",
       "      <td>PS4</td>\n",
       "      <td>99.0</td>\n",
       "      <td>130.0</td>\n",
       "      <td>15.0</td>\n",
       "    </tr>\n",
       "    <tr>\n",
       "      <th>1</th>\n",
       "      <td>XOne</td>\n",
       "      <td>81.0</td>\n",
       "      <td>46.0</td>\n",
       "      <td>0.0</td>\n",
       "    </tr>\n",
       "    <tr>\n",
       "      <th>2</th>\n",
       "      <td>X360</td>\n",
       "      <td>28.0</td>\n",
       "      <td>15.0</td>\n",
       "      <td>0.0</td>\n",
       "    </tr>\n",
       "    <tr>\n",
       "      <th>3</th>\n",
       "      <td>3DS</td>\n",
       "      <td>23.0</td>\n",
       "      <td>16.0</td>\n",
       "      <td>44.0</td>\n",
       "    </tr>\n",
       "    <tr>\n",
       "      <th>4</th>\n",
       "      <td>PS3</td>\n",
       "      <td>22.0</td>\n",
       "      <td>26.0</td>\n",
       "      <td>11.0</td>\n",
       "    </tr>\n",
       "    <tr>\n",
       "      <th>5</th>\n",
       "      <td>Другие</td>\n",
       "      <td>19.0</td>\n",
       "      <td>13.0</td>\n",
       "      <td>7.0</td>\n",
       "    </tr>\n",
       "  </tbody>\n",
       "</table>\n",
       "</div>"
      ],
      "text/plain": [
       "  platform  na_sales  eu_sales  jp_sales\n",
       "0      PS4      99.0     130.0      15.0\n",
       "1     XOne      81.0      46.0       0.0\n",
       "2     X360      28.0      15.0       0.0\n",
       "3      3DS      23.0      16.0      44.0\n",
       "4      PS3      22.0      26.0      11.0\n",
       "5   Другие      19.0      13.0       7.0"
      ]
     },
     "execution_count": 27,
     "metadata": {},
     "output_type": "execute_result"
    }
   ],
   "source": [
    "# создаем переменную где группируем продажи по необходимым регионам и платформам\n",
    "top_platform = actual_data.groupby('platform').agg({'na_sales': 'sum', 'eu_sales': 'sum', 'jp_sales': 'sum'})\\\n",
    "    .sort_values(by='na_sales', ascending = False).round().reset_index()\n",
    "top_platform.loc[5] = ['Другие',\n",
    "                       top_platform.loc[5]['na_sales'].sum().round(2),\n",
    "                       top_platform.loc[5]['eu_sales'].sum().round(2),\n",
    "                       top_platform.loc[5]['jp_sales'].sum().round(2)]\n",
    "# выводим на экран\n",
    "top_platform[:6]"
   ]
  },
  {
   "cell_type": "code",
   "execution_count": 28,
   "metadata": {},
   "outputs": [
    {
     "data": {
      "image/png": "[encoded data removed]",
      "text/plain": [
       "<Figure size 1080x360 with 3 Axes>"
      ]
     },
     "metadata": {},
     "output_type": "display_data"
    }
   ],
   "source": [
    "# создаем список с необходимыми регионами и пишем функцию для построения диаграмм\n",
    "regions_sales = ['eu_sales', 'na_sales', 'jp_sales']\n",
    "fig, ax = plt.subplots(1, len(regions_sales), figsize=(15,5))\n",
    "for i, region in enumerate(regions_sales):\n",
    "    region_platform = actual_data.groupby('platform').agg({region: 'sum'}).sort_values(by=region, ascending=False).reset_index()\n",
    "    region_platform.loc[5] = ['Другие', region_platform.loc[5:][region].sum().round(2)]\n",
    "    region_top_platform = region_platform.head(6)        \n",
    "    ax[i].pie(region_top_platform[region], labels=region_top_platform['platform'], autopct=lambda x: f'{x:.1f}%' if x > 5 else None)\n",
    "    ax[i].set_title(region)\n",
    "plt.suptitle('ТОП-5 платформ с наибольшими продажами в Европе, Северной Америке и Японии', fontsize=14)\n",
    "plt.tight_layout()\n",
    "plt.show()"
   ]
  },
  {
   "cell_type": "markdown",
   "metadata": {},
   "source": [
    "Как наглядно видно на диаграммах, рынки Северной Америки и Европы достаточно схожи, в то время как рынок игр Японии сильно отличается от них.\n",
    "- В Америке и Европе лидер среди платформа PS4, тогда как в Японии 47,5% рынка приходится на Nintendo3DS, а PS4 на втором месте и занимает 16% рынка.\n",
    "- На втором месте в Америке и Европе Xbox One, а в Японии данной платформы практически нет.\n",
    "- Также стоит отметить что в Европе PS4 занимает 48% рынка, тогда как в Америке она хоть и лидирует, но занимает всего 34,7%, ненамного опережая XBox One с 28,6%"
   ]
  },
  {
   "cell_type": "code",
   "execution_count": 29,
   "metadata": {},
   "outputs": [
    {
     "data": {
      "text/html": [
       "<div>\n",
       "<style scoped>\n",
       "    .dataframe tbody tr th:only-of-type {\n",
       "        vertical-align: middle;\n",
       "    }\n",
       "\n",
       "    .dataframe tbody tr th {\n",
       "        vertical-align: top;\n",
       "    }\n",
       "\n",
       "    .dataframe thead th {\n",
       "        text-align: right;\n",
       "    }\n",
       "</style>\n",
       "<table border=\"1\" class=\"dataframe\">\n",
       "  <thead>\n",
       "    <tr style=\"text-align: right;\">\n",
       "      <th></th>\n",
       "      <th>genre</th>\n",
       "      <th>na_sales</th>\n",
       "      <th>eu_sales</th>\n",
       "      <th>jp_sales</th>\n",
       "    </tr>\n",
       "  </thead>\n",
       "  <tbody>\n",
       "    <tr>\n",
       "      <th>0</th>\n",
       "      <td>Shooter</td>\n",
       "      <td>79.0</td>\n",
       "      <td>66.0</td>\n",
       "      <td>5.0</td>\n",
       "    </tr>\n",
       "    <tr>\n",
       "      <th>1</th>\n",
       "      <td>Action</td>\n",
       "      <td>73.0</td>\n",
       "      <td>75.0</td>\n",
       "      <td>30.0</td>\n",
       "    </tr>\n",
       "    <tr>\n",
       "      <th>2</th>\n",
       "      <td>Sports</td>\n",
       "      <td>46.0</td>\n",
       "      <td>46.0</td>\n",
       "      <td>3.0</td>\n",
       "    </tr>\n",
       "    <tr>\n",
       "      <th>3</th>\n",
       "      <td>Role-Playing</td>\n",
       "      <td>33.0</td>\n",
       "      <td>28.0</td>\n",
       "      <td>31.0</td>\n",
       "    </tr>\n",
       "    <tr>\n",
       "      <th>4</th>\n",
       "      <td>Misc</td>\n",
       "      <td>15.0</td>\n",
       "      <td>13.0</td>\n",
       "      <td>6.0</td>\n",
       "    </tr>\n",
       "    <tr>\n",
       "      <th>5</th>\n",
       "      <td>Другие</td>\n",
       "      <td>12.0</td>\n",
       "      <td>7.0</td>\n",
       "      <td>6.0</td>\n",
       "    </tr>\n",
       "  </tbody>\n",
       "</table>\n",
       "</div>"
      ],
      "text/plain": [
       "          genre  na_sales  eu_sales  jp_sales\n",
       "0       Shooter      79.0      66.0       5.0\n",
       "1        Action      73.0      75.0      30.0\n",
       "2        Sports      46.0      46.0       3.0\n",
       "3  Role-Playing      33.0      28.0      31.0\n",
       "4          Misc      15.0      13.0       6.0\n",
       "5        Другие      12.0       7.0       6.0"
      ]
     },
     "execution_count": 29,
     "metadata": {},
     "output_type": "execute_result"
    }
   ],
   "source": [
    "# создаем переменную где группируем продажи по необходимым регионам и жанрам\n",
    "top_genre = actual_data.groupby('genre').agg({'na_sales': 'sum', 'eu_sales': 'sum', 'jp_sales': 'sum'})\\\n",
    "    .sort_values(by='na_sales', ascending = False).round().reset_index()\n",
    "top_genre.loc[5] = ['Другие',\n",
    "                       top_genre.loc[5]['na_sales'].sum().round(2),\n",
    "                       top_genre.loc[5]['eu_sales'].sum().round(2),\n",
    "                       top_genre.loc[5]['jp_sales'].sum().round(2)]\n",
    "# выводим на экран\n",
    "top_genre[:6]"
   ]
  },
  {
   "cell_type": "code",
   "execution_count": 30,
   "metadata": {},
   "outputs": [
    {
     "data": {
      "image/png": "[encoded data removed]",
      "text/plain": [
       "<Figure size 1080x360 with 3 Axes>"
      ]
     },
     "metadata": {},
     "output_type": "display_data"
    }
   ],
   "source": [
    "# создаем список с необходимыми регионами и пишем функцию для построения диаграмм\n",
    "regions_sales = ['eu_sales', 'na_sales', 'jp_sales']\n",
    "fig, ax = plt.subplots(1, len(regions_sales), figsize=(15,5))\n",
    "for i, region in enumerate(regions_sales):\n",
    "    region_genre = actual_data.groupby('genre').agg({region: 'sum'}).sort_values(by=region, ascending=False).reset_index()\n",
    "    region_genre.loc[5] = ['Другие', region_genre.loc[5:][region].sum().round(2)]\n",
    "    region_top_genre = region_genre.head(6)        \n",
    "    ax[i].pie(region_top_genre[region], labels=region_top_genre['genre'], autopct=lambda x: f'{x:.1f}%' if x > 5 else None)\n",
    "    ax[i].set_title(region)\n",
    "plt.suptitle('ТОП-5 жанров с наибольшими продажами в Европе, Северной Америке и Японии', fontsize=14)\n",
    "plt.tight_layout()\n",
    "plt.show()"
   ]
  },
  {
   "cell_type": "markdown",
   "metadata": {},
   "source": [
    "В распределении по жанрам также сохраняется достаточная разница между рынками Японии и Северной Америки и Европы.\n",
    "- В Японии лидируют ролевые и экшн игры примерно в равных долях - 33,5% и 31,8%. Тогда как в Европе и Америке преимущество за шутерами и экшенами. Правда с небольшой разницей, шутеры занимают в Европе 24,2% а в Америке 27,8%; экшены же в Европе 27,6% а в Америке - 25,5%.\n",
    "- На третьем месте по популярности в Европе и Америке спортивные игры - 16,9% и 16,2%. В Японии же спортивные игры мало пользуются спросом, и на третьем месте оказались игры имитирующие бои, файтинги. Они занимают 6,8% рынка.\n",
    "- Ролевые игры, которые в Японии пользуются наибольшим спросом, в Европе и Америке занимают 10,4% и 11,8%."
   ]
  },
  {
   "cell_type": "markdown",
   "metadata": {},
   "source": [
    "Как вывод можно отметить следующее. Портрет покупателя очень схож в Северной Америке и Европе, рынки практически идентичны. А вот Япония страна с абсолютно другой культурой и менталитетом, что хорошо отражает потребительский спрос и портрет покупателя."
   ]
  },
  {
   "cell_type": "code",
   "execution_count": 31,
   "metadata": {},
   "outputs": [
    {
     "data": {
      "image/png": "[encoded data removed]",
      "text/plain": [
       "<Figure size 1080x360 with 3 Axes>"
      ]
     },
     "metadata": {
      "needs_background": "light"
     },
     "output_type": "display_data"
    }
   ],
   "source": [
    "# строим графики распределения рейтинга по регионам\n",
    "p_rate = actual_data.pivot_table(index='rating', values=['na_sales', 'eu_sales', 'jp_sales'], aggfunc='sum')\n",
    "fig, axes = plt.subplots(1,3, figsize=(15,5))\n",
    "sns.barplot(x=p_rate.index, y=p_rate['na_sales'], ax=axes[0])\n",
    "sns.barplot(x=p_rate.index, y=p_rate['eu_sales'], ax=axes[1])\n",
    "sns.barplot(x=p_rate.index, y=p_rate['jp_sales'], ax=axes[2])\n",
    "plt.suptitle('Распределение рейтинга ESRB по регионам', fontsize=14)\n",
    "plt.show()"
   ]
  },
  {
   "cell_type": "markdown",
   "metadata": {},
   "source": [
    "Как и на предыдущих диаграммах мы видим аналогичную картину с паспределением рейтинга по регионам. Одинаковое распределение в Европе и Америке и совершенно иная картина в Японии. Как уже отмечала выше, рейтинг ESRB преимущественно распространен в США и Канаде. В Японии же его присутствие среди игр невелико. Однако даже в Америке и Европе достаточно большое количество продаваемых игр не имеют рейтинга вовсе. Из чего следует вывод, что рейтинг не имеет влияния на продажи."
   ]
  },
  {
   "cell_type": "markdown",
   "metadata": {},
   "source": [
    "## Этап. Проверка гипотез."
   ]
  },
  {
   "cell_type": "markdown",
   "metadata": {},
   "source": [
    "Проверим следующие гипотезы:\n",
    "\n",
    "- Средние пользовательские рейтинги платформ Xbox One и PC одинаковые;\n",
    "\n",
    "- Средние пользовательские рейтинги жанров Action и Sports разные."
   ]
  },
  {
   "cell_type": "code",
   "execution_count": 32,
   "metadata": {},
   "outputs": [
    {
     "name": "stdout",
     "output_type": "stream",
     "text": [
      "Средний пользовательский рейтинг Xbox One: 6.594545454545456\n",
      "Средний пользовательский рейтинг PC: 6.298360655737705\n"
     ]
    }
   ],
   "source": [
    "# определяем средний пользовательский рейтинг для платформ\n",
    "xone_rate = actual_data.query('platform == \"XOne\" and user_score > 0')['user_score']\n",
    "pc_rate = actual_data.query('platform == \"PC\" and user_score > 0')['user_score']\n",
    "\n",
    "print('Средний пользовательский рейтинг Xbox One:', xone_rate.mean())\n",
    "print('Средний пользовательский рейтинг PC:', pc_rate.mean())\n"
   ]
  },
  {
   "cell_type": "markdown",
   "metadata": {},
   "source": [
    "H0 - Средние пользовательские рейтинги платформ Xbox One и PC одинаковые.\n",
    "\n",
    "H1 - Средние пользовательские рейтинги платформ Xbox One и PC отличаются."
   ]
  },
  {
   "cell_type": "code",
   "execution_count": 33,
   "metadata": {},
   "outputs": [
    {
     "name": "stdout",
     "output_type": "stream",
     "text": [
      "p-значение: 0.11601398086668832\n",
      "Не получилось отвергнуть нулевую гипотезу.\n"
     ]
    }
   ],
   "source": [
    "#задаем критическое значение\n",
    "alpha = 0.05\n",
    "\n",
    "# проверяем нулевую гипотезу\n",
    "results = st.ttest_ind(xone_rate, pc_rate, equal_var=False)\n",
    "print('p-значение:', results.pvalue)\n",
    "\n",
    "if results.pvalue < alpha:\n",
    "    print('Отвергаем нулевую гипотезу.')\n",
    "else:\n",
    "    print('Не получилось отвергнуть нулевую гипотезу.')"
   ]
  },
  {
   "cell_type": "markdown",
   "metadata": {},
   "source": [
    "Нулевая гипотеза для проверки рейтинга платформ была сформулирована исходя из первоначального предположения что рейтинг платформ XBox One и PC одинаков. Для проверки был использован критерий - user_score. Отвергнуть нулевую гипотезу не получилось, из чего можно предположить что средний пользовательский рейтинг платформ XBox One и PC одинаковый."
   ]
  },
  {
   "cell_type": "code",
   "execution_count": 34,
   "metadata": {},
   "outputs": [
    {
     "name": "stdout",
     "output_type": "stream",
     "text": [
      "Средний пользовательский рейтинг Action: 6.760606060606061\n",
      "Средний пользовательский рейтинг Sports: 5.2251968503937\n"
     ]
    }
   ],
   "source": [
    "# определяем средний пользовательский рейтинг для жанров\n",
    "action_rate = actual_data.query('genre == \"Action\" and user_score > 0')['user_score']\n",
    "sports_rate = actual_data.query('genre == \"Sports\" and user_score > 0')['user_score']\n",
    "\n",
    "print('Средний пользовательский рейтинг Action:', action_rate.mean())\n",
    "print('Средний пользовательский рейтинг Sports:', sports_rate.mean())\n"
   ]
  },
  {
   "cell_type": "markdown",
   "metadata": {},
   "source": [
    "H0 - Средние пользовательские рейтинги жанров Action и Sports одинаковые.\n",
    "\n",
    "H1 - Средние пользовательские рейтинги жанров Action и Sports отличаются."
   ]
  },
  {
   "cell_type": "code",
   "execution_count": 35,
   "metadata": {},
   "outputs": [
    {
     "name": "stdout",
     "output_type": "stream",
     "text": [
      "p-значение: 1.1825550382644557e-14\n",
      "Отвергаем нулевую гипотезу.\n"
     ]
    }
   ],
   "source": [
    "#задаем критическое значение\n",
    "alpha = 0.05\n",
    "\n",
    "# проверяем нулевую гипотезу\n",
    "results = st.ttest_ind(action_rate, sports_rate, equal_var=False)\n",
    "print('p-значение:', results.pvalue)\n",
    "\n",
    "if results.pvalue < alpha:\n",
    "    print('Отвергаем нулевую гипотезу.')\n",
    "else:\n",
    "    print('Не получилось отвергнуть нулевую гипотезу.')"
   ]
  },
  {
   "cell_type": "markdown",
   "metadata": {},
   "source": [
    "Нулевая гипотеза для проверки рейтинга жанров была сформулирована исходя из первоначального предположения что рейтинг жанров Action и Sports одинаковые. Для проверки был использован критерий - user_score. У нас получилось отвергнуть нулевую гипотезу, что с большой долей вероятности означает что средний пользовательский рейтинг игр в жанрах Action и Sports отличается."
   ]
  },
  {
   "cell_type": "markdown",
   "metadata": {},
   "source": [
    "## Общие выводы и рекомендации."
   ]
  },
  {
   "cell_type": "markdown",
   "metadata": {},
   "source": [
    "Был изучен и проанализирован файл с данными о продажах компьютерных игр в мире за период 1980-2016 года. В ходе анализа была произведена обработка данных:\n",
    "    - обработаны пропуски в данных\n",
    "    - обработаны дубликаты в рейтинге\n",
    "    - добавлены общие продажи по всем регионам\n",
    "    - построены и изучены графики и диаграммы\n",
    " \n",
    "<b> Основные выводы: </b>\n",
    "\n",
    "1. Резкий скачок в выпуске игр можно наблюдать с 2000 года, пик продаж приходится на 2008 год, тогда в год выпускалось порядка 1400 игр. С 2010 года наблюдается спад в выпуске игр, и на данный момент ежегодно выходит порядка 400-600 игр в год.\n",
    "\n",
    "2. Средняя продолжительность жизни одной игровой платформы около 10 лет. Новые платформы появляются каждые пару лет. Наиболее актуальна платформа в первые 5 лет своей жизни.\n",
    "\n",
    "3. На данный момент времени, в лидерах среди платформ в Европе и Америке – PS4 и Xbox One, в Японии – Nintendo 3DS и PS4.\n",
    "Взаимосвязь между оценками пользователей и критиков и популярностью игр слабая, поэтому параметр оценки можно использовать лишь как дополнительный фактор.\n",
    "4. Самым популярными жанрами компьютерных игр в Европе и Америке является Action, Shooter и Sports. В Японии – Role-Playing, Action и Fighting.\n",
    "\n",
    "\n",
    "<b> Рекомендации для маркетинговой кампании на 2017 год: </b>\n",
    "\n",
    "Поскольку ориентироваться мы будем на европейский рынок компьютерных игр, при составлении маркетинговой кампании рекомендуется сделать основной упор на последние модели платформ: PS4, Xbox One, WiiU. Игры преимущественно в Shooter, Sports. Но не стоит совсем забывать про другие жанры, среди них также встречаются топовые игры.\n"
   ]
  },
  {
   "cell_type": "code",
   "execution_count": null,
   "metadata": {},
   "outputs": [],
   "source": []
  }
 ],
 "metadata": {
  "ExecuteTimeLog": [
   {
    "duration": 73,
    "start_time": "2023-01-09T09:51:06.041Z"
   },
   {
    "duration": 499,
    "start_time": "2023-01-09T12:49:34.563Z"
   },
   {
    "duration": 54,
    "start_time": "2023-01-09T12:49:47.604Z"
   },
   {
    "duration": 48,
    "start_time": "2023-01-09T13:52:20.627Z"
   },
   {
    "duration": 977,
    "start_time": "2023-01-09T13:53:44.662Z"
   },
   {
    "duration": 9,
    "start_time": "2023-01-09T13:55:33.528Z"
   },
   {
    "duration": 3,
    "start_time": "2023-01-09T13:55:47.227Z"
   },
   {
    "duration": 7,
    "start_time": "2023-01-09T13:55:58.343Z"
   },
   {
    "duration": 7,
    "start_time": "2023-01-09T14:00:24.228Z"
   },
   {
    "duration": 8,
    "start_time": "2023-01-09T14:00:37.767Z"
   },
   {
    "duration": 7,
    "start_time": "2023-01-09T14:00:52.937Z"
   },
   {
    "duration": 2,
    "start_time": "2023-01-09T14:01:02.357Z"
   },
   {
    "duration": 6,
    "start_time": "2023-01-09T14:01:04.535Z"
   },
   {
    "duration": 54,
    "start_time": "2023-01-09T14:01:07.442Z"
   },
   {
    "duration": 13,
    "start_time": "2023-01-09T14:01:11.694Z"
   },
   {
    "duration": 3,
    "start_time": "2023-01-09T14:01:27.052Z"
   },
   {
    "duration": 13,
    "start_time": "2023-01-09T14:01:29.269Z"
   },
   {
    "duration": 3,
    "start_time": "2023-01-09T14:02:10.665Z"
   },
   {
    "duration": 14,
    "start_time": "2023-01-09T14:07:04.694Z"
   },
   {
    "duration": 59,
    "start_time": "2023-01-09T14:07:24.495Z"
   },
   {
    "duration": 58,
    "start_time": "2023-01-09T14:07:49.198Z"
   },
   {
    "duration": 794,
    "start_time": "2023-01-09T14:16:09.951Z"
   },
   {
    "duration": 62,
    "start_time": "2023-01-09T14:16:20.493Z"
   },
   {
    "duration": 3,
    "start_time": "2023-01-09T14:16:23.665Z"
   },
   {
    "duration": 9,
    "start_time": "2023-01-09T14:16:26.973Z"
   },
   {
    "duration": 6,
    "start_time": "2023-01-09T14:23:33.679Z"
   },
   {
    "duration": 13,
    "start_time": "2023-01-09T14:29:59.628Z"
   },
   {
    "duration": 12,
    "start_time": "2023-01-09T14:30:33.658Z"
   },
   {
    "duration": 801,
    "start_time": "2023-01-09T14:31:19.214Z"
   },
   {
    "duration": 5,
    "start_time": "2023-01-09T14:31:39.526Z"
   },
   {
    "duration": 6,
    "start_time": "2023-01-09T16:04:39.373Z"
   },
   {
    "duration": 78,
    "start_time": "2023-01-09T16:05:57.018Z"
   },
   {
    "duration": 3,
    "start_time": "2023-01-09T16:05:57.098Z"
   },
   {
    "duration": 7,
    "start_time": "2023-01-09T16:05:57.103Z"
   },
   {
    "duration": 6,
    "start_time": "2023-01-09T16:05:59.295Z"
   },
   {
    "duration": 16,
    "start_time": "2023-01-09T16:06:34.829Z"
   },
   {
    "duration": 8,
    "start_time": "2023-01-09T16:12:39.409Z"
   },
   {
    "duration": 716,
    "start_time": "2023-01-09T18:43:39.321Z"
   },
   {
    "duration": 4,
    "start_time": "2023-01-09T18:43:40.039Z"
   },
   {
    "duration": 26,
    "start_time": "2023-01-09T18:43:40.044Z"
   },
   {
    "duration": 22,
    "start_time": "2023-01-09T18:43:40.073Z"
   },
   {
    "duration": 12,
    "start_time": "2023-01-09T18:43:40.096Z"
   },
   {
    "duration": 68,
    "start_time": "2023-01-09T18:43:59.354Z"
   },
   {
    "duration": 16,
    "start_time": "2023-01-09T18:44:17.370Z"
   },
   {
    "duration": 14,
    "start_time": "2023-01-09T18:44:30.520Z"
   },
   {
    "duration": 17,
    "start_time": "2023-01-09T18:44:43.843Z"
   },
   {
    "duration": 77,
    "start_time": "2023-01-09T18:44:48.645Z"
   },
   {
    "duration": 4,
    "start_time": "2023-01-09T18:44:48.724Z"
   },
   {
    "duration": 27,
    "start_time": "2023-01-09T18:44:48.729Z"
   },
   {
    "duration": 39,
    "start_time": "2023-01-09T18:44:48.758Z"
   },
   {
    "duration": 35,
    "start_time": "2023-01-09T18:44:48.799Z"
   },
   {
    "duration": 29,
    "start_time": "2023-01-09T18:44:48.836Z"
   },
   {
    "duration": 14,
    "start_time": "2023-01-09T18:44:51.929Z"
   },
   {
    "duration": 4,
    "start_time": "2023-01-09T18:45:06.312Z"
   },
   {
    "duration": 12,
    "start_time": "2023-01-09T18:45:11.142Z"
   },
   {
    "duration": 11,
    "start_time": "2023-01-09T18:46:08.843Z"
   },
   {
    "duration": 15,
    "start_time": "2023-01-09T18:46:26.685Z"
   },
   {
    "duration": 21,
    "start_time": "2023-01-09T18:46:39.182Z"
   },
   {
    "duration": 3,
    "start_time": "2023-01-09T18:53:06.144Z"
   },
   {
    "duration": 15,
    "start_time": "2023-01-09T18:53:28.053Z"
   },
   {
    "duration": 12,
    "start_time": "2023-01-09T18:53:45.858Z"
   },
   {
    "duration": 8,
    "start_time": "2023-01-09T18:53:58.423Z"
   },
   {
    "duration": 10,
    "start_time": "2023-01-09T18:53:59.613Z"
   },
   {
    "duration": 8,
    "start_time": "2023-01-09T21:04:10.042Z"
   },
   {
    "duration": 5,
    "start_time": "2023-01-09T21:04:31.137Z"
   },
   {
    "duration": 76,
    "start_time": "2023-01-09T21:04:56.306Z"
   },
   {
    "duration": 1118,
    "start_time": "2023-01-09T21:05:01.054Z"
   },
   {
    "duration": 6,
    "start_time": "2023-01-09T21:05:09.148Z"
   },
   {
    "duration": 69,
    "start_time": "2023-01-09T21:05:49.838Z"
   },
   {
    "duration": 13,
    "start_time": "2023-01-09T21:06:06.780Z"
   },
   {
    "duration": 23,
    "start_time": "2023-01-09T21:06:20.175Z"
   },
   {
    "duration": 7,
    "start_time": "2023-01-09T21:10:39.645Z"
   },
   {
    "duration": 621,
    "start_time": "2023-01-10T10:21:18.261Z"
   },
   {
    "duration": 3,
    "start_time": "2023-01-10T10:21:18.884Z"
   },
   {
    "duration": 12,
    "start_time": "2023-01-10T10:21:18.889Z"
   },
   {
    "duration": 20,
    "start_time": "2023-01-10T10:21:18.903Z"
   },
   {
    "duration": 18,
    "start_time": "2023-01-10T10:21:18.925Z"
   },
   {
    "duration": 9,
    "start_time": "2023-01-10T10:21:18.945Z"
   },
   {
    "duration": 10,
    "start_time": "2023-01-10T10:21:18.956Z"
   },
   {
    "duration": 10,
    "start_time": "2023-01-10T10:21:18.968Z"
   },
   {
    "duration": 8,
    "start_time": "2023-01-10T10:21:18.980Z"
   },
   {
    "duration": 19,
    "start_time": "2023-01-10T10:27:01.850Z"
   },
   {
    "duration": 78,
    "start_time": "2023-01-10T10:27:18.075Z"
   },
   {
    "duration": 36,
    "start_time": "2023-01-10T10:27:18.155Z"
   },
   {
    "duration": 15,
    "start_time": "2023-01-10T10:27:18.193Z"
   },
   {
    "duration": 31,
    "start_time": "2023-01-10T10:27:18.210Z"
   },
   {
    "duration": 15,
    "start_time": "2023-01-10T10:27:19.781Z"
   },
   {
    "duration": 24,
    "start_time": "2023-01-10T10:27:21.608Z"
   },
   {
    "duration": 73,
    "start_time": "2023-01-10T10:39:15.267Z"
   },
   {
    "duration": 13,
    "start_time": "2023-01-10T10:39:25.632Z"
   },
   {
    "duration": 13,
    "start_time": "2023-01-10T10:39:28.093Z"
   },
   {
    "duration": 10,
    "start_time": "2023-01-10T10:39:29.491Z"
   },
   {
    "duration": 44,
    "start_time": "2023-01-10T10:39:46.072Z"
   },
   {
    "duration": 30,
    "start_time": "2023-01-10T10:40:00.516Z"
   },
   {
    "duration": 12,
    "start_time": "2023-01-10T10:42:14.938Z"
   },
   {
    "duration": 23,
    "start_time": "2023-01-10T10:43:50.829Z"
   },
   {
    "duration": 21,
    "start_time": "2023-01-10T11:02:42.486Z"
   },
   {
    "duration": 42,
    "start_time": "2023-01-10T11:23:36.129Z"
   },
   {
    "duration": 19,
    "start_time": "2023-01-10T11:23:56.966Z"
   },
   {
    "duration": 13,
    "start_time": "2023-01-10T11:24:06.571Z"
   },
   {
    "duration": 9,
    "start_time": "2023-01-10T11:26:05.891Z"
   },
   {
    "duration": 24,
    "start_time": "2023-01-10T11:28:02.643Z"
   },
   {
    "duration": 6,
    "start_time": "2023-01-10T11:28:24.090Z"
   },
   {
    "duration": 11,
    "start_time": "2023-01-10T11:28:25.560Z"
   },
   {
    "duration": 76,
    "start_time": "2023-01-10T11:28:48.378Z"
   },
   {
    "duration": 4,
    "start_time": "2023-01-10T11:28:48.456Z"
   },
   {
    "duration": 12,
    "start_time": "2023-01-10T11:28:48.461Z"
   },
   {
    "duration": 12,
    "start_time": "2023-01-10T11:28:50.659Z"
   },
   {
    "duration": 11,
    "start_time": "2023-01-10T11:31:09.704Z"
   },
   {
    "duration": 9,
    "start_time": "2023-01-10T11:31:35.306Z"
   },
   {
    "duration": 11,
    "start_time": "2023-01-10T11:31:58.386Z"
   },
   {
    "duration": 23,
    "start_time": "2023-01-10T11:32:05.049Z"
   },
   {
    "duration": 10,
    "start_time": "2023-01-10T11:34:32.975Z"
   },
   {
    "duration": 7,
    "start_time": "2023-01-10T11:44:07.108Z"
   },
   {
    "duration": 4,
    "start_time": "2023-01-10T11:44:44.417Z"
   },
   {
    "duration": 76,
    "start_time": "2023-01-10T11:45:06.599Z"
   },
   {
    "duration": 3,
    "start_time": "2023-01-10T11:45:06.677Z"
   },
   {
    "duration": 12,
    "start_time": "2023-01-10T11:45:06.682Z"
   },
   {
    "duration": 16,
    "start_time": "2023-01-10T11:45:06.695Z"
   },
   {
    "duration": 12,
    "start_time": "2023-01-10T11:45:06.721Z"
   },
   {
    "duration": 18,
    "start_time": "2023-01-10T11:45:06.735Z"
   },
   {
    "duration": 9,
    "start_time": "2023-01-10T11:45:06.755Z"
   },
   {
    "duration": 23,
    "start_time": "2023-01-10T11:45:06.766Z"
   },
   {
    "duration": 37,
    "start_time": "2023-01-10T11:45:06.790Z"
   },
   {
    "duration": 13,
    "start_time": "2023-01-10T11:45:06.829Z"
   },
   {
    "duration": 9,
    "start_time": "2023-01-10T11:45:06.844Z"
   },
   {
    "duration": 14,
    "start_time": "2023-01-10T11:52:11.852Z"
   },
   {
    "duration": 78,
    "start_time": "2023-01-10T11:52:27.583Z"
   },
   {
    "duration": 3,
    "start_time": "2023-01-10T11:52:27.663Z"
   },
   {
    "duration": 24,
    "start_time": "2023-01-10T11:52:27.668Z"
   },
   {
    "duration": 50,
    "start_time": "2023-01-10T11:52:27.693Z"
   },
   {
    "duration": 51,
    "start_time": "2023-01-10T11:52:27.745Z"
   },
   {
    "duration": 38,
    "start_time": "2023-01-10T11:52:27.798Z"
   },
   {
    "duration": 31,
    "start_time": "2023-01-10T11:52:27.838Z"
   },
   {
    "duration": 42,
    "start_time": "2023-01-10T11:52:27.870Z"
   },
   {
    "duration": 38,
    "start_time": "2023-01-10T11:52:27.913Z"
   },
   {
    "duration": 38,
    "start_time": "2023-01-10T11:52:27.953Z"
   },
   {
    "duration": 33,
    "start_time": "2023-01-10T11:52:27.993Z"
   },
   {
    "duration": 10,
    "start_time": "2023-01-10T11:52:54.244Z"
   },
   {
    "duration": 13,
    "start_time": "2023-01-10T11:53:00.970Z"
   },
   {
    "duration": 18,
    "start_time": "2023-01-10T11:54:31.757Z"
   },
   {
    "duration": 15,
    "start_time": "2023-01-10T11:54:34.268Z"
   },
   {
    "duration": 19,
    "start_time": "2023-01-10T12:05:49.575Z"
   },
   {
    "duration": 6,
    "start_time": "2023-01-10T12:07:36.896Z"
   },
   {
    "duration": 22,
    "start_time": "2023-01-10T12:07:38.549Z"
   },
   {
    "duration": 32,
    "start_time": "2023-01-10T12:07:49.917Z"
   },
   {
    "duration": 18,
    "start_time": "2023-01-10T12:07:57.342Z"
   },
   {
    "duration": 92,
    "start_time": "2023-01-10T12:27:21.078Z"
   },
   {
    "duration": 87,
    "start_time": "2023-01-10T12:27:56.884Z"
   },
   {
    "duration": 3,
    "start_time": "2023-01-10T12:27:56.974Z"
   },
   {
    "duration": 10,
    "start_time": "2023-01-10T12:27:56.978Z"
   },
   {
    "duration": 14,
    "start_time": "2023-01-10T12:27:56.989Z"
   },
   {
    "duration": 26,
    "start_time": "2023-01-10T12:27:57.021Z"
   },
   {
    "duration": 16,
    "start_time": "2023-01-10T12:27:57.049Z"
   },
   {
    "duration": 5,
    "start_time": "2023-01-10T12:27:57.067Z"
   },
   {
    "duration": 23,
    "start_time": "2023-01-10T12:27:57.075Z"
   },
   {
    "duration": 31,
    "start_time": "2023-01-10T12:27:57.100Z"
   },
   {
    "duration": 15,
    "start_time": "2023-01-10T12:27:57.133Z"
   },
   {
    "duration": 24,
    "start_time": "2023-01-10T12:27:57.150Z"
   },
   {
    "duration": 18,
    "start_time": "2023-01-10T12:27:57.175Z"
   },
   {
    "duration": 40,
    "start_time": "2023-01-10T12:27:57.195Z"
   },
   {
    "duration": 15,
    "start_time": "2023-01-10T12:27:57.239Z"
   },
   {
    "duration": 15,
    "start_time": "2023-01-10T12:27:57.256Z"
   },
   {
    "duration": 122,
    "start_time": "2023-01-10T12:27:59.320Z"
   },
   {
    "duration": 101,
    "start_time": "2023-01-10T12:28:11.497Z"
   },
   {
    "duration": 84,
    "start_time": "2023-01-10T12:28:14.722Z"
   },
   {
    "duration": 715,
    "start_time": "2023-01-10T12:28:35.590Z"
   },
   {
    "duration": 84,
    "start_time": "2023-01-10T12:29:09.511Z"
   },
   {
    "duration": 95,
    "start_time": "2023-01-10T12:29:22.572Z"
   },
   {
    "duration": 286,
    "start_time": "2023-01-10T12:29:34.314Z"
   },
   {
    "duration": 269,
    "start_time": "2023-01-10T12:29:54.277Z"
   },
   {
    "duration": 210,
    "start_time": "2023-01-10T12:34:40.940Z"
   },
   {
    "duration": 317,
    "start_time": "2023-01-10T12:34:47.645Z"
   },
   {
    "duration": 246,
    "start_time": "2023-01-10T12:34:57.440Z"
   },
   {
    "duration": 248,
    "start_time": "2023-01-10T12:35:09.608Z"
   },
   {
    "duration": 15,
    "start_time": "2023-01-10T12:50:35.749Z"
   },
   {
    "duration": 19,
    "start_time": "2023-01-10T12:51:18.534Z"
   },
   {
    "duration": 9,
    "start_time": "2023-01-10T12:51:27.494Z"
   },
   {
    "duration": 6,
    "start_time": "2023-01-10T12:54:59.087Z"
   },
   {
    "duration": 3,
    "start_time": "2023-01-10T12:57:06.351Z"
   },
   {
    "duration": 5,
    "start_time": "2023-01-10T12:57:19.922Z"
   },
   {
    "duration": 5,
    "start_time": "2023-01-10T12:57:35.781Z"
   },
   {
    "duration": 7,
    "start_time": "2023-01-10T12:59:09.403Z"
   },
   {
    "duration": 9,
    "start_time": "2023-01-10T13:05:05.239Z"
   },
   {
    "duration": 7,
    "start_time": "2023-01-10T13:05:12.200Z"
   },
   {
    "duration": 14,
    "start_time": "2023-01-10T13:30:04.925Z"
   },
   {
    "duration": 7,
    "start_time": "2023-01-10T13:30:36.122Z"
   },
   {
    "duration": 7,
    "start_time": "2023-01-10T13:30:53.458Z"
   },
   {
    "duration": 7,
    "start_time": "2023-01-10T13:37:33.286Z"
   },
   {
    "duration": 46,
    "start_time": "2023-01-10T14:16:47.692Z"
   },
   {
    "duration": 607,
    "start_time": "2023-01-10T14:16:52.683Z"
   },
   {
    "duration": 2,
    "start_time": "2023-01-10T14:16:53.292Z"
   },
   {
    "duration": 7,
    "start_time": "2023-01-10T14:16:53.296Z"
   },
   {
    "duration": 12,
    "start_time": "2023-01-10T14:16:53.305Z"
   },
   {
    "duration": 12,
    "start_time": "2023-01-10T14:16:53.318Z"
   },
   {
    "duration": 16,
    "start_time": "2023-01-10T14:16:53.331Z"
   },
   {
    "duration": 7,
    "start_time": "2023-01-10T14:16:53.349Z"
   },
   {
    "duration": 22,
    "start_time": "2023-01-10T14:16:53.357Z"
   },
   {
    "duration": 27,
    "start_time": "2023-01-10T14:16:53.382Z"
   },
   {
    "duration": 12,
    "start_time": "2023-01-10T14:16:53.411Z"
   },
   {
    "duration": 27,
    "start_time": "2023-01-10T14:16:53.425Z"
   },
   {
    "duration": 27,
    "start_time": "2023-01-10T14:16:53.454Z"
   },
   {
    "duration": 32,
    "start_time": "2023-01-10T14:16:53.483Z"
   },
   {
    "duration": 34,
    "start_time": "2023-01-10T14:16:53.517Z"
   },
   {
    "duration": 27,
    "start_time": "2023-01-10T14:16:53.553Z"
   },
   {
    "duration": 580,
    "start_time": "2023-01-10T14:16:53.582Z"
   },
   {
    "duration": 49,
    "start_time": "2023-01-10T14:17:00.250Z"
   },
   {
    "duration": 219,
    "start_time": "2023-01-10T14:17:17.138Z"
   },
   {
    "duration": 66,
    "start_time": "2023-01-10T14:17:58.039Z"
   },
   {
    "duration": 11,
    "start_time": "2023-01-10T14:18:09.234Z"
   },
   {
    "duration": 12,
    "start_time": "2023-01-10T14:20:08.238Z"
   },
   {
    "duration": 909,
    "start_time": "2023-01-10T14:28:24.871Z"
   },
   {
    "duration": 3,
    "start_time": "2023-01-10T14:28:25.782Z"
   },
   {
    "duration": 16,
    "start_time": "2023-01-10T14:28:25.786Z"
   },
   {
    "duration": 31,
    "start_time": "2023-01-10T14:28:25.803Z"
   },
   {
    "duration": 11,
    "start_time": "2023-01-10T14:28:25.836Z"
   },
   {
    "duration": 16,
    "start_time": "2023-01-10T14:28:25.848Z"
   },
   {
    "duration": 4,
    "start_time": "2023-01-10T14:28:25.866Z"
   },
   {
    "duration": 23,
    "start_time": "2023-01-10T14:28:25.871Z"
   },
   {
    "duration": 15,
    "start_time": "2023-01-10T14:28:25.895Z"
   },
   {
    "duration": 11,
    "start_time": "2023-01-10T14:28:25.912Z"
   },
   {
    "duration": 15,
    "start_time": "2023-01-10T14:28:25.924Z"
   },
   {
    "duration": 14,
    "start_time": "2023-01-10T14:28:25.940Z"
   },
   {
    "duration": 24,
    "start_time": "2023-01-10T14:28:25.955Z"
   },
   {
    "duration": 12,
    "start_time": "2023-01-10T14:28:25.980Z"
   },
   {
    "duration": 7,
    "start_time": "2023-01-10T14:28:25.994Z"
   },
   {
    "duration": 199,
    "start_time": "2023-01-10T14:28:26.003Z"
   },
   {
    "duration": 232,
    "start_time": "2023-01-10T14:28:34.297Z"
   },
   {
    "duration": 104,
    "start_time": "2023-01-10T14:29:00.833Z"
   },
   {
    "duration": 76,
    "start_time": "2023-01-10T14:29:19.970Z"
   },
   {
    "duration": 15,
    "start_time": "2023-01-10T14:29:28.527Z"
   },
   {
    "duration": 11,
    "start_time": "2023-01-10T14:29:37.478Z"
   },
   {
    "duration": 11,
    "start_time": "2023-01-10T14:29:50.214Z"
   },
   {
    "duration": 70,
    "start_time": "2023-01-10T14:29:54.103Z"
   },
   {
    "duration": 3,
    "start_time": "2023-01-10T14:29:54.175Z"
   },
   {
    "duration": 17,
    "start_time": "2023-01-10T14:29:54.179Z"
   },
   {
    "duration": 16,
    "start_time": "2023-01-10T14:29:54.198Z"
   },
   {
    "duration": 9,
    "start_time": "2023-01-10T14:29:54.216Z"
   },
   {
    "duration": 20,
    "start_time": "2023-01-10T14:29:54.226Z"
   },
   {
    "duration": 4,
    "start_time": "2023-01-10T14:29:54.247Z"
   },
   {
    "duration": 17,
    "start_time": "2023-01-10T14:29:54.253Z"
   },
   {
    "duration": 15,
    "start_time": "2023-01-10T14:29:54.272Z"
   },
   {
    "duration": 11,
    "start_time": "2023-01-10T14:29:54.288Z"
   },
   {
    "duration": 8,
    "start_time": "2023-01-10T14:29:54.300Z"
   },
   {
    "duration": 13,
    "start_time": "2023-01-10T14:29:54.309Z"
   },
   {
    "duration": 14,
    "start_time": "2023-01-10T14:29:54.323Z"
   },
   {
    "duration": 13,
    "start_time": "2023-01-10T14:29:54.339Z"
   },
   {
    "duration": 5,
    "start_time": "2023-01-10T14:29:54.376Z"
   },
   {
    "duration": 183,
    "start_time": "2023-01-10T14:29:54.382Z"
   },
   {
    "duration": 5,
    "start_time": "2023-01-10T14:29:58.539Z"
   },
   {
    "duration": 28,
    "start_time": "2023-01-10T14:30:04.303Z"
   },
   {
    "duration": 277,
    "start_time": "2023-01-10T14:30:45.011Z"
   },
   {
    "duration": 202,
    "start_time": "2023-01-10T14:33:58.132Z"
   },
   {
    "duration": 292,
    "start_time": "2023-01-10T14:46:02.033Z"
   },
   {
    "duration": 28,
    "start_time": "2023-01-10T14:47:37.817Z"
   },
   {
    "duration": 27,
    "start_time": "2023-01-10T14:47:44.456Z"
   },
   {
    "duration": 71,
    "start_time": "2023-01-10T14:47:49.082Z"
   },
   {
    "duration": 3,
    "start_time": "2023-01-10T14:47:49.155Z"
   },
   {
    "duration": 8,
    "start_time": "2023-01-10T14:47:49.159Z"
   },
   {
    "duration": 10,
    "start_time": "2023-01-10T14:47:49.169Z"
   },
   {
    "duration": 10,
    "start_time": "2023-01-10T14:47:49.181Z"
   },
   {
    "duration": 12,
    "start_time": "2023-01-10T14:47:49.193Z"
   },
   {
    "duration": 4,
    "start_time": "2023-01-10T14:47:49.206Z"
   },
   {
    "duration": 16,
    "start_time": "2023-01-10T14:47:49.211Z"
   },
   {
    "duration": 18,
    "start_time": "2023-01-10T14:47:49.228Z"
   },
   {
    "duration": 10,
    "start_time": "2023-01-10T14:47:49.276Z"
   },
   {
    "duration": 8,
    "start_time": "2023-01-10T14:47:49.288Z"
   },
   {
    "duration": 12,
    "start_time": "2023-01-10T14:47:49.297Z"
   },
   {
    "duration": 11,
    "start_time": "2023-01-10T14:47:49.311Z"
   },
   {
    "duration": 13,
    "start_time": "2023-01-10T14:47:49.324Z"
   },
   {
    "duration": 5,
    "start_time": "2023-01-10T14:47:49.339Z"
   },
   {
    "duration": 191,
    "start_time": "2023-01-10T14:47:49.376Z"
   },
   {
    "duration": 271,
    "start_time": "2023-01-10T14:48:45.316Z"
   },
   {
    "duration": 211,
    "start_time": "2023-01-10T14:49:23.483Z"
   },
   {
    "duration": 269,
    "start_time": "2023-01-10T14:50:07.384Z"
   },
   {
    "duration": 263,
    "start_time": "2023-01-10T14:50:18.832Z"
   },
   {
    "duration": 319,
    "start_time": "2023-01-10T14:50:52.573Z"
   },
   {
    "duration": 261,
    "start_time": "2023-01-10T14:51:10.545Z"
   },
   {
    "duration": 262,
    "start_time": "2023-01-10T14:51:31.555Z"
   },
   {
    "duration": 9,
    "start_time": "2023-01-10T16:08:20.117Z"
   },
   {
    "duration": 81,
    "start_time": "2023-01-10T16:08:25.089Z"
   },
   {
    "duration": 3,
    "start_time": "2023-01-10T16:08:25.172Z"
   },
   {
    "duration": 11,
    "start_time": "2023-01-10T16:08:25.177Z"
   },
   {
    "duration": 13,
    "start_time": "2023-01-10T16:08:25.190Z"
   },
   {
    "duration": 9,
    "start_time": "2023-01-10T16:08:25.205Z"
   },
   {
    "duration": 17,
    "start_time": "2023-01-10T16:08:25.216Z"
   },
   {
    "duration": 6,
    "start_time": "2023-01-10T16:08:25.235Z"
   },
   {
    "duration": 39,
    "start_time": "2023-01-10T16:08:25.243Z"
   },
   {
    "duration": 22,
    "start_time": "2023-01-10T16:08:25.284Z"
   },
   {
    "duration": 19,
    "start_time": "2023-01-10T16:08:25.308Z"
   },
   {
    "duration": 31,
    "start_time": "2023-01-10T16:08:25.329Z"
   },
   {
    "duration": 25,
    "start_time": "2023-01-10T16:08:25.362Z"
   },
   {
    "duration": 12,
    "start_time": "2023-01-10T16:08:25.389Z"
   },
   {
    "duration": 15,
    "start_time": "2023-01-10T16:08:25.404Z"
   },
   {
    "duration": 6,
    "start_time": "2023-01-10T16:08:25.422Z"
   },
   {
    "duration": 317,
    "start_time": "2023-01-10T16:08:25.430Z"
   },
   {
    "duration": 285,
    "start_time": "2023-01-10T16:08:25.749Z"
   },
   {
    "duration": 278,
    "start_time": "2023-01-10T16:08:28.817Z"
   },
   {
    "duration": 9,
    "start_time": "2023-01-10T16:08:35.810Z"
   },
   {
    "duration": 4,
    "start_time": "2023-01-10T16:08:44.550Z"
   },
   {
    "duration": 6,
    "start_time": "2023-01-10T16:09:20.168Z"
   },
   {
    "duration": 10,
    "start_time": "2023-01-10T16:09:36.456Z"
   },
   {
    "duration": 14,
    "start_time": "2023-01-10T16:10:36.129Z"
   },
   {
    "duration": 8,
    "start_time": "2023-01-10T16:10:47.112Z"
   },
   {
    "duration": 13,
    "start_time": "2023-01-10T16:10:54.068Z"
   },
   {
    "duration": 8,
    "start_time": "2023-01-10T16:11:36.367Z"
   },
   {
    "duration": 18,
    "start_time": "2023-01-10T16:11:58.988Z"
   },
   {
    "duration": 20,
    "start_time": "2023-01-10T16:12:40.954Z"
   },
   {
    "duration": 20,
    "start_time": "2023-01-10T16:12:49.346Z"
   },
   {
    "duration": 36,
    "start_time": "2023-01-10T16:13:24.727Z"
   },
   {
    "duration": 270,
    "start_time": "2023-01-10T16:15:01.950Z"
   },
   {
    "duration": 298,
    "start_time": "2023-01-10T16:15:15.413Z"
   },
   {
    "duration": 238,
    "start_time": "2023-01-10T16:15:28.422Z"
   },
   {
    "duration": 223,
    "start_time": "2023-01-10T16:15:54.544Z"
   },
   {
    "duration": 248,
    "start_time": "2023-01-10T16:16:06.770Z"
   },
   {
    "duration": 253,
    "start_time": "2023-01-10T16:16:13.566Z"
   },
   {
    "duration": 231,
    "start_time": "2023-01-10T16:16:23.037Z"
   },
   {
    "duration": 261,
    "start_time": "2023-01-10T16:16:30.573Z"
   },
   {
    "duration": 311,
    "start_time": "2023-01-10T16:16:41.902Z"
   },
   {
    "duration": 303,
    "start_time": "2023-01-10T16:22:05.728Z"
   },
   {
    "duration": 251,
    "start_time": "2023-01-10T16:23:36.219Z"
   },
   {
    "duration": 242,
    "start_time": "2023-01-10T16:49:03.558Z"
   },
   {
    "duration": 266,
    "start_time": "2023-01-10T16:49:22.224Z"
   },
   {
    "duration": 966,
    "start_time": "2023-01-10T20:18:22.204Z"
   },
   {
    "duration": 3,
    "start_time": "2023-01-10T20:18:23.172Z"
   },
   {
    "duration": 12,
    "start_time": "2023-01-10T20:18:23.177Z"
   },
   {
    "duration": 14,
    "start_time": "2023-01-10T20:18:23.191Z"
   },
   {
    "duration": 11,
    "start_time": "2023-01-10T20:18:23.209Z"
   },
   {
    "duration": 25,
    "start_time": "2023-01-10T20:18:23.222Z"
   },
   {
    "duration": 8,
    "start_time": "2023-01-10T20:18:23.249Z"
   },
   {
    "duration": 41,
    "start_time": "2023-01-10T20:18:23.260Z"
   },
   {
    "duration": 17,
    "start_time": "2023-01-10T20:18:23.303Z"
   },
   {
    "duration": 12,
    "start_time": "2023-01-10T20:18:23.321Z"
   },
   {
    "duration": 8,
    "start_time": "2023-01-10T20:18:23.335Z"
   },
   {
    "duration": 12,
    "start_time": "2023-01-10T20:18:23.345Z"
   },
   {
    "duration": 43,
    "start_time": "2023-01-10T20:18:23.358Z"
   },
   {
    "duration": 14,
    "start_time": "2023-01-10T20:18:23.404Z"
   },
   {
    "duration": 5,
    "start_time": "2023-01-10T20:18:23.420Z"
   },
   {
    "duration": 255,
    "start_time": "2023-01-10T20:18:23.427Z"
   },
   {
    "duration": 334,
    "start_time": "2023-01-10T20:18:23.684Z"
   },
   {
    "duration": 305,
    "start_time": "2023-01-10T20:18:49.300Z"
   },
   {
    "duration": 286,
    "start_time": "2023-01-10T20:18:56.796Z"
   },
   {
    "duration": 361,
    "start_time": "2023-01-10T20:19:15.213Z"
   },
   {
    "duration": 277,
    "start_time": "2023-01-10T20:19:27.366Z"
   },
   {
    "duration": 348,
    "start_time": "2023-01-10T20:19:46.070Z"
   },
   {
    "duration": 250,
    "start_time": "2023-01-10T20:20:13.928Z"
   },
   {
    "duration": 349,
    "start_time": "2023-01-10T20:35:48.329Z"
   },
   {
    "duration": 291,
    "start_time": "2023-01-10T20:36:28.947Z"
   },
   {
    "duration": 276,
    "start_time": "2023-01-10T20:36:56.558Z"
   },
   {
    "duration": 245,
    "start_time": "2023-01-10T20:37:23.300Z"
   },
   {
    "duration": 6,
    "start_time": "2023-01-10T20:40:30.519Z"
   },
   {
    "duration": 16,
    "start_time": "2023-01-10T20:40:42.534Z"
   },
   {
    "duration": 13,
    "start_time": "2023-01-10T20:40:51.552Z"
   },
   {
    "duration": 6,
    "start_time": "2023-01-10T20:41:17.324Z"
   },
   {
    "duration": 14,
    "start_time": "2023-01-10T20:41:19.317Z"
   },
   {
    "duration": 82,
    "start_time": "2023-01-10T20:41:26.020Z"
   },
   {
    "duration": 3,
    "start_time": "2023-01-10T20:41:26.105Z"
   },
   {
    "duration": 21,
    "start_time": "2023-01-10T20:41:26.110Z"
   },
   {
    "duration": 21,
    "start_time": "2023-01-10T20:41:26.133Z"
   },
   {
    "duration": 10,
    "start_time": "2023-01-10T20:41:26.158Z"
   },
   {
    "duration": 22,
    "start_time": "2023-01-10T20:41:26.170Z"
   },
   {
    "duration": 19,
    "start_time": "2023-01-10T20:41:26.197Z"
   },
   {
    "duration": 23,
    "start_time": "2023-01-10T20:41:26.218Z"
   },
   {
    "duration": 17,
    "start_time": "2023-01-10T20:41:26.243Z"
   },
   {
    "duration": 12,
    "start_time": "2023-01-10T20:41:26.261Z"
   },
   {
    "duration": 38,
    "start_time": "2023-01-10T20:41:26.274Z"
   },
   {
    "duration": 12,
    "start_time": "2023-01-10T20:41:26.314Z"
   },
   {
    "duration": 11,
    "start_time": "2023-01-10T20:41:26.327Z"
   },
   {
    "duration": 18,
    "start_time": "2023-01-10T20:41:26.340Z"
   },
   {
    "duration": 7,
    "start_time": "2023-01-10T20:41:26.360Z"
   },
   {
    "duration": 205,
    "start_time": "2023-01-10T20:41:26.369Z"
   },
   {
    "duration": 264,
    "start_time": "2023-01-10T20:41:26.576Z"
   },
   {
    "duration": 8,
    "start_time": "2023-01-10T20:41:33.001Z"
   },
   {
    "duration": 16,
    "start_time": "2023-01-10T20:41:33.643Z"
   },
   {
    "duration": 18,
    "start_time": "2023-01-10T20:41:45.175Z"
   },
   {
    "duration": 6,
    "start_time": "2023-01-10T20:57:31.721Z"
   },
   {
    "duration": 7,
    "start_time": "2023-01-10T20:58:38.464Z"
   },
   {
    "duration": 632,
    "start_time": "2023-01-10T21:10:17.587Z"
   },
   {
    "duration": 287,
    "start_time": "2023-01-10T21:16:01.766Z"
   },
   {
    "duration": 371,
    "start_time": "2023-01-10T21:16:19.204Z"
   },
   {
    "duration": 372,
    "start_time": "2023-01-10T21:16:41.302Z"
   },
   {
    "duration": 306,
    "start_time": "2023-01-10T21:17:24.255Z"
   },
   {
    "duration": 297,
    "start_time": "2023-01-10T21:17:32.013Z"
   },
   {
    "duration": 292,
    "start_time": "2023-01-10T21:17:39.926Z"
   },
   {
    "duration": 321,
    "start_time": "2023-01-10T21:17:55.177Z"
   },
   {
    "duration": 285,
    "start_time": "2023-01-10T21:18:11.418Z"
   },
   {
    "duration": 436,
    "start_time": "2023-01-10T21:18:31.735Z"
   },
   {
    "duration": 25,
    "start_time": "2023-01-10T21:18:32.174Z"
   },
   {
    "duration": 112,
    "start_time": "2023-01-10T21:23:00.206Z"
   },
   {
    "duration": 67,
    "start_time": "2023-01-10T21:23:12.650Z"
   },
   {
    "duration": 3,
    "start_time": "2023-01-10T21:23:12.719Z"
   },
   {
    "duration": 10,
    "start_time": "2023-01-10T21:23:12.724Z"
   },
   {
    "duration": 11,
    "start_time": "2023-01-10T21:23:12.736Z"
   },
   {
    "duration": 10,
    "start_time": "2023-01-10T21:23:12.748Z"
   },
   {
    "duration": 16,
    "start_time": "2023-01-10T21:23:12.759Z"
   },
   {
    "duration": 22,
    "start_time": "2023-01-10T21:23:12.777Z"
   },
   {
    "duration": 20,
    "start_time": "2023-01-10T21:23:12.800Z"
   },
   {
    "duration": 16,
    "start_time": "2023-01-10T21:23:12.822Z"
   },
   {
    "duration": 12,
    "start_time": "2023-01-10T21:23:12.840Z"
   },
   {
    "duration": 9,
    "start_time": "2023-01-10T21:23:12.853Z"
   },
   {
    "duration": 41,
    "start_time": "2023-01-10T21:23:12.863Z"
   },
   {
    "duration": 11,
    "start_time": "2023-01-10T21:23:12.906Z"
   },
   {
    "duration": 14,
    "start_time": "2023-01-10T21:23:12.919Z"
   },
   {
    "duration": 4,
    "start_time": "2023-01-10T21:23:12.935Z"
   },
   {
    "duration": 242,
    "start_time": "2023-01-10T21:23:12.941Z"
   },
   {
    "duration": 285,
    "start_time": "2023-01-10T21:23:17.420Z"
   },
   {
    "duration": 368,
    "start_time": "2023-01-10T21:23:35.714Z"
   },
   {
    "duration": 416,
    "start_time": "2023-01-10T21:24:01.641Z"
   },
   {
    "duration": 253,
    "start_time": "2023-01-10T21:24:42.287Z"
   },
   {
    "duration": 416,
    "start_time": "2023-01-10T21:25:03.781Z"
   },
   {
    "duration": 261,
    "start_time": "2023-01-10T21:25:52.995Z"
   },
   {
    "duration": 1652,
    "start_time": "2023-01-11T11:30:05.910Z"
   },
   {
    "duration": 4,
    "start_time": "2023-01-11T11:30:07.564Z"
   },
   {
    "duration": 29,
    "start_time": "2023-01-11T11:30:07.570Z"
   },
   {
    "duration": 25,
    "start_time": "2023-01-11T11:30:07.602Z"
   },
   {
    "duration": 17,
    "start_time": "2023-01-11T11:30:07.629Z"
   },
   {
    "duration": 29,
    "start_time": "2023-01-11T11:30:07.649Z"
   },
   {
    "duration": 6,
    "start_time": "2023-01-11T11:30:07.680Z"
   },
   {
    "duration": 29,
    "start_time": "2023-01-11T11:30:07.687Z"
   },
   {
    "duration": 33,
    "start_time": "2023-01-11T11:30:07.718Z"
   },
   {
    "duration": 17,
    "start_time": "2023-01-11T11:30:07.754Z"
   },
   {
    "duration": 15,
    "start_time": "2023-01-11T11:30:07.773Z"
   },
   {
    "duration": 21,
    "start_time": "2023-01-11T11:30:07.790Z"
   },
   {
    "duration": 31,
    "start_time": "2023-01-11T11:30:07.813Z"
   },
   {
    "duration": 48,
    "start_time": "2023-01-11T11:30:07.846Z"
   },
   {
    "duration": 25,
    "start_time": "2023-01-11T11:30:07.896Z"
   },
   {
    "duration": 272,
    "start_time": "2023-01-11T11:30:07.923Z"
   },
   {
    "duration": 332,
    "start_time": "2023-01-11T11:30:08.197Z"
   },
   {
    "duration": 7,
    "start_time": "2023-01-11T11:30:08.532Z"
   },
   {
    "duration": 366,
    "start_time": "2023-01-11T11:30:15.861Z"
   },
   {
    "duration": 286,
    "start_time": "2023-01-11T11:39:55.393Z"
   },
   {
    "duration": 317,
    "start_time": "2023-01-11T11:40:30.719Z"
   },
   {
    "duration": 86,
    "start_time": "2023-01-11T11:40:48.572Z"
   },
   {
    "duration": 4,
    "start_time": "2023-01-11T11:40:48.660Z"
   },
   {
    "duration": 18,
    "start_time": "2023-01-11T11:40:48.665Z"
   },
   {
    "duration": 22,
    "start_time": "2023-01-11T11:40:48.686Z"
   },
   {
    "duration": 18,
    "start_time": "2023-01-11T11:40:48.710Z"
   },
   {
    "duration": 31,
    "start_time": "2023-01-11T11:40:48.730Z"
   },
   {
    "duration": 5,
    "start_time": "2023-01-11T11:40:48.763Z"
   },
   {
    "duration": 25,
    "start_time": "2023-01-11T11:40:48.770Z"
   },
   {
    "duration": 23,
    "start_time": "2023-01-11T11:40:48.797Z"
   },
   {
    "duration": 16,
    "start_time": "2023-01-11T11:40:48.822Z"
   },
   {
    "duration": 21,
    "start_time": "2023-01-11T11:40:48.840Z"
   },
   {
    "duration": 14,
    "start_time": "2023-01-11T11:40:48.863Z"
   },
   {
    "duration": 15,
    "start_time": "2023-01-11T11:40:48.879Z"
   },
   {
    "duration": 28,
    "start_time": "2023-01-11T11:40:48.896Z"
   },
   {
    "duration": 32,
    "start_time": "2023-01-11T11:40:48.926Z"
   },
   {
    "duration": 252,
    "start_time": "2023-01-11T11:40:48.960Z"
   },
   {
    "duration": 384,
    "start_time": "2023-01-11T11:40:49.214Z"
   },
   {
    "duration": 7,
    "start_time": "2023-01-11T11:40:49.599Z"
   },
   {
    "duration": 355,
    "start_time": "2023-01-11T11:40:52.051Z"
   },
   {
    "duration": 309,
    "start_time": "2023-01-11T11:41:11.345Z"
   },
   {
    "duration": 288,
    "start_time": "2023-01-11T11:41:24.404Z"
   },
   {
    "duration": 288,
    "start_time": "2023-01-11T11:42:08.790Z"
   },
   {
    "duration": 295,
    "start_time": "2023-01-11T11:49:41.240Z"
   },
   {
    "duration": 394,
    "start_time": "2023-01-11T11:53:17.541Z"
   },
   {
    "duration": 162,
    "start_time": "2023-01-11T11:53:37.917Z"
   },
   {
    "duration": 321,
    "start_time": "2023-01-11T11:53:56.867Z"
   },
   {
    "duration": 299,
    "start_time": "2023-01-11T12:25:37.801Z"
   },
   {
    "duration": 283,
    "start_time": "2023-01-11T12:26:11.370Z"
   },
   {
    "duration": 358,
    "start_time": "2023-01-11T12:26:42.349Z"
   },
   {
    "duration": 13,
    "start_time": "2023-01-11T12:35:12.372Z"
   },
   {
    "duration": 34,
    "start_time": "2023-01-11T12:37:54.372Z"
   },
   {
    "duration": 8,
    "start_time": "2023-01-11T12:38:26.807Z"
   },
   {
    "duration": 998,
    "start_time": "2023-01-11T12:43:55.747Z"
   },
   {
    "duration": 209,
    "start_time": "2023-01-11T12:44:04.962Z"
   },
   {
    "duration": 27,
    "start_time": "2023-01-11T12:45:49.875Z"
   },
   {
    "duration": 920,
    "start_time": "2023-01-11T12:50:11.812Z"
   },
   {
    "duration": 246,
    "start_time": "2023-01-11T12:50:25.104Z"
   },
   {
    "duration": 146,
    "start_time": "2023-01-11T12:50:32.043Z"
   },
   {
    "duration": 301,
    "start_time": "2023-01-11T12:51:49.769Z"
   },
   {
    "duration": 311,
    "start_time": "2023-01-11T12:53:36.662Z"
   },
   {
    "duration": 66,
    "start_time": "2023-01-11T12:56:05.317Z"
   },
   {
    "duration": 70,
    "start_time": "2023-01-11T12:56:15.031Z"
   },
   {
    "duration": 332,
    "start_time": "2023-01-11T12:56:23.890Z"
   },
   {
    "duration": 54,
    "start_time": "2023-01-11T12:57:23.786Z"
   },
   {
    "duration": 340,
    "start_time": "2023-01-11T12:57:35.903Z"
   },
   {
    "duration": 1326,
    "start_time": "2023-01-12T10:31:09.669Z"
   },
   {
    "duration": 3,
    "start_time": "2023-01-12T10:31:10.996Z"
   },
   {
    "duration": 23,
    "start_time": "2023-01-12T10:31:11.000Z"
   },
   {
    "duration": 42,
    "start_time": "2023-01-12T10:31:11.025Z"
   },
   {
    "duration": 25,
    "start_time": "2023-01-12T10:31:11.069Z"
   },
   {
    "duration": 28,
    "start_time": "2023-01-12T10:31:11.096Z"
   },
   {
    "duration": 32,
    "start_time": "2023-01-12T10:31:11.126Z"
   },
   {
    "duration": 47,
    "start_time": "2023-01-12T10:31:11.159Z"
   },
   {
    "duration": 67,
    "start_time": "2023-01-12T10:31:11.208Z"
   },
   {
    "duration": 35,
    "start_time": "2023-01-12T10:31:11.277Z"
   },
   {
    "duration": 32,
    "start_time": "2023-01-12T10:31:11.313Z"
   },
   {
    "duration": 19,
    "start_time": "2023-01-12T10:31:11.347Z"
   },
   {
    "duration": 26,
    "start_time": "2023-01-12T10:31:11.368Z"
   },
   {
    "duration": 10,
    "start_time": "2023-01-12T10:31:11.396Z"
   },
   {
    "duration": 21,
    "start_time": "2023-01-12T10:31:11.407Z"
   },
   {
    "duration": 172,
    "start_time": "2023-01-12T10:31:11.429Z"
   },
   {
    "duration": 260,
    "start_time": "2023-01-12T10:31:11.602Z"
   },
   {
    "duration": 5,
    "start_time": "2023-01-12T10:31:11.864Z"
   },
   {
    "duration": 276,
    "start_time": "2023-01-12T10:31:19.372Z"
   },
   {
    "duration": 274,
    "start_time": "2023-01-12T10:31:54.641Z"
   },
   {
    "duration": 54,
    "start_time": "2023-01-12T11:18:16.048Z"
   },
   {
    "duration": 1641,
    "start_time": "2023-01-12T11:18:28.398Z"
   },
   {
    "duration": 4,
    "start_time": "2023-01-12T11:18:30.041Z"
   },
   {
    "duration": 18,
    "start_time": "2023-01-12T11:18:30.047Z"
   },
   {
    "duration": 15,
    "start_time": "2023-01-12T11:18:30.067Z"
   },
   {
    "duration": 14,
    "start_time": "2023-01-12T11:18:30.085Z"
   },
   {
    "duration": 20,
    "start_time": "2023-01-12T11:18:30.101Z"
   },
   {
    "duration": 23,
    "start_time": "2023-01-12T11:18:30.122Z"
   },
   {
    "duration": 26,
    "start_time": "2023-01-12T11:18:30.147Z"
   },
   {
    "duration": 18,
    "start_time": "2023-01-12T11:18:30.176Z"
   },
   {
    "duration": 23,
    "start_time": "2023-01-12T11:18:30.196Z"
   },
   {
    "duration": 10,
    "start_time": "2023-01-12T11:18:30.221Z"
   },
   {
    "duration": 24,
    "start_time": "2023-01-12T11:18:30.233Z"
   },
   {
    "duration": 17,
    "start_time": "2023-01-12T11:18:30.259Z"
   },
   {
    "duration": 17,
    "start_time": "2023-01-12T11:18:30.278Z"
   },
   {
    "duration": 16,
    "start_time": "2023-01-12T11:18:30.297Z"
   },
   {
    "duration": 218,
    "start_time": "2023-01-12T11:18:30.315Z"
   },
   {
    "duration": 306,
    "start_time": "2023-01-12T11:18:30.534Z"
   },
   {
    "duration": 7,
    "start_time": "2023-01-12T11:18:30.841Z"
   },
   {
    "duration": 333,
    "start_time": "2023-01-12T11:18:30.850Z"
   },
   {
    "duration": 299,
    "start_time": "2023-01-12T11:18:48.046Z"
   },
   {
    "duration": 344,
    "start_time": "2023-01-12T11:19:05.696Z"
   },
   {
    "duration": 379,
    "start_time": "2023-01-12T11:19:31.358Z"
   },
   {
    "duration": 242,
    "start_time": "2023-01-12T11:19:55.061Z"
   },
   {
    "duration": 312,
    "start_time": "2023-01-12T11:20:05.196Z"
   },
   {
    "duration": 1566,
    "start_time": "2023-01-12T11:27:42.179Z"
   },
   {
    "duration": 4,
    "start_time": "2023-01-12T11:27:43.747Z"
   },
   {
    "duration": 10,
    "start_time": "2023-01-12T11:27:43.752Z"
   },
   {
    "duration": 19,
    "start_time": "2023-01-12T11:27:43.763Z"
   },
   {
    "duration": 9,
    "start_time": "2023-01-12T11:27:43.784Z"
   },
   {
    "duration": 32,
    "start_time": "2023-01-12T11:27:43.795Z"
   },
   {
    "duration": 7,
    "start_time": "2023-01-12T11:27:43.829Z"
   },
   {
    "duration": 23,
    "start_time": "2023-01-12T11:27:43.838Z"
   },
   {
    "duration": 25,
    "start_time": "2023-01-12T11:27:43.863Z"
   },
   {
    "duration": 26,
    "start_time": "2023-01-12T11:27:43.890Z"
   },
   {
    "duration": 9,
    "start_time": "2023-01-12T11:27:43.918Z"
   },
   {
    "duration": 14,
    "start_time": "2023-01-12T11:27:43.929Z"
   },
   {
    "duration": 13,
    "start_time": "2023-01-12T11:27:43.945Z"
   },
   {
    "duration": 16,
    "start_time": "2023-01-12T11:27:43.960Z"
   },
   {
    "duration": 5,
    "start_time": "2023-01-12T11:27:43.977Z"
   },
   {
    "duration": 216,
    "start_time": "2023-01-12T11:27:44.016Z"
   },
   {
    "duration": 429,
    "start_time": "2023-01-12T11:27:48.898Z"
   },
   {
    "duration": 5,
    "start_time": "2023-01-12T11:28:07.692Z"
   },
   {
    "duration": 6,
    "start_time": "2023-01-12T11:28:41.976Z"
   },
   {
    "duration": 9,
    "start_time": "2023-01-12T11:28:53.911Z"
   },
   {
    "duration": 266,
    "start_time": "2023-01-12T11:29:46.093Z"
   },
   {
    "duration": 7,
    "start_time": "2023-01-12T11:29:50.992Z"
   },
   {
    "duration": 316,
    "start_time": "2023-01-12T11:29:52.848Z"
   },
   {
    "duration": 93,
    "start_time": "2023-01-12T11:37:19.259Z"
   },
   {
    "duration": 73,
    "start_time": "2023-01-12T11:37:22.789Z"
   },
   {
    "duration": 3,
    "start_time": "2023-01-12T11:37:22.864Z"
   },
   {
    "duration": 26,
    "start_time": "2023-01-12T11:37:22.868Z"
   },
   {
    "duration": 13,
    "start_time": "2023-01-12T11:37:22.896Z"
   },
   {
    "duration": 43,
    "start_time": "2023-01-12T11:37:22.910Z"
   },
   {
    "duration": 17,
    "start_time": "2023-01-12T11:37:22.955Z"
   },
   {
    "duration": 4,
    "start_time": "2023-01-12T11:37:22.973Z"
   },
   {
    "duration": 21,
    "start_time": "2023-01-12T11:37:22.979Z"
   },
   {
    "duration": 17,
    "start_time": "2023-01-12T11:37:23.002Z"
   },
   {
    "duration": 30,
    "start_time": "2023-01-12T11:37:23.022Z"
   },
   {
    "duration": 16,
    "start_time": "2023-01-12T11:37:23.053Z"
   },
   {
    "duration": 40,
    "start_time": "2023-01-12T11:37:23.071Z"
   },
   {
    "duration": 31,
    "start_time": "2023-01-12T11:37:23.113Z"
   },
   {
    "duration": 28,
    "start_time": "2023-01-12T11:37:23.146Z"
   },
   {
    "duration": 17,
    "start_time": "2023-01-12T11:37:23.176Z"
   },
   {
    "duration": 206,
    "start_time": "2023-01-12T11:37:23.195Z"
   },
   {
    "duration": 242,
    "start_time": "2023-01-12T11:37:23.403Z"
   },
   {
    "duration": 7,
    "start_time": "2023-01-12T11:37:23.647Z"
   },
   {
    "duration": 372,
    "start_time": "2023-01-12T11:37:23.655Z"
   },
   {
    "duration": 281,
    "start_time": "2023-01-12T11:37:24.029Z"
   },
   {
    "duration": 278,
    "start_time": "2023-01-12T11:37:28.995Z"
   },
   {
    "duration": 21,
    "start_time": "2023-01-12T11:37:33.266Z"
   },
   {
    "duration": 11,
    "start_time": "2023-01-12T11:38:09.639Z"
   },
   {
    "duration": 200,
    "start_time": "2023-01-12T11:38:16.521Z"
   },
   {
    "duration": 3,
    "start_time": "2023-01-12T11:47:41.792Z"
   },
   {
    "duration": 8,
    "start_time": "2023-01-12T11:48:51.518Z"
   },
   {
    "duration": 13,
    "start_time": "2023-01-12T11:49:33.768Z"
   },
   {
    "duration": 2729,
    "start_time": "2023-01-12T12:04:59.652Z"
   },
   {
    "duration": 12,
    "start_time": "2023-01-12T12:06:19.779Z"
   },
   {
    "duration": 2724,
    "start_time": "2023-01-12T12:07:35.241Z"
   },
   {
    "duration": 2533,
    "start_time": "2023-01-12T12:08:39.579Z"
   },
   {
    "duration": 2554,
    "start_time": "2023-01-12T12:10:51.452Z"
   },
   {
    "duration": 439,
    "start_time": "2023-01-12T12:12:04.332Z"
   },
   {
    "duration": 10,
    "start_time": "2023-01-12T12:12:15.753Z"
   },
   {
    "duration": 2501,
    "start_time": "2023-01-12T12:17:58.138Z"
   },
   {
    "duration": 2441,
    "start_time": "2023-01-12T12:19:08.182Z"
   },
   {
    "duration": 2558,
    "start_time": "2023-01-12T12:20:39.641Z"
   },
   {
    "duration": 24102,
    "start_time": "2023-01-12T12:31:38.779Z"
   },
   {
    "duration": 191,
    "start_time": "2023-01-12T12:32:15.808Z"
   },
   {
    "duration": 5,
    "start_time": "2023-01-12T12:32:52.024Z"
   },
   {
    "duration": 6,
    "start_time": "2023-01-12T12:33:07.073Z"
   },
   {
    "duration": 187,
    "start_time": "2023-01-12T12:36:09.859Z"
   },
   {
    "duration": 2108,
    "start_time": "2023-01-12T12:36:25.435Z"
   },
   {
    "duration": 5,
    "start_time": "2023-01-12T12:36:44.263Z"
   },
   {
    "duration": 15,
    "start_time": "2023-01-12T12:37:57.299Z"
   },
   {
    "duration": 1253,
    "start_time": "2023-01-12T12:40:44.646Z"
   },
   {
    "duration": 752,
    "start_time": "2023-01-12T12:42:30.737Z"
   },
   {
    "duration": 219,
    "start_time": "2023-01-12T12:45:30.157Z"
   },
   {
    "duration": 50,
    "start_time": "2023-01-12T12:45:56.693Z"
   },
   {
    "duration": 272,
    "start_time": "2023-01-12T12:46:05.068Z"
   },
   {
    "duration": 228,
    "start_time": "2023-01-12T12:47:08.789Z"
   },
   {
    "duration": 237,
    "start_time": "2023-01-12T12:47:40.788Z"
   },
   {
    "duration": 277,
    "start_time": "2023-01-12T12:47:56.543Z"
   },
   {
    "duration": 284,
    "start_time": "2023-01-12T12:48:10.714Z"
   },
   {
    "duration": 22,
    "start_time": "2023-01-12T12:52:27.986Z"
   },
   {
    "duration": 30,
    "start_time": "2023-01-12T13:02:45.129Z"
   },
   {
    "duration": 252,
    "start_time": "2023-01-12T13:02:56.611Z"
   },
   {
    "duration": 220,
    "start_time": "2023-01-12T13:08:49.400Z"
   },
   {
    "duration": 216,
    "start_time": "2023-01-12T13:08:53.601Z"
   },
   {
    "duration": 1968,
    "start_time": "2023-01-12T20:31:47.493Z"
   },
   {
    "duration": 7,
    "start_time": "2023-01-12T20:31:49.467Z"
   },
   {
    "duration": 18,
    "start_time": "2023-01-12T20:31:49.477Z"
   },
   {
    "duration": 30,
    "start_time": "2023-01-12T20:31:49.500Z"
   },
   {
    "duration": 25,
    "start_time": "2023-01-12T20:31:49.533Z"
   },
   {
    "duration": 39,
    "start_time": "2023-01-12T20:31:49.560Z"
   },
   {
    "duration": 27,
    "start_time": "2023-01-12T20:31:49.601Z"
   },
   {
    "duration": 51,
    "start_time": "2023-01-12T20:31:49.630Z"
   },
   {
    "duration": 39,
    "start_time": "2023-01-12T20:31:49.685Z"
   },
   {
    "duration": 49,
    "start_time": "2023-01-12T20:31:49.726Z"
   },
   {
    "duration": 35,
    "start_time": "2023-01-12T20:31:49.778Z"
   },
   {
    "duration": 47,
    "start_time": "2023-01-12T20:31:49.816Z"
   },
   {
    "duration": 35,
    "start_time": "2023-01-12T20:31:49.865Z"
   },
   {
    "duration": 70,
    "start_time": "2023-01-12T20:31:49.904Z"
   },
   {
    "duration": 16,
    "start_time": "2023-01-12T20:31:49.976Z"
   },
   {
    "duration": 390,
    "start_time": "2023-01-12T20:31:49.994Z"
   },
   {
    "duration": 491,
    "start_time": "2023-01-12T20:31:50.386Z"
   },
   {
    "duration": 8,
    "start_time": "2023-01-12T20:31:50.880Z"
   },
   {
    "duration": 520,
    "start_time": "2023-01-12T20:31:50.890Z"
   },
   {
    "duration": 499,
    "start_time": "2023-01-12T20:31:51.413Z"
   },
   {
    "duration": 20,
    "start_time": "2023-01-12T20:31:51.914Z"
   },
   {
    "duration": 3219,
    "start_time": "2023-01-12T20:31:51.950Z"
   },
   {
    "duration": 317,
    "start_time": "2023-01-12T20:31:55.171Z"
   },
   {
    "duration": 372,
    "start_time": "2023-01-12T20:31:55.490Z"
   },
   {
    "duration": 21,
    "start_time": "2023-01-12T20:45:47.335Z"
   },
   {
    "duration": 306,
    "start_time": "2023-01-12T20:49:31.757Z"
   },
   {
    "duration": 295,
    "start_time": "2023-01-12T20:50:04.692Z"
   },
   {
    "duration": 1628,
    "start_time": "2023-01-13T05:55:01.767Z"
   },
   {
    "duration": 3,
    "start_time": "2023-01-13T05:55:03.397Z"
   },
   {
    "duration": 39,
    "start_time": "2023-01-13T05:55:03.402Z"
   },
   {
    "duration": 21,
    "start_time": "2023-01-13T05:55:03.443Z"
   },
   {
    "duration": 14,
    "start_time": "2023-01-13T05:55:03.466Z"
   },
   {
    "duration": 44,
    "start_time": "2023-01-13T05:55:03.482Z"
   },
   {
    "duration": 32,
    "start_time": "2023-01-13T05:55:03.527Z"
   },
   {
    "duration": 38,
    "start_time": "2023-01-13T05:55:03.561Z"
   },
   {
    "duration": 59,
    "start_time": "2023-01-13T05:55:03.601Z"
   },
   {
    "duration": 27,
    "start_time": "2023-01-13T05:55:03.663Z"
   },
   {
    "duration": 28,
    "start_time": "2023-01-13T05:55:03.692Z"
   },
   {
    "duration": 36,
    "start_time": "2023-01-13T05:55:03.722Z"
   },
   {
    "duration": 24,
    "start_time": "2023-01-13T05:55:03.760Z"
   },
   {
    "duration": 47,
    "start_time": "2023-01-13T05:55:03.786Z"
   },
   {
    "duration": 31,
    "start_time": "2023-01-13T05:55:03.835Z"
   },
   {
    "duration": 230,
    "start_time": "2023-01-13T05:55:03.868Z"
   },
   {
    "duration": 284,
    "start_time": "2023-01-13T05:55:04.105Z"
   },
   {
    "duration": 6,
    "start_time": "2023-01-13T05:55:04.391Z"
   },
   {
    "duration": 311,
    "start_time": "2023-01-13T05:55:04.399Z"
   },
   {
    "duration": 315,
    "start_time": "2023-01-13T05:55:04.712Z"
   },
   {
    "duration": 11,
    "start_time": "2023-01-13T05:55:05.029Z"
   },
   {
    "duration": 2712,
    "start_time": "2023-01-13T05:55:05.042Z"
   },
   {
    "duration": 235,
    "start_time": "2023-01-13T05:55:07.756Z"
   },
   {
    "duration": 265,
    "start_time": "2023-01-13T05:55:07.993Z"
   },
   {
    "duration": 19,
    "start_time": "2023-01-13T05:55:12.933Z"
   },
   {
    "duration": 335,
    "start_time": "2023-01-13T06:17:33.955Z"
   },
   {
    "duration": 254,
    "start_time": "2023-01-13T06:18:34.163Z"
   },
   {
    "duration": 375,
    "start_time": "2023-01-13T06:19:11.203Z"
   },
   {
    "duration": 258,
    "start_time": "2023-01-13T06:19:18.692Z"
   },
   {
    "duration": 272,
    "start_time": "2023-01-13T06:19:46.711Z"
   },
   {
    "duration": 213,
    "start_time": "2023-01-13T06:29:50.878Z"
   },
   {
    "duration": 210,
    "start_time": "2023-01-13T06:30:14.699Z"
   },
   {
    "duration": 10,
    "start_time": "2023-01-13T06:30:28.781Z"
   },
   {
    "duration": 10,
    "start_time": "2023-01-13T06:30:52.949Z"
   },
   {
    "duration": 295,
    "start_time": "2023-01-13T06:31:20.372Z"
   },
   {
    "duration": 310,
    "start_time": "2023-01-13T06:35:46.405Z"
   },
   {
    "duration": 257,
    "start_time": "2023-01-13T06:36:06.727Z"
   },
   {
    "duration": 265,
    "start_time": "2023-01-13T06:36:25.663Z"
   },
   {
    "duration": 590,
    "start_time": "2023-01-13T06:36:48.682Z"
   },
   {
    "duration": 464,
    "start_time": "2023-01-13T06:37:30.941Z"
   },
   {
    "duration": 22,
    "start_time": "2023-01-13T06:54:01.950Z"
   },
   {
    "duration": 513,
    "start_time": "2023-01-13T06:55:08.066Z"
   },
   {
    "duration": 18,
    "start_time": "2023-01-13T07:11:55.069Z"
   },
   {
    "duration": 18,
    "start_time": "2023-01-13T07:12:46.226Z"
   },
   {
    "duration": 514,
    "start_time": "2023-01-13T07:17:19.702Z"
   },
   {
    "duration": 70,
    "start_time": "2023-01-13T08:01:19.005Z"
   },
   {
    "duration": 25,
    "start_time": "2023-01-13T08:01:35.125Z"
   },
   {
    "duration": 19,
    "start_time": "2023-01-13T08:02:23.370Z"
   },
   {
    "duration": 11,
    "start_time": "2023-01-13T08:04:21.366Z"
   },
   {
    "duration": 22,
    "start_time": "2023-01-13T08:04:28.183Z"
   },
   {
    "duration": 12,
    "start_time": "2023-01-13T08:04:45.412Z"
   },
   {
    "duration": 10,
    "start_time": "2023-01-13T08:07:28.520Z"
   },
   {
    "duration": 14,
    "start_time": "2023-01-13T08:09:04.926Z"
   },
   {
    "duration": 11,
    "start_time": "2023-01-13T08:09:31.607Z"
   },
   {
    "duration": 11,
    "start_time": "2023-01-13T08:09:49.934Z"
   },
   {
    "duration": 9,
    "start_time": "2023-01-13T08:10:10.498Z"
   },
   {
    "duration": 10,
    "start_time": "2023-01-13T08:11:02.268Z"
   },
   {
    "duration": 67,
    "start_time": "2023-01-13T08:18:29.559Z"
   },
   {
    "duration": 4,
    "start_time": "2023-01-13T08:26:12.532Z"
   },
   {
    "duration": 13,
    "start_time": "2023-01-13T08:58:37.449Z"
   },
   {
    "duration": 71,
    "start_time": "2023-01-13T09:00:19.988Z"
   },
   {
    "duration": 6,
    "start_time": "2023-01-13T09:02:39.024Z"
   },
   {
    "duration": 308,
    "start_time": "2023-01-13T10:51:17.452Z"
   },
   {
    "duration": 378,
    "start_time": "2023-01-13T10:53:08.937Z"
   },
   {
    "duration": 281,
    "start_time": "2023-01-13T10:53:38.652Z"
   },
   {
    "duration": 75,
    "start_time": "2023-01-13T10:54:40.475Z"
   },
   {
    "duration": 56,
    "start_time": "2023-01-13T10:54:45.831Z"
   },
   {
    "duration": 271,
    "start_time": "2023-01-13T10:55:04.374Z"
   },
   {
    "duration": 317,
    "start_time": "2023-01-13T10:55:59.662Z"
   },
   {
    "duration": 303,
    "start_time": "2023-01-13T10:57:07.564Z"
   },
   {
    "duration": 403,
    "start_time": "2023-01-13T10:57:36.329Z"
   },
   {
    "duration": 327,
    "start_time": "2023-01-13T11:29:31.056Z"
   },
   {
    "duration": 315,
    "start_time": "2023-01-13T11:29:48.843Z"
   },
   {
    "duration": 1433,
    "start_time": "2023-01-13T11:32:44.459Z"
   },
   {
    "duration": 285,
    "start_time": "2023-01-13T11:35:03.773Z"
   },
   {
    "duration": 278,
    "start_time": "2023-01-13T11:42:40.078Z"
   },
   {
    "duration": 77,
    "start_time": "2023-01-13T11:51:29.215Z"
   },
   {
    "duration": 70,
    "start_time": "2023-01-13T11:56:07.143Z"
   },
   {
    "duration": 3,
    "start_time": "2023-01-13T11:56:07.215Z"
   },
   {
    "duration": 39,
    "start_time": "2023-01-13T11:56:07.220Z"
   },
   {
    "duration": 18,
    "start_time": "2023-01-13T11:56:07.261Z"
   },
   {
    "duration": 11,
    "start_time": "2023-01-13T11:56:07.281Z"
   },
   {
    "duration": 12,
    "start_time": "2023-01-13T11:56:07.293Z"
   },
   {
    "duration": 5,
    "start_time": "2023-01-13T11:56:46.420Z"
   },
   {
    "duration": 4,
    "start_time": "2023-01-13T11:58:42.735Z"
   },
   {
    "duration": 5,
    "start_time": "2023-01-13T12:11:24.176Z"
   },
   {
    "duration": 13,
    "start_time": "2023-01-13T12:11:35.107Z"
   },
   {
    "duration": 73,
    "start_time": "2023-01-13T12:11:45.804Z"
   },
   {
    "duration": 4,
    "start_time": "2023-01-13T12:11:45.879Z"
   },
   {
    "duration": 20,
    "start_time": "2023-01-13T12:11:45.885Z"
   },
   {
    "duration": 18,
    "start_time": "2023-01-13T12:11:45.906Z"
   },
   {
    "duration": 13,
    "start_time": "2023-01-13T12:11:45.925Z"
   },
   {
    "duration": 9,
    "start_time": "2023-01-13T12:11:45.940Z"
   },
   {
    "duration": 10,
    "start_time": "2023-01-13T12:11:45.951Z"
   },
   {
    "duration": 4,
    "start_time": "2023-01-13T12:11:47.321Z"
   },
   {
    "duration": 12,
    "start_time": "2023-01-13T12:11:47.882Z"
   },
   {
    "duration": 17,
    "start_time": "2023-01-13T12:12:47.634Z"
   },
   {
    "duration": 16,
    "start_time": "2023-01-13T12:12:51.660Z"
   },
   {
    "duration": 13,
    "start_time": "2023-01-13T12:12:52.440Z"
   },
   {
    "duration": 77,
    "start_time": "2023-01-13T12:13:55.085Z"
   },
   {
    "duration": 3,
    "start_time": "2023-01-13T12:14:00.285Z"
   },
   {
    "duration": 16,
    "start_time": "2023-01-13T12:14:00.889Z"
   },
   {
    "duration": 15,
    "start_time": "2023-01-13T12:14:02.982Z"
   },
   {
    "duration": 128,
    "start_time": "2023-01-13T12:14:08.077Z"
   },
   {
    "duration": 10,
    "start_time": "2023-01-13T12:14:09.105Z"
   },
   {
    "duration": 5,
    "start_time": "2023-01-13T12:14:15.505Z"
   },
   {
    "duration": 12,
    "start_time": "2023-01-13T12:14:18.329Z"
   },
   {
    "duration": 12,
    "start_time": "2023-01-13T12:14:37.011Z"
   },
   {
    "duration": 5,
    "start_time": "2023-01-13T12:15:42.197Z"
   },
   {
    "duration": 17,
    "start_time": "2023-01-13T12:15:57.977Z"
   },
   {
    "duration": 13,
    "start_time": "2023-01-13T12:15:58.883Z"
   },
   {
    "duration": 5,
    "start_time": "2023-01-13T12:17:01.478Z"
   },
   {
    "duration": 13,
    "start_time": "2023-01-13T12:17:13.706Z"
   },
   {
    "duration": 12,
    "start_time": "2023-01-13T12:17:14.942Z"
   },
   {
    "duration": 12,
    "start_time": "2023-01-13T12:17:15.715Z"
   },
   {
    "duration": 8,
    "start_time": "2023-01-13T12:17:17.810Z"
   },
   {
    "duration": 218,
    "start_time": "2023-01-13T12:18:18.155Z"
   },
   {
    "duration": 190,
    "start_time": "2023-01-13T12:19:42.465Z"
   },
   {
    "duration": 191,
    "start_time": "2023-01-13T12:20:43.432Z"
   },
   {
    "duration": 231,
    "start_time": "2023-01-13T12:22:40.533Z"
   },
   {
    "duration": 195,
    "start_time": "2023-01-13T12:23:25.234Z"
   },
   {
    "duration": 197,
    "start_time": "2023-01-13T12:24:17.940Z"
   },
   {
    "duration": 188,
    "start_time": "2023-01-13T12:24:26.273Z"
   },
   {
    "duration": 208,
    "start_time": "2023-01-13T12:24:47.717Z"
   },
   {
    "duration": 198,
    "start_time": "2023-01-13T12:25:25.718Z"
   },
   {
    "duration": 197,
    "start_time": "2023-01-13T12:25:36.747Z"
   },
   {
    "duration": 277,
    "start_time": "2023-01-13T12:26:08.416Z"
   },
   {
    "duration": 84,
    "start_time": "2023-01-13T12:26:24.135Z"
   },
   {
    "duration": 2,
    "start_time": "2023-01-13T12:26:24.221Z"
   },
   {
    "duration": 46,
    "start_time": "2023-01-13T12:26:24.225Z"
   },
   {
    "duration": 28,
    "start_time": "2023-01-13T12:26:24.273Z"
   },
   {
    "duration": 43,
    "start_time": "2023-01-13T12:26:24.303Z"
   },
   {
    "duration": 24,
    "start_time": "2023-01-13T12:26:24.348Z"
   },
   {
    "duration": 16,
    "start_time": "2023-01-13T12:26:24.374Z"
   },
   {
    "duration": 20,
    "start_time": "2023-01-13T12:26:24.392Z"
   },
   {
    "duration": 25,
    "start_time": "2023-01-13T12:26:24.414Z"
   },
   {
    "duration": 24,
    "start_time": "2023-01-13T12:26:24.442Z"
   },
   {
    "duration": 6,
    "start_time": "2023-01-13T12:26:24.467Z"
   },
   {
    "duration": 34,
    "start_time": "2023-01-13T12:26:24.474Z"
   },
   {
    "duration": 25,
    "start_time": "2023-01-13T12:26:24.510Z"
   },
   {
    "duration": 37,
    "start_time": "2023-01-13T12:26:24.537Z"
   },
   {
    "duration": 22,
    "start_time": "2023-01-13T12:26:24.576Z"
   },
   {
    "duration": 316,
    "start_time": "2023-01-13T12:26:24.600Z"
   },
   {
    "duration": 234,
    "start_time": "2023-01-13T12:26:30.248Z"
   },
   {
    "duration": 73,
    "start_time": "2023-01-13T12:26:52.475Z"
   },
   {
    "duration": 13,
    "start_time": "2023-01-13T12:27:01.396Z"
   },
   {
    "duration": 69,
    "start_time": "2023-01-13T12:27:26.596Z"
   },
   {
    "duration": 3,
    "start_time": "2023-01-13T12:27:26.667Z"
   },
   {
    "duration": 38,
    "start_time": "2023-01-13T12:27:26.672Z"
   },
   {
    "duration": 27,
    "start_time": "2023-01-13T12:27:26.712Z"
   },
   {
    "duration": 25,
    "start_time": "2023-01-13T12:27:26.740Z"
   },
   {
    "duration": 21,
    "start_time": "2023-01-13T12:27:26.766Z"
   },
   {
    "duration": 14,
    "start_time": "2023-01-13T12:27:26.788Z"
   },
   {
    "duration": 7,
    "start_time": "2023-01-13T12:27:26.804Z"
   },
   {
    "duration": 21,
    "start_time": "2023-01-13T12:27:26.813Z"
   },
   {
    "duration": 16,
    "start_time": "2023-01-13T12:27:26.837Z"
   },
   {
    "duration": 5,
    "start_time": "2023-01-13T12:27:26.855Z"
   },
   {
    "duration": 19,
    "start_time": "2023-01-13T12:27:26.862Z"
   },
   {
    "duration": 19,
    "start_time": "2023-01-13T12:27:26.882Z"
   },
   {
    "duration": 21,
    "start_time": "2023-01-13T12:27:26.905Z"
   },
   {
    "duration": 40,
    "start_time": "2023-01-13T12:27:26.927Z"
   },
   {
    "duration": 203,
    "start_time": "2023-01-13T12:27:26.969Z"
   },
   {
    "duration": 245,
    "start_time": "2023-01-13T12:27:30.794Z"
   },
   {
    "duration": 14,
    "start_time": "2023-01-13T12:28:15.408Z"
   },
   {
    "duration": 5,
    "start_time": "2023-01-13T12:28:42.420Z"
   },
   {
    "duration": 271,
    "start_time": "2023-01-13T12:28:52.692Z"
   },
   {
    "duration": 230,
    "start_time": "2023-01-13T12:29:35.374Z"
   },
   {
    "duration": 6,
    "start_time": "2023-01-13T12:33:23.362Z"
   },
   {
    "duration": 316,
    "start_time": "2023-01-13T12:33:28.147Z"
   },
   {
    "duration": 299,
    "start_time": "2023-01-13T12:33:41.684Z"
   },
   {
    "duration": 6,
    "start_time": "2023-01-13T12:34:36.953Z"
   },
   {
    "duration": 82,
    "start_time": "2023-01-13T12:37:39.417Z"
   },
   {
    "duration": 6,
    "start_time": "2023-01-13T12:38:15.421Z"
   },
   {
    "duration": 2679,
    "start_time": "2023-01-13T12:38:45.442Z"
   },
   {
    "duration": 197,
    "start_time": "2023-01-13T12:39:00.787Z"
   },
   {
    "duration": 205,
    "start_time": "2023-01-13T12:41:10.785Z"
   },
   {
    "duration": 241,
    "start_time": "2023-01-13T12:50:23.591Z"
   },
   {
    "duration": 72,
    "start_time": "2023-01-13T12:50:31.551Z"
   },
   {
    "duration": 172,
    "start_time": "2023-01-13T12:50:31.625Z"
   },
   {
    "duration": 43,
    "start_time": "2023-01-13T12:50:31.799Z"
   },
   {
    "duration": 32,
    "start_time": "2023-01-13T12:50:31.844Z"
   },
   {
    "duration": 48,
    "start_time": "2023-01-13T12:50:31.878Z"
   },
   {
    "duration": 109,
    "start_time": "2023-01-13T12:50:31.928Z"
   },
   {
    "duration": 22,
    "start_time": "2023-01-13T12:50:32.040Z"
   },
   {
    "duration": 24,
    "start_time": "2023-01-13T12:50:32.065Z"
   },
   {
    "duration": 31,
    "start_time": "2023-01-13T12:50:32.090Z"
   },
   {
    "duration": 26,
    "start_time": "2023-01-13T12:50:32.123Z"
   },
   {
    "duration": 29,
    "start_time": "2023-01-13T12:50:32.151Z"
   },
   {
    "duration": 43,
    "start_time": "2023-01-13T12:50:32.181Z"
   },
   {
    "duration": 178,
    "start_time": "2023-01-13T12:50:32.227Z"
   },
   {
    "duration": 86,
    "start_time": "2023-01-13T12:50:32.408Z"
   },
   {
    "duration": 25,
    "start_time": "2023-01-13T12:50:32.496Z"
   },
   {
    "duration": 367,
    "start_time": "2023-01-13T12:50:32.523Z"
   },
   {
    "duration": 245,
    "start_time": "2023-01-13T12:50:38.931Z"
   },
   {
    "duration": 295,
    "start_time": "2023-01-13T12:58:27.648Z"
   },
   {
    "duration": 230,
    "start_time": "2023-01-13T12:58:35.153Z"
   },
   {
    "duration": 286,
    "start_time": "2023-01-13T12:58:40.274Z"
   },
   {
    "duration": 222,
    "start_time": "2023-01-13T13:00:53.298Z"
   },
   {
    "duration": 250,
    "start_time": "2023-01-13T13:10:53.314Z"
   },
   {
    "duration": 15,
    "start_time": "2023-01-13T13:11:07.030Z"
   },
   {
    "duration": 8,
    "start_time": "2023-01-13T13:25:10.351Z"
   },
   {
    "duration": 72,
    "start_time": "2023-01-13T13:25:21.696Z"
   },
   {
    "duration": 2,
    "start_time": "2023-01-13T13:25:21.770Z"
   },
   {
    "duration": 34,
    "start_time": "2023-01-13T13:25:21.774Z"
   },
   {
    "duration": 16,
    "start_time": "2023-01-13T13:25:21.810Z"
   },
   {
    "duration": 12,
    "start_time": "2023-01-13T13:25:21.827Z"
   },
   {
    "duration": 9,
    "start_time": "2023-01-13T13:25:21.841Z"
   },
   {
    "duration": 5,
    "start_time": "2023-01-13T13:25:21.852Z"
   },
   {
    "duration": 6,
    "start_time": "2023-01-13T13:25:21.859Z"
   },
   {
    "duration": 44,
    "start_time": "2023-01-13T13:25:21.867Z"
   },
   {
    "duration": 10,
    "start_time": "2023-01-13T13:25:21.913Z"
   },
   {
    "duration": 5,
    "start_time": "2023-01-13T13:25:21.924Z"
   },
   {
    "duration": 21,
    "start_time": "2023-01-13T13:25:21.930Z"
   },
   {
    "duration": 13,
    "start_time": "2023-01-13T13:25:21.953Z"
   },
   {
    "duration": 14,
    "start_time": "2023-01-13T13:25:21.968Z"
   },
   {
    "duration": 12,
    "start_time": "2023-01-13T13:25:21.983Z"
   },
   {
    "duration": 197,
    "start_time": "2023-01-13T13:25:22.004Z"
   },
   {
    "duration": 248,
    "start_time": "2023-01-13T13:25:22.203Z"
   },
   {
    "duration": 219,
    "start_time": "2023-01-13T13:25:25.322Z"
   },
   {
    "duration": 8,
    "start_time": "2023-01-13T13:25:29.644Z"
   },
   {
    "duration": 6,
    "start_time": "2023-01-13T13:25:36.877Z"
   },
   {
    "duration": 1483,
    "start_time": "2023-01-13T16:14:49.138Z"
   },
   {
    "duration": 3,
    "start_time": "2023-01-13T16:14:50.623Z"
   },
   {
    "duration": 34,
    "start_time": "2023-01-13T16:14:50.628Z"
   },
   {
    "duration": 17,
    "start_time": "2023-01-13T16:14:50.664Z"
   },
   {
    "duration": 11,
    "start_time": "2023-01-13T16:14:50.682Z"
   },
   {
    "duration": 22,
    "start_time": "2023-01-13T16:14:50.695Z"
   },
   {
    "duration": 18,
    "start_time": "2023-01-13T16:14:50.719Z"
   },
   {
    "duration": 13,
    "start_time": "2023-01-13T16:14:50.739Z"
   },
   {
    "duration": 32,
    "start_time": "2023-01-13T16:14:50.753Z"
   },
   {
    "duration": 25,
    "start_time": "2023-01-13T16:14:50.787Z"
   },
   {
    "duration": 28,
    "start_time": "2023-01-13T16:14:50.814Z"
   },
   {
    "duration": 15,
    "start_time": "2023-01-13T16:14:50.844Z"
   },
   {
    "duration": 15,
    "start_time": "2023-01-13T16:14:50.860Z"
   },
   {
    "duration": 26,
    "start_time": "2023-01-13T16:14:50.876Z"
   },
   {
    "duration": 16,
    "start_time": "2023-01-13T16:14:50.904Z"
   },
   {
    "duration": 217,
    "start_time": "2023-01-13T16:14:50.921Z"
   },
   {
    "duration": 265,
    "start_time": "2023-01-13T16:14:51.140Z"
   },
   {
    "duration": 5,
    "start_time": "2023-01-13T16:14:51.407Z"
   },
   {
    "duration": 25,
    "start_time": "2023-01-13T16:14:51.414Z"
   },
   {
    "duration": 301,
    "start_time": "2023-01-13T16:14:51.441Z"
   },
   {
    "duration": 313,
    "start_time": "2023-01-13T16:14:51.744Z"
   },
   {
    "duration": 6,
    "start_time": "2023-01-13T16:14:52.059Z"
   },
   {
    "duration": 2823,
    "start_time": "2023-01-13T16:14:52.077Z"
   },
   {
    "duration": 258,
    "start_time": "2023-01-13T16:14:54.901Z"
   },
   {
    "duration": 244,
    "start_time": "2023-01-13T16:14:55.160Z"
   },
   {
    "duration": 17,
    "start_time": "2023-01-13T16:14:55.406Z"
   },
   {
    "duration": 569,
    "start_time": "2023-01-13T16:14:55.425Z"
   },
   {
    "duration": 18,
    "start_time": "2023-01-13T16:14:55.998Z"
   },
   {
    "duration": 498,
    "start_time": "2023-01-13T16:14:56.018Z"
   },
   {
    "duration": 281,
    "start_time": "2023-01-13T16:14:56.517Z"
   },
   {
    "duration": 10,
    "start_time": "2023-01-13T16:14:56.799Z"
   },
   {
    "duration": 14,
    "start_time": "2023-01-13T16:14:56.811Z"
   },
   {
    "duration": 21,
    "start_time": "2023-01-13T16:14:56.826Z"
   },
   {
    "duration": 13,
    "start_time": "2023-01-13T16:14:56.849Z"
   },
   {
    "duration": 178,
    "start_time": "2023-01-13T16:19:31.546Z"
   },
   {
    "duration": 74,
    "start_time": "2023-01-13T16:20:58.939Z"
   },
   {
    "duration": 172,
    "start_time": "2023-01-13T16:21:05.275Z"
   },
   {
    "duration": 220,
    "start_time": "2023-01-13T16:21:23.834Z"
   },
   {
    "duration": 1220,
    "start_time": "2023-01-13T16:28:24.258Z"
   },
   {
    "duration": 3,
    "start_time": "2023-01-13T16:28:25.480Z"
   },
   {
    "duration": 28,
    "start_time": "2023-01-13T16:28:25.485Z"
   },
   {
    "duration": 15,
    "start_time": "2023-01-13T16:28:25.515Z"
   },
   {
    "duration": 15,
    "start_time": "2023-01-13T16:28:25.532Z"
   },
   {
    "duration": 12,
    "start_time": "2023-01-13T16:28:25.549Z"
   },
   {
    "duration": 15,
    "start_time": "2023-01-13T16:28:25.563Z"
   },
   {
    "duration": 14,
    "start_time": "2023-01-13T16:28:25.579Z"
   },
   {
    "duration": 29,
    "start_time": "2023-01-13T16:28:25.595Z"
   },
   {
    "duration": 11,
    "start_time": "2023-01-13T16:28:25.627Z"
   },
   {
    "duration": 5,
    "start_time": "2023-01-13T16:28:25.639Z"
   },
   {
    "duration": 24,
    "start_time": "2023-01-13T16:28:25.646Z"
   },
   {
    "duration": 16,
    "start_time": "2023-01-13T16:28:25.672Z"
   },
   {
    "duration": 24,
    "start_time": "2023-01-13T16:28:25.690Z"
   },
   {
    "duration": 18,
    "start_time": "2023-01-13T16:28:25.716Z"
   },
   {
    "duration": 229,
    "start_time": "2023-01-13T16:28:25.736Z"
   },
   {
    "duration": 277,
    "start_time": "2023-01-13T16:28:25.967Z"
   },
   {
    "duration": 7,
    "start_time": "2023-01-13T16:28:26.246Z"
   },
   {
    "duration": 300,
    "start_time": "2023-01-13T16:28:26.254Z"
   },
   {
    "duration": 335,
    "start_time": "2023-01-13T16:28:26.556Z"
   },
   {
    "duration": 6,
    "start_time": "2023-01-13T16:28:26.893Z"
   },
   {
    "duration": 3028,
    "start_time": "2023-01-13T16:28:26.901Z"
   },
   {
    "duration": 260,
    "start_time": "2023-01-13T16:28:29.931Z"
   },
   {
    "duration": 269,
    "start_time": "2023-01-13T16:28:30.193Z"
   },
   {
    "duration": 22,
    "start_time": "2023-01-13T16:28:30.464Z"
   },
   {
    "duration": 593,
    "start_time": "2023-01-13T16:28:30.488Z"
   },
   {
    "duration": 18,
    "start_time": "2023-01-13T16:28:31.083Z"
   },
   {
    "duration": 483,
    "start_time": "2023-01-13T16:28:31.104Z"
   },
   {
    "duration": 292,
    "start_time": "2023-01-13T16:28:31.588Z"
   },
   {
    "duration": 10,
    "start_time": "2023-01-13T16:28:31.881Z"
   },
   {
    "duration": 11,
    "start_time": "2023-01-13T16:28:31.892Z"
   },
   {
    "duration": 19,
    "start_time": "2023-01-13T16:28:31.904Z"
   },
   {
    "duration": 8,
    "start_time": "2023-01-13T16:28:31.925Z"
   },
   {
    "duration": 45,
    "start_time": "2023-01-13T17:11:28.883Z"
   },
   {
    "duration": 1773,
    "start_time": "2023-01-13T17:11:57.868Z"
   },
   {
    "duration": 3,
    "start_time": "2023-01-13T17:11:59.643Z"
   },
   {
    "duration": 20,
    "start_time": "2023-01-13T17:11:59.647Z"
   },
   {
    "duration": 16,
    "start_time": "2023-01-13T17:11:59.668Z"
   },
   {
    "duration": 12,
    "start_time": "2023-01-13T17:11:59.686Z"
   },
   {
    "duration": 8,
    "start_time": "2023-01-13T17:11:59.699Z"
   },
   {
    "duration": 5,
    "start_time": "2023-01-13T17:11:59.709Z"
   },
   {
    "duration": 8,
    "start_time": "2023-01-13T17:11:59.715Z"
   },
   {
    "duration": 18,
    "start_time": "2023-01-13T17:11:59.725Z"
   },
   {
    "duration": 40,
    "start_time": "2023-01-13T17:11:59.744Z"
   },
   {
    "duration": 5,
    "start_time": "2023-01-13T17:11:59.785Z"
   },
   {
    "duration": 15,
    "start_time": "2023-01-13T17:11:59.791Z"
   },
   {
    "duration": 11,
    "start_time": "2023-01-13T17:11:59.808Z"
   },
   {
    "duration": 12,
    "start_time": "2023-01-13T17:11:59.823Z"
   },
   {
    "duration": 5,
    "start_time": "2023-01-13T17:11:59.836Z"
   },
   {
    "duration": 233,
    "start_time": "2023-01-13T17:11:59.843Z"
   },
   {
    "duration": 319,
    "start_time": "2023-01-13T17:12:00.078Z"
   },
   {
    "duration": 6,
    "start_time": "2023-01-13T17:12:00.400Z"
   },
   {
    "duration": 306,
    "start_time": "2023-01-13T17:12:00.408Z"
   },
   {
    "duration": 299,
    "start_time": "2023-01-13T17:12:00.716Z"
   },
   {
    "duration": 6,
    "start_time": "2023-01-13T17:12:01.017Z"
   },
   {
    "duration": 2419,
    "start_time": "2023-01-13T17:12:01.025Z"
   },
   {
    "duration": 226,
    "start_time": "2023-01-13T17:12:03.446Z"
   },
   {
    "duration": 220,
    "start_time": "2023-01-13T17:12:03.677Z"
   },
   {
    "duration": 17,
    "start_time": "2023-01-13T17:12:03.898Z"
   },
   {
    "duration": 516,
    "start_time": "2023-01-13T17:12:03.916Z"
   },
   {
    "duration": 17,
    "start_time": "2023-01-13T17:12:04.434Z"
   },
   {
    "duration": 551,
    "start_time": "2023-01-13T17:12:04.452Z"
   },
   {
    "duration": 296,
    "start_time": "2023-01-13T17:12:05.004Z"
   },
   {
    "duration": 10,
    "start_time": "2023-01-13T17:12:05.302Z"
   },
   {
    "duration": 8,
    "start_time": "2023-01-13T17:12:05.313Z"
   },
   {
    "duration": 21,
    "start_time": "2023-01-13T17:12:05.323Z"
   },
   {
    "duration": 13,
    "start_time": "2023-01-13T17:12:05.345Z"
   },
   {
    "duration": 192,
    "start_time": "2023-01-13T17:12:14.817Z"
   },
   {
    "duration": 263,
    "start_time": "2023-01-13T17:15:50.663Z"
   },
   {
    "duration": 280,
    "start_time": "2023-01-13T17:15:54.042Z"
   },
   {
    "duration": 1479,
    "start_time": "2023-01-13T19:37:17.105Z"
   },
   {
    "duration": 73,
    "start_time": "2023-01-13T20:00:37.198Z"
   },
   {
    "duration": 86,
    "start_time": "2023-01-13T20:01:45.276Z"
   },
   {
    "duration": 1151,
    "start_time": "2023-01-13T20:04:38.182Z"
   },
   {
    "duration": 71,
    "start_time": "2023-01-13T20:04:46.645Z"
   },
   {
    "duration": 3,
    "start_time": "2023-01-13T20:04:46.718Z"
   },
   {
    "duration": 28,
    "start_time": "2023-01-13T20:04:46.722Z"
   },
   {
    "duration": 27,
    "start_time": "2023-01-13T20:04:46.752Z"
   },
   {
    "duration": 12,
    "start_time": "2023-01-13T20:04:46.780Z"
   },
   {
    "duration": 11,
    "start_time": "2023-01-13T20:04:46.794Z"
   },
   {
    "duration": 14,
    "start_time": "2023-01-13T20:04:46.806Z"
   },
   {
    "duration": 8,
    "start_time": "2023-01-13T20:04:46.822Z"
   },
   {
    "duration": 19,
    "start_time": "2023-01-13T20:04:46.832Z"
   },
   {
    "duration": 24,
    "start_time": "2023-01-13T20:04:46.854Z"
   },
   {
    "duration": 4,
    "start_time": "2023-01-13T20:04:46.880Z"
   },
   {
    "duration": 19,
    "start_time": "2023-01-13T20:04:46.886Z"
   },
   {
    "duration": 12,
    "start_time": "2023-01-13T20:04:46.906Z"
   },
   {
    "duration": 13,
    "start_time": "2023-01-13T20:04:46.920Z"
   },
   {
    "duration": 6,
    "start_time": "2023-01-13T20:04:46.935Z"
   },
   {
    "duration": 223,
    "start_time": "2023-01-13T20:04:46.943Z"
   },
   {
    "duration": 194,
    "start_time": "2023-01-13T20:05:15.849Z"
   },
   {
    "duration": 194,
    "start_time": "2023-01-13T20:05:36.432Z"
   },
   {
    "duration": 275,
    "start_time": "2023-01-13T20:10:47.402Z"
   },
   {
    "duration": 243,
    "start_time": "2023-01-13T20:11:05.635Z"
   },
   {
    "duration": 217,
    "start_time": "2023-01-13T20:11:20.033Z"
   },
   {
    "duration": 194,
    "start_time": "2023-01-13T20:11:47.136Z"
   },
   {
    "duration": 273,
    "start_time": "2023-01-13T20:12:06.496Z"
   },
   {
    "duration": 15,
    "start_time": "2023-01-13T20:13:15.650Z"
   },
   {
    "duration": 72,
    "start_time": "2023-01-13T20:13:20.685Z"
   },
   {
    "duration": 3,
    "start_time": "2023-01-13T20:13:20.760Z"
   },
   {
    "duration": 31,
    "start_time": "2023-01-13T20:13:20.764Z"
   },
   {
    "duration": 15,
    "start_time": "2023-01-13T20:13:20.797Z"
   },
   {
    "duration": 13,
    "start_time": "2023-01-13T20:13:20.814Z"
   },
   {
    "duration": 10,
    "start_time": "2023-01-13T20:13:20.828Z"
   },
   {
    "duration": 11,
    "start_time": "2023-01-13T20:13:20.840Z"
   },
   {
    "duration": 6,
    "start_time": "2023-01-13T20:13:20.853Z"
   },
   {
    "duration": 31,
    "start_time": "2023-01-13T20:13:20.860Z"
   },
   {
    "duration": 19,
    "start_time": "2023-01-13T20:13:20.893Z"
   },
   {
    "duration": 5,
    "start_time": "2023-01-13T20:13:20.913Z"
   },
   {
    "duration": 15,
    "start_time": "2023-01-13T20:13:20.919Z"
   },
   {
    "duration": 11,
    "start_time": "2023-01-13T20:13:20.936Z"
   },
   {
    "duration": 34,
    "start_time": "2023-01-13T20:13:20.949Z"
   },
   {
    "duration": 10,
    "start_time": "2023-01-13T20:13:20.985Z"
   },
   {
    "duration": 287,
    "start_time": "2023-01-13T20:13:20.996Z"
   },
   {
    "duration": 246,
    "start_time": "2023-01-13T20:13:21.284Z"
   },
   {
    "duration": 5,
    "start_time": "2023-01-13T20:13:21.532Z"
   },
   {
    "duration": 279,
    "start_time": "2023-01-13T20:13:21.539Z"
   },
   {
    "duration": 295,
    "start_time": "2023-01-13T20:13:21.820Z"
   },
   {
    "duration": 6,
    "start_time": "2023-01-13T20:13:22.116Z"
   },
   {
    "duration": 2586,
    "start_time": "2023-01-13T20:13:22.124Z"
   },
   {
    "duration": 245,
    "start_time": "2023-01-13T20:13:24.712Z"
   },
   {
    "duration": 246,
    "start_time": "2023-01-13T20:13:30.004Z"
   },
   {
    "duration": 249,
    "start_time": "2023-01-13T20:13:37.784Z"
   },
   {
    "duration": 1555,
    "start_time": "2023-01-14T15:27:46.803Z"
   },
   {
    "duration": 3,
    "start_time": "2023-01-14T15:27:48.360Z"
   },
   {
    "duration": 20,
    "start_time": "2023-01-14T15:27:48.365Z"
   },
   {
    "duration": 16,
    "start_time": "2023-01-14T15:27:48.387Z"
   },
   {
    "duration": 12,
    "start_time": "2023-01-14T15:27:48.413Z"
   },
   {
    "duration": 8,
    "start_time": "2023-01-14T15:27:48.426Z"
   },
   {
    "duration": 8,
    "start_time": "2023-01-14T15:27:48.436Z"
   },
   {
    "duration": 6,
    "start_time": "2023-01-14T15:27:48.446Z"
   },
   {
    "duration": 26,
    "start_time": "2023-01-14T15:27:48.453Z"
   },
   {
    "duration": 16,
    "start_time": "2023-01-14T15:27:48.480Z"
   },
   {
    "duration": 5,
    "start_time": "2023-01-14T15:27:48.513Z"
   },
   {
    "duration": 18,
    "start_time": "2023-01-14T15:27:48.520Z"
   },
   {
    "duration": 14,
    "start_time": "2023-01-14T15:27:48.540Z"
   },
   {
    "duration": 10,
    "start_time": "2023-01-14T15:27:48.557Z"
   },
   {
    "duration": 6,
    "start_time": "2023-01-14T15:27:48.569Z"
   },
   {
    "duration": 252,
    "start_time": "2023-01-14T15:27:48.577Z"
   },
   {
    "duration": 306,
    "start_time": "2023-01-14T15:27:48.831Z"
   },
   {
    "duration": 7,
    "start_time": "2023-01-14T15:27:49.139Z"
   },
   {
    "duration": 303,
    "start_time": "2023-01-14T15:27:49.147Z"
   },
   {
    "duration": 296,
    "start_time": "2023-01-14T15:27:49.451Z"
   },
   {
    "duration": 6,
    "start_time": "2023-01-14T15:27:49.748Z"
   },
   {
    "duration": 2609,
    "start_time": "2023-01-14T15:27:49.755Z"
   },
   {
    "duration": 240,
    "start_time": "2023-01-14T15:27:52.365Z"
   },
   {
    "duration": 250,
    "start_time": "2023-01-14T15:27:52.608Z"
   },
   {
    "duration": 20,
    "start_time": "2023-01-14T15:27:52.861Z"
   },
   {
    "duration": 564,
    "start_time": "2023-01-14T15:27:52.883Z"
   },
   {
    "duration": 19,
    "start_time": "2023-01-14T15:27:53.448Z"
   },
   {
    "duration": 557,
    "start_time": "2023-01-14T15:27:53.469Z"
   },
   {
    "duration": 295,
    "start_time": "2023-01-14T15:27:54.028Z"
   },
   {
    "duration": 10,
    "start_time": "2023-01-14T15:27:54.325Z"
   },
   {
    "duration": 7,
    "start_time": "2023-01-14T15:27:54.337Z"
   },
   {
    "duration": 15,
    "start_time": "2023-01-14T15:27:54.346Z"
   },
   {
    "duration": 8,
    "start_time": "2023-01-14T15:27:54.362Z"
   },
   {
    "duration": 52,
    "start_time": "2023-01-14T16:50:58.967Z"
   },
   {
    "duration": 1849,
    "start_time": "2023-01-14T16:51:05.054Z"
   },
   {
    "duration": 4,
    "start_time": "2023-01-14T16:51:06.905Z"
   },
   {
    "duration": 33,
    "start_time": "2023-01-14T16:51:06.910Z"
   },
   {
    "duration": 21,
    "start_time": "2023-01-14T16:51:06.945Z"
   },
   {
    "duration": 16,
    "start_time": "2023-01-14T16:51:06.967Z"
   },
   {
    "duration": 27,
    "start_time": "2023-01-14T16:51:06.985Z"
   },
   {
    "duration": 30,
    "start_time": "2023-01-14T16:51:07.014Z"
   },
   {
    "duration": 48,
    "start_time": "2023-01-14T16:51:07.046Z"
   },
   {
    "duration": 50,
    "start_time": "2023-01-14T16:51:07.096Z"
   },
   {
    "duration": 62,
    "start_time": "2023-01-14T16:51:07.148Z"
   },
   {
    "duration": 32,
    "start_time": "2023-01-14T16:51:07.212Z"
   },
   {
    "duration": 37,
    "start_time": "2023-01-14T16:51:07.245Z"
   },
   {
    "duration": 48,
    "start_time": "2023-01-14T16:51:07.284Z"
   },
   {
    "duration": 49,
    "start_time": "2023-01-14T16:51:07.334Z"
   },
   {
    "duration": 42,
    "start_time": "2023-01-14T16:51:07.385Z"
   },
   {
    "duration": 232,
    "start_time": "2023-01-14T16:51:07.428Z"
   },
   {
    "duration": 282,
    "start_time": "2023-01-14T16:51:07.663Z"
   },
   {
    "duration": 5,
    "start_time": "2023-01-14T16:51:07.947Z"
   },
   {
    "duration": 268,
    "start_time": "2023-01-14T16:51:15.387Z"
   },
   {
    "duration": 286,
    "start_time": "2023-01-14T16:52:06.394Z"
   },
   {
    "duration": 302,
    "start_time": "2023-01-14T17:06:00.608Z"
   },
   {
    "duration": 72,
    "start_time": "2023-01-14T17:06:04.475Z"
   },
   {
    "duration": 3,
    "start_time": "2023-01-14T17:06:04.549Z"
   },
   {
    "duration": 36,
    "start_time": "2023-01-14T17:06:04.553Z"
   },
   {
    "duration": 27,
    "start_time": "2023-01-14T17:06:04.591Z"
   },
   {
    "duration": 37,
    "start_time": "2023-01-14T17:06:04.620Z"
   },
   {
    "duration": 21,
    "start_time": "2023-01-14T17:06:04.658Z"
   },
   {
    "duration": 25,
    "start_time": "2023-01-14T17:06:04.681Z"
   },
   {
    "duration": 19,
    "start_time": "2023-01-14T17:06:04.708Z"
   },
   {
    "duration": 29,
    "start_time": "2023-01-14T17:06:04.729Z"
   },
   {
    "duration": 28,
    "start_time": "2023-01-14T17:06:04.761Z"
   },
   {
    "duration": 21,
    "start_time": "2023-01-14T17:06:04.791Z"
   },
   {
    "duration": 31,
    "start_time": "2023-01-14T17:06:04.813Z"
   },
   {
    "duration": 90,
    "start_time": "2023-01-14T17:06:04.846Z"
   },
   {
    "duration": 32,
    "start_time": "2023-01-14T17:06:04.938Z"
   },
   {
    "duration": 18,
    "start_time": "2023-01-14T17:06:04.973Z"
   },
   {
    "duration": 231,
    "start_time": "2023-01-14T17:06:04.993Z"
   },
   {
    "duration": 255,
    "start_time": "2023-01-14T17:06:05.226Z"
   },
   {
    "duration": 5,
    "start_time": "2023-01-14T17:06:05.483Z"
   },
   {
    "duration": 315,
    "start_time": "2023-01-14T17:06:05.490Z"
   },
   {
    "duration": 410,
    "start_time": "2023-01-14T17:06:05.806Z"
   },
   {
    "duration": 323,
    "start_time": "2023-01-14T17:06:06.217Z"
   },
   {
    "duration": 6,
    "start_time": "2023-01-14T17:06:06.542Z"
   },
   {
    "duration": 2461,
    "start_time": "2023-01-14T17:06:06.549Z"
   },
   {
    "duration": 227,
    "start_time": "2023-01-14T17:06:09.012Z"
   },
   {
    "duration": 224,
    "start_time": "2023-01-14T17:06:09.241Z"
   },
   {
    "duration": 271,
    "start_time": "2023-01-14T17:09:54.410Z"
   },
   {
    "duration": 356,
    "start_time": "2023-01-14T17:18:43.299Z"
   },
   {
    "duration": 66,
    "start_time": "2023-01-14T17:47:51.827Z"
   },
   {
    "duration": 59,
    "start_time": "2023-01-14T18:43:52.329Z"
   },
   {
    "duration": 73,
    "start_time": "2023-01-14T18:43:56.332Z"
   },
   {
    "duration": 3,
    "start_time": "2023-01-14T18:43:56.407Z"
   },
   {
    "duration": 18,
    "start_time": "2023-01-14T18:43:56.411Z"
   },
   {
    "duration": 16,
    "start_time": "2023-01-14T18:43:56.431Z"
   },
   {
    "duration": 36,
    "start_time": "2023-01-14T18:43:56.448Z"
   },
   {
    "duration": 8,
    "start_time": "2023-01-14T18:43:56.486Z"
   },
   {
    "duration": 5,
    "start_time": "2023-01-14T18:43:56.495Z"
   },
   {
    "duration": 5,
    "start_time": "2023-01-14T18:43:56.501Z"
   },
   {
    "duration": 16,
    "start_time": "2023-01-14T18:43:56.507Z"
   },
   {
    "duration": 10,
    "start_time": "2023-01-14T18:43:56.525Z"
   },
   {
    "duration": 7,
    "start_time": "2023-01-14T18:43:56.536Z"
   },
   {
    "duration": 41,
    "start_time": "2023-01-14T18:43:56.545Z"
   },
   {
    "duration": 10,
    "start_time": "2023-01-14T18:43:56.588Z"
   },
   {
    "duration": 13,
    "start_time": "2023-01-14T18:43:56.600Z"
   },
   {
    "duration": 3,
    "start_time": "2023-01-14T18:43:56.615Z"
   },
   {
    "duration": 203,
    "start_time": "2023-01-14T18:43:56.620Z"
   },
   {
    "duration": 260,
    "start_time": "2023-01-14T18:43:56.824Z"
   },
   {
    "duration": 6,
    "start_time": "2023-01-14T18:43:57.086Z"
   },
   {
    "duration": 300,
    "start_time": "2023-01-14T18:43:57.094Z"
   },
   {
    "duration": 269,
    "start_time": "2023-01-14T18:43:57.395Z"
   },
   {
    "duration": 283,
    "start_time": "2023-01-14T18:43:57.665Z"
   },
   {
    "duration": 6,
    "start_time": "2023-01-14T18:43:57.949Z"
   },
   {
    "duration": 2417,
    "start_time": "2023-01-14T18:43:57.956Z"
   },
   {
    "duration": 221,
    "start_time": "2023-01-14T18:44:00.375Z"
   },
   {
    "duration": 233,
    "start_time": "2023-01-14T18:44:00.597Z"
   },
   {
    "duration": 283,
    "start_time": "2023-01-14T18:44:00.831Z"
   },
   {
    "duration": 421,
    "start_time": "2023-01-14T18:44:01.116Z"
   },
   {
    "duration": 18,
    "start_time": "2023-01-14T18:44:01.540Z"
   },
   {
    "duration": 527,
    "start_time": "2023-01-14T18:44:01.560Z"
   },
   {
    "duration": 17,
    "start_time": "2023-01-14T18:44:02.089Z"
   },
   {
    "duration": 450,
    "start_time": "2023-01-14T18:44:02.107Z"
   },
   {
    "duration": 295,
    "start_time": "2023-01-14T18:44:02.558Z"
   },
   {
    "duration": 23,
    "start_time": "2023-01-14T18:44:02.854Z"
   },
   {
    "duration": 27,
    "start_time": "2023-01-14T18:44:02.880Z"
   },
   {
    "duration": 33,
    "start_time": "2023-01-14T18:44:02.909Z"
   },
   {
    "duration": 5,
    "start_time": "2023-01-14T18:44:04.989Z"
   },
   {
    "duration": 94,
    "start_time": "2023-01-14T18:48:01.538Z"
   },
   {
    "duration": 71,
    "start_time": "2023-01-14T18:50:16.959Z"
   },
   {
    "duration": 1104,
    "start_time": "2023-01-14T18:54:57.538Z"
   },
   {
    "duration": 3,
    "start_time": "2023-01-14T18:54:58.644Z"
   },
   {
    "duration": 23,
    "start_time": "2023-01-14T18:54:58.648Z"
   },
   {
    "duration": 23,
    "start_time": "2023-01-14T18:54:58.673Z"
   },
   {
    "duration": 10,
    "start_time": "2023-01-14T18:54:58.698Z"
   },
   {
    "duration": 9,
    "start_time": "2023-01-14T18:54:58.710Z"
   },
   {
    "duration": 6,
    "start_time": "2023-01-14T18:54:58.720Z"
   },
   {
    "duration": 9,
    "start_time": "2023-01-14T18:54:58.728Z"
   },
   {
    "duration": 17,
    "start_time": "2023-01-14T18:54:58.738Z"
   },
   {
    "duration": 21,
    "start_time": "2023-01-14T18:54:58.757Z"
   },
   {
    "duration": 4,
    "start_time": "2023-01-14T18:54:58.780Z"
   },
   {
    "duration": 13,
    "start_time": "2023-01-14T18:54:58.785Z"
   },
   {
    "duration": 11,
    "start_time": "2023-01-14T18:54:58.800Z"
   },
   {
    "duration": 16,
    "start_time": "2023-01-14T18:54:58.812Z"
   },
   {
    "duration": 5,
    "start_time": "2023-01-14T18:54:58.829Z"
   },
   {
    "duration": 227,
    "start_time": "2023-01-14T18:54:58.836Z"
   },
   {
    "duration": 273,
    "start_time": "2023-01-14T18:54:59.065Z"
   },
   {
    "duration": 6,
    "start_time": "2023-01-14T18:54:59.340Z"
   },
   {
    "duration": 260,
    "start_time": "2023-01-14T18:54:59.348Z"
   },
   {
    "duration": 275,
    "start_time": "2023-01-14T18:54:59.610Z"
   },
   {
    "duration": 289,
    "start_time": "2023-01-14T18:54:59.887Z"
   },
   {
    "duration": 7,
    "start_time": "2023-01-14T18:55:00.177Z"
   },
   {
    "duration": 2459,
    "start_time": "2023-01-14T18:55:00.185Z"
   },
   {
    "duration": 248,
    "start_time": "2023-01-14T18:55:02.646Z"
   },
   {
    "duration": 318,
    "start_time": "2023-01-14T18:55:02.896Z"
   },
   {
    "duration": 274,
    "start_time": "2023-01-14T18:55:03.216Z"
   },
   {
    "duration": 279,
    "start_time": "2023-01-14T18:55:03.492Z"
   },
   {
    "duration": 18,
    "start_time": "2023-01-14T18:55:03.777Z"
   },
   {
    "duration": 487,
    "start_time": "2023-01-14T18:55:03.796Z"
   },
   {
    "duration": 18,
    "start_time": "2023-01-14T18:55:04.285Z"
   },
   {
    "duration": 462,
    "start_time": "2023-01-14T18:55:04.304Z"
   },
   {
    "duration": 285,
    "start_time": "2023-01-14T18:55:04.768Z"
   },
   {
    "duration": 10,
    "start_time": "2023-01-14T18:55:05.054Z"
   },
   {
    "duration": 22,
    "start_time": "2023-01-14T18:55:05.078Z"
   },
   {
    "duration": 67,
    "start_time": "2023-01-14T18:55:05.102Z"
   },
   {
    "duration": 22,
    "start_time": "2023-01-14T18:55:05.171Z"
   },
   {
    "duration": 1596,
    "start_time": "2023-08-10T07:08:24.739Z"
   },
   {
    "duration": 4,
    "start_time": "2023-08-10T07:08:26.337Z"
   },
   {
    "duration": 39,
    "start_time": "2023-08-10T07:08:26.342Z"
   },
   {
    "duration": 32,
    "start_time": "2023-08-10T07:08:26.383Z"
   },
   {
    "duration": 14,
    "start_time": "2023-08-10T07:08:26.416Z"
   },
   {
    "duration": 37,
    "start_time": "2023-08-10T07:08:26.431Z"
   },
   {
    "duration": 37,
    "start_time": "2023-08-10T07:08:26.470Z"
   },
   {
    "duration": 23,
    "start_time": "2023-08-10T07:08:26.509Z"
   },
   {
    "duration": 45,
    "start_time": "2023-08-10T07:08:26.534Z"
   },
   {
    "duration": 26,
    "start_time": "2023-08-10T07:08:26.582Z"
   },
   {
    "duration": 6,
    "start_time": "2023-08-10T07:08:26.610Z"
   },
   {
    "duration": 31,
    "start_time": "2023-08-10T07:08:26.618Z"
   },
   {
    "duration": 22,
    "start_time": "2023-08-10T07:08:26.652Z"
   },
   {
    "duration": 44,
    "start_time": "2023-08-10T07:08:26.675Z"
   },
   {
    "duration": 4,
    "start_time": "2023-08-10T07:08:26.721Z"
   },
   {
    "duration": 241,
    "start_time": "2023-08-10T07:08:26.727Z"
   },
   {
    "duration": 282,
    "start_time": "2023-08-10T07:08:26.970Z"
   },
   {
    "duration": 7,
    "start_time": "2023-08-10T07:08:27.254Z"
   },
   {
    "duration": 346,
    "start_time": "2023-08-10T07:08:27.263Z"
   },
   {
    "duration": 336,
    "start_time": "2023-08-10T07:08:27.611Z"
   },
   {
    "duration": 7,
    "start_time": "2023-08-10T07:08:27.949Z"
   },
   {
    "duration": 2791,
    "start_time": "2023-08-10T07:08:27.957Z"
   },
   {
    "duration": 257,
    "start_time": "2023-08-10T07:08:30.750Z"
   },
   {
    "duration": 248,
    "start_time": "2023-08-10T07:08:31.009Z"
   },
   {
    "duration": 394,
    "start_time": "2023-08-10T07:08:31.259Z"
   },
   {
    "duration": 312,
    "start_time": "2023-08-10T07:08:31.655Z"
   },
   {
    "duration": 33,
    "start_time": "2023-08-10T07:08:31.968Z"
   },
   {
    "duration": 542,
    "start_time": "2023-08-10T07:08:32.004Z"
   },
   {
    "duration": 20,
    "start_time": "2023-08-10T07:08:32.548Z"
   },
   {
    "duration": 509,
    "start_time": "2023-08-10T07:08:32.586Z"
   },
   {
    "duration": 312,
    "start_time": "2023-08-10T07:08:33.102Z"
   },
   {
    "duration": 10,
    "start_time": "2023-08-10T07:08:33.416Z"
   },
   {
    "duration": 16,
    "start_time": "2023-08-10T07:08:33.427Z"
   },
   {
    "duration": 32,
    "start_time": "2023-08-10T07:08:33.445Z"
   },
   {
    "duration": 28,
    "start_time": "2023-08-10T07:08:33.479Z"
   },
   {
    "duration": 326,
    "start_time": "2023-08-10T07:09:08.533Z"
   },
   {
    "duration": 309,
    "start_time": "2023-08-10T07:09:33.733Z"
   },
   {
    "duration": 1292,
    "start_time": "2023-08-10T07:13:02.437Z"
   },
   {
    "duration": 3,
    "start_time": "2023-08-10T07:13:03.732Z"
   },
   {
    "duration": 70,
    "start_time": "2023-08-10T07:13:03.737Z"
   },
   {
    "duration": 71,
    "start_time": "2023-08-10T07:13:03.810Z"
   },
   {
    "duration": 21,
    "start_time": "2023-08-10T07:13:03.884Z"
   },
   {
    "duration": 12,
    "start_time": "2023-08-10T07:13:03.908Z"
   },
   {
    "duration": 11,
    "start_time": "2023-08-10T07:13:03.922Z"
   },
   {
    "duration": 26,
    "start_time": "2023-08-10T07:13:03.935Z"
   },
   {
    "duration": 45,
    "start_time": "2023-08-10T07:13:03.963Z"
   },
   {
    "duration": 13,
    "start_time": "2023-08-10T07:13:04.010Z"
   },
   {
    "duration": 25,
    "start_time": "2023-08-10T07:13:04.024Z"
   },
   {
    "duration": 27,
    "start_time": "2023-08-10T07:13:04.051Z"
   },
   {
    "duration": 24,
    "start_time": "2023-08-10T07:13:04.080Z"
   },
   {
    "duration": 21,
    "start_time": "2023-08-10T07:13:04.108Z"
   },
   {
    "duration": 10,
    "start_time": "2023-08-10T07:13:04.131Z"
   },
   {
    "duration": 236,
    "start_time": "2023-08-10T07:13:04.142Z"
   },
   {
    "duration": 283,
    "start_time": "2023-08-10T07:13:04.379Z"
   },
   {
    "duration": 6,
    "start_time": "2023-08-10T07:13:04.664Z"
   },
   {
    "duration": 579,
    "start_time": "2023-08-10T07:13:04.672Z"
   },
   {
    "duration": 349,
    "start_time": "2023-08-10T07:13:05.253Z"
   },
   {
    "duration": 6,
    "start_time": "2023-08-10T07:13:05.607Z"
   },
   {
    "duration": 2852,
    "start_time": "2023-08-10T07:13:05.615Z"
   },
   {
    "duration": 314,
    "start_time": "2023-08-10T07:13:08.469Z"
   },
   {
    "duration": 291,
    "start_time": "2023-08-10T07:13:08.787Z"
   },
   {
    "duration": 425,
    "start_time": "2023-08-10T07:13:09.080Z"
   },
   {
    "duration": 344,
    "start_time": "2023-08-10T07:13:09.507Z"
   },
   {
    "duration": 20,
    "start_time": "2023-08-10T07:13:09.853Z"
   },
   {
    "duration": 524,
    "start_time": "2023-08-10T07:13:09.875Z"
   },
   {
    "duration": 28,
    "start_time": "2023-08-10T07:13:10.405Z"
   },
   {
    "duration": 475,
    "start_time": "2023-08-10T07:13:10.436Z"
   },
   {
    "duration": 332,
    "start_time": "2023-08-10T07:13:10.913Z"
   },
   {
    "duration": 11,
    "start_time": "2023-08-10T07:13:11.247Z"
   },
   {
    "duration": 42,
    "start_time": "2023-08-10T07:13:11.260Z"
   },
   {
    "duration": 63,
    "start_time": "2023-08-10T07:13:11.306Z"
   },
   {
    "duration": 24,
    "start_time": "2023-08-10T07:13:11.371Z"
   }
  ],
  "kernelspec": {
   "display_name": "Python 3 (ipykernel)",
   "language": "python",
   "name": "python3"
  },
  "language_info": {
   "codemirror_mode": {
    "name": "ipython",
    "version": 3
   },
   "file_extension": ".py",
   "mimetype": "text/x-python",
   "name": "python",
   "nbconvert_exporter": "python",
   "pygments_lexer": "ipython3",
   "version": "3.9.5"
  },
  "toc": {
   "base_numbering": 1,
   "nav_menu": {},
   "number_sections": true,
   "sideBar": true,
   "skip_h1_title": true,
   "title_cell": "Table of Contents",
   "title_sidebar": "Contents",
   "toc_cell": false,
   "toc_position": {},
   "toc_section_display": true,
   "toc_window_display": false
  }
 },
 "nbformat": 4,
 "nbformat_minor": 2
}
