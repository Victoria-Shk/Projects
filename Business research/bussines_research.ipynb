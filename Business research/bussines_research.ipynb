{
 "cells": [
  {
   "cell_type": "markdown",
   "metadata": {
    "toc": true
   },
   "source": [
    "<h1>Table of Contents<span class=\"tocSkip\"></span></h1>\n",
    "<div class=\"toc\"><ul class=\"toc-item\"><li><span><a href=\"#Этап.-Приоритизация-гипотез.\" data-toc-modified-id=\"Этап.-Приоритизация-гипотез.-1\"><span class=\"toc-item-num\">1&nbsp;&nbsp;</span>Этап. Приоритизация гипотез.</a></span><ul class=\"toc-item\"><li><span><a href=\"#Приоритизация-методом-ICE.\" data-toc-modified-id=\"Приоритизация-методом-ICE.-1.1\"><span class=\"toc-item-num\">1.1&nbsp;&nbsp;</span>Приоритизация методом ICE.</a></span></li><li><span><a href=\"#Приоритизация-методом-RICE.\" data-toc-modified-id=\"Приоритизация-методом-RICE.-1.2\"><span class=\"toc-item-num\">1.2&nbsp;&nbsp;</span>Приоритизация методом RICE.</a></span></li><li><span><a href=\"#Сравнение-приоритизации.\" data-toc-modified-id=\"Сравнение-приоритизации.-1.3\"><span class=\"toc-item-num\">1.3&nbsp;&nbsp;</span>Сравнение приоритизации.</a></span></li></ul></li><li><span><a href=\"#Этап.-Анализ-А/В-теста.\" data-toc-modified-id=\"Этап.-Анализ-А/В-теста.-2\"><span class=\"toc-item-num\">2&nbsp;&nbsp;</span>Этап. Анализ А/В теста.</a></span><ul class=\"toc-item\"><li><span><a href=\"#Предобработка-данных.\" data-toc-modified-id=\"Предобработка-данных.-2.1\"><span class=\"toc-item-num\">2.1&nbsp;&nbsp;</span>Предобработка данных.</a></span></li><li><span><a href=\"#График-кумулятивной-выручки-по-группам.\" data-toc-modified-id=\"График-кумулятивной-выручки-по-группам.-2.2\"><span class=\"toc-item-num\">2.2&nbsp;&nbsp;</span>График кумулятивной выручки по группам.</a></span></li><li><span><a href=\"#График-кумулятивного-среднего-чека-по-группам.\" data-toc-modified-id=\"График-кумулятивного-среднего-чека-по-группам.-2.3\"><span class=\"toc-item-num\">2.3&nbsp;&nbsp;</span>График кумулятивного среднего чека по группам.</a></span></li><li><span><a href=\"#График-относительного-изменения-кумулятивного-среднего-чека-группы-B-к-группе-A.\" data-toc-modified-id=\"График-относительного-изменения-кумулятивного-среднего-чека-группы-B-к-группе-A.-2.4\"><span class=\"toc-item-num\">2.4&nbsp;&nbsp;</span>График относительного изменения кумулятивного среднего чека группы B к группе A.</a></span></li><li><span><a href=\"#График-кумулятивного-среднего-количества-заказов-на-посетителя-по-группам.\" data-toc-modified-id=\"График-кумулятивного-среднего-количества-заказов-на-посетителя-по-группам.-2.5\"><span class=\"toc-item-num\">2.5&nbsp;&nbsp;</span>График кумулятивного среднего количества заказов на посетителя по группам.</a></span></li><li><span><a href=\"#График-относительного-изменения-кумулятивного-среднего-количества-заказов-на-посетителя-группы-B-к-группе-A.\" data-toc-modified-id=\"График-относительного-изменения-кумулятивного-среднего-количества-заказов-на-посетителя-группы-B-к-группе-A.-2.6\"><span class=\"toc-item-num\">2.6&nbsp;&nbsp;</span>График относительного изменения кумулятивного среднего количества заказов на посетителя группы B к группе A.</a></span></li><li><span><a href=\"#Точечный-график-количества-заказов-по-пользователям.\" data-toc-modified-id=\"Точечный-график-количества-заказов-по-пользователям.-2.7\"><span class=\"toc-item-num\">2.7&nbsp;&nbsp;</span>Точечный график количества заказов по пользователям.</a></span></li><li><span><a href=\"#Расчет-95-го-и-99-го-перцентилей-количества-заказов.\" data-toc-modified-id=\"Расчет-95-го-и-99-го-перцентилей-количества-заказов.-2.8\"><span class=\"toc-item-num\">2.8&nbsp;&nbsp;</span>Расчет 95-го и 99-го перцентилей количества заказов.</a></span></li><li><span><a href=\"#Точечный-график-стоимостей-заказов.\" data-toc-modified-id=\"Точечный-график-стоимостей-заказов.-2.9\"><span class=\"toc-item-num\">2.9&nbsp;&nbsp;</span>Точечный график стоимостей заказов.</a></span></li><li><span><a href=\"#Расчет-95-го-и-99-го-перцентилей-стоимости-заказов.\" data-toc-modified-id=\"Расчет-95-го-и-99-го-перцентилей-стоимости-заказов.-2.10\"><span class=\"toc-item-num\">2.10&nbsp;&nbsp;</span>Расчет 95-го и 99-го перцентилей стоимости заказов.</a></span></li><li><span><a href=\"#Статистическая-значимость-различий-в-среднем-количестве-заказов-на-посетителя-между-группами-по-«сырым»-данным.\" data-toc-modified-id=\"Статистическая-значимость-различий-в-среднем-количестве-заказов-на-посетителя-между-группами-по-«сырым»-данным.-2.11\"><span class=\"toc-item-num\">2.11&nbsp;&nbsp;</span>Статистическая значимость различий в среднем количестве заказов на посетителя между группами по «сырым» данным.</a></span></li><li><span><a href=\"#Статистическая-значимость-различий-в-среднем-чеке-заказа-между-группами-по-«сырым»-данным.\" data-toc-modified-id=\"Статистическая-значимость-различий-в-среднем-чеке-заказа-между-группами-по-«сырым»-данным.-2.12\"><span class=\"toc-item-num\">2.12&nbsp;&nbsp;</span>Статистическая значимость различий в среднем чеке заказа между группами по «сырым» данным.</a></span></li><li><span><a href=\"#Статистическая-значимость-различий-в-среднем-количестве-заказов-на-посетителя-между-группами-по-«очищенным»-данным.\" data-toc-modified-id=\"Статистическая-значимость-различий-в-среднем-количестве-заказов-на-посетителя-между-группами-по-«очищенным»-данным.-2.13\"><span class=\"toc-item-num\">2.13&nbsp;&nbsp;</span>Статистическая значимость различий в среднем количестве заказов на посетителя между группами по «очищенным» данным.</a></span></li><li><span><a href=\"#Статистическая-значимость-различий-в-среднем-чеке-заказа-между-группами-по-«очищенным»-данным.-Сделайте-выводы-и-предположения.\" data-toc-modified-id=\"Статистическая-значимость-различий-в-среднем-чеке-заказа-между-группами-по-«очищенным»-данным.-Сделайте-выводы-и-предположения.-2.14\"><span class=\"toc-item-num\">2.14&nbsp;&nbsp;</span>Статистическая значимость различий в среднем чеке заказа между группами по «очищенным» данным. Сделайте выводы и предположения.</a></span></li><li><span><a href=\"#Решение-по-результатам-теста.\" data-toc-modified-id=\"Решение-по-результатам-теста.-2.15\"><span class=\"toc-item-num\">2.15&nbsp;&nbsp;</span>Решение по результатам теста.</a></span></li></ul></li><li><span><a href=\"#Этап.-Итоговые-выводы.\" data-toc-modified-id=\"Этап.-Итоговые-выводы.-3\"><span class=\"toc-item-num\">3&nbsp;&nbsp;</span>Этап. Итоговые выводы.</a></span></li></ul></div>"
   ]
  },
  {
   "cell_type": "markdown",
   "metadata": {},
   "source": [
    "# Проект бизнес - исследований.\n",
    "\n",
    "<b>  Цель исследования: </b> \n",
    " Основна цель исследования - увеличение выручки интернет-магазина. Для этого будут выделены приоритетные гипотезы и проведены А/В тесты.\n",
    " \n",
    "<b>  Ход исследования:  </b> \n",
    " Исследование будет проводиться в 2 основных этапа. На первом этапе, приоритизации гипотез, будет обработан файл - '/datasets/hypothesis.csv' содержащий 9 основных гипотез. На втором этапе, анализ А/В теста, будут обработаны файлы - '/datasets/hypothesis.csv', '/datasets/orders.csv' содержащие результаты А/В теста.\n",
    " \n",
    " <b> Этап 1. Приоритизация гипотез. </b> \n",
    " Для того что бы не тратить время на исследование всех гипотез, мы отберем среди 9 имеющихся гипотез наиболее важные и актуальные с помощью следующих методов:\n",
    " \n",
    " - применим фреймворк ICE\n",
    " - применим фреймворк RICE\n",
    " - сравним приоритизированные гипотезы, выявим наиболее актуальные.\n",
    "  \n",
    "<b> Этап 2. Анализ А/В теста. </b> \n",
    " Анализ А/В теста будет разбит на следующие пункты. На каждый пункт будут сделаны выводы и предположения. Также будет произведена предобработка данных.\n",
    "  \n",
    "  1. Предобработка данных.\n",
    "  2. Построим график кумулятивной выручки по группам. \n",
    "  3. Построим график кумулятивного среднего чека по группам.\n",
    "  4. Построим график относительного изменения кумулятивного среднего чека группы B к группе A.\n",
    "  5. Построим график кумулятивного среднего количества заказов на посетителя по группам. \n",
    "  6. Построим график относительного изменения кумулятивного среднего количества заказов на посетителя группы B к группе A.\n",
    "  7. Построим точечный график количества заказов по пользователям.\n",
    "  8. Посчитаем 95-й и 99-й перцентили количества заказов на пользователя. Выберем границу для определения аномальных пользователей.\n",
    "  9. Построим точечный график стоимостей заказов. \n",
    "  10. Посчитаем 95-й и 99-й перцентили стоимости заказов. Выберем границу для определения аномальных заказов.\n",
    "  11. Посчитаем статистическую значимость различий в среднем количестве заказов на посетителя между группами по «сырым» данным.\n",
    "  12. Посчитаем статистическую значимость различий в среднем чеке заказа между группами по «сырым» данным.\n",
    "  13. Посчитаем статистическую значимость различий в среднем количестве заказов на посетителя между группами по «очищенным» данным.\n",
    "  14. Посчитаем статистическую значимость различий в среднем чеке заказа между группами по «очищенным» данным.\n",
    "  15. Примем решение по результатам теста, обозначим основной вывод.  \n",
    " \n",
    "<b> Выводы </b>  Обозначим итоговые выводы всех исследований и анализа."
   ]
  },
  {
   "cell_type": "code",
   "execution_count": 1,
   "metadata": {},
   "outputs": [],
   "source": [
    "# импортируем необходимые библиотеки\n",
    "\n",
    "import pandas as pd\n",
    "import numpy as np\n",
    "from datetime import datetime, timedelta\n",
    "import datetime as dt\n",
    "import scipy.stats as stats\n",
    "from matplotlib import pyplot as plt\n"
   ]
  },
  {
   "cell_type": "code",
   "execution_count": 2,
   "metadata": {},
   "outputs": [
    {
     "name": "stdout",
     "output_type": "stream",
     "text": [
      "<class 'pandas.core.frame.DataFrame'>\n",
      "RangeIndex: 9 entries, 0 to 8\n",
      "Data columns (total 5 columns):\n",
      " #   Column      Non-Null Count  Dtype \n",
      "---  ------      --------------  ----- \n",
      " 0   Hypothesis  9 non-null      object\n",
      " 1   Reach       9 non-null      int64 \n",
      " 2   Impact      9 non-null      int64 \n",
      " 3   Confidence  9 non-null      int64 \n",
      " 4   Efforts     9 non-null      int64 \n",
      "dtypes: int64(4), object(1)\n",
      "memory usage: 488.0+ bytes\n"
     ]
    },
    {
     "data": {
      "text/html": [
       "<div>\n",
       "<style scoped>\n",
       "    .dataframe tbody tr th:only-of-type {\n",
       "        vertical-align: middle;\n",
       "    }\n",
       "\n",
       "    .dataframe tbody tr th {\n",
       "        vertical-align: top;\n",
       "    }\n",
       "\n",
       "    .dataframe thead th {\n",
       "        text-align: right;\n",
       "    }\n",
       "</style>\n",
       "<table border=\"1\" class=\"dataframe\">\n",
       "  <thead>\n",
       "    <tr style=\"text-align: right;\">\n",
       "      <th></th>\n",
       "      <th>Hypothesis</th>\n",
       "      <th>Reach</th>\n",
       "      <th>Impact</th>\n",
       "      <th>Confidence</th>\n",
       "      <th>Efforts</th>\n",
       "    </tr>\n",
       "  </thead>\n",
       "  <tbody>\n",
       "    <tr>\n",
       "      <th>0</th>\n",
       "      <td>Добавить два новых канала привлечения трафика,...</td>\n",
       "      <td>3</td>\n",
       "      <td>10</td>\n",
       "      <td>8</td>\n",
       "      <td>6</td>\n",
       "    </tr>\n",
       "    <tr>\n",
       "      <th>1</th>\n",
       "      <td>Запустить собственную службу доставки, что сок...</td>\n",
       "      <td>2</td>\n",
       "      <td>5</td>\n",
       "      <td>4</td>\n",
       "      <td>10</td>\n",
       "    </tr>\n",
       "    <tr>\n",
       "      <th>2</th>\n",
       "      <td>Добавить блоки рекомендаций товаров на сайт ин...</td>\n",
       "      <td>8</td>\n",
       "      <td>3</td>\n",
       "      <td>7</td>\n",
       "      <td>3</td>\n",
       "    </tr>\n",
       "    <tr>\n",
       "      <th>3</th>\n",
       "      <td>Изменить структура категорий, что увеличит кон...</td>\n",
       "      <td>8</td>\n",
       "      <td>3</td>\n",
       "      <td>3</td>\n",
       "      <td>8</td>\n",
       "    </tr>\n",
       "    <tr>\n",
       "      <th>4</th>\n",
       "      <td>Изменить цвет фона главной страницы, чтобы уве...</td>\n",
       "      <td>3</td>\n",
       "      <td>1</td>\n",
       "      <td>1</td>\n",
       "      <td>1</td>\n",
       "    </tr>\n",
       "    <tr>\n",
       "      <th>5</th>\n",
       "      <td>Добавить страницу отзывов клиентов о магазине,...</td>\n",
       "      <td>3</td>\n",
       "      <td>2</td>\n",
       "      <td>2</td>\n",
       "      <td>3</td>\n",
       "    </tr>\n",
       "    <tr>\n",
       "      <th>6</th>\n",
       "      <td>Показать на главной странице баннеры с актуаль...</td>\n",
       "      <td>5</td>\n",
       "      <td>3</td>\n",
       "      <td>8</td>\n",
       "      <td>3</td>\n",
       "    </tr>\n",
       "    <tr>\n",
       "      <th>7</th>\n",
       "      <td>Добавить форму подписки на все основные страни...</td>\n",
       "      <td>10</td>\n",
       "      <td>7</td>\n",
       "      <td>8</td>\n",
       "      <td>5</td>\n",
       "    </tr>\n",
       "    <tr>\n",
       "      <th>8</th>\n",
       "      <td>Запустить акцию, дающую скидку на товар в день...</td>\n",
       "      <td>1</td>\n",
       "      <td>9</td>\n",
       "      <td>9</td>\n",
       "      <td>5</td>\n",
       "    </tr>\n",
       "  </tbody>\n",
       "</table>\n",
       "</div>"
      ],
      "text/plain": [
       "                                          Hypothesis  Reach  Impact  \\\n",
       "0  Добавить два новых канала привлечения трафика,...      3      10   \n",
       "1  Запустить собственную службу доставки, что сок...      2       5   \n",
       "2  Добавить блоки рекомендаций товаров на сайт ин...      8       3   \n",
       "3  Изменить структура категорий, что увеличит кон...      8       3   \n",
       "4  Изменить цвет фона главной страницы, чтобы уве...      3       1   \n",
       "5  Добавить страницу отзывов клиентов о магазине,...      3       2   \n",
       "6  Показать на главной странице баннеры с актуаль...      5       3   \n",
       "7  Добавить форму подписки на все основные страни...     10       7   \n",
       "8  Запустить акцию, дающую скидку на товар в день...      1       9   \n",
       "\n",
       "   Confidence  Efforts  \n",
       "0           8        6  \n",
       "1           4       10  \n",
       "2           7        3  \n",
       "3           3        8  \n",
       "4           1        1  \n",
       "5           2        3  \n",
       "6           8        3  \n",
       "7           8        5  \n",
       "8           9        5  "
      ]
     },
     "execution_count": 2,
     "metadata": {},
     "output_type": "execute_result"
    }
   ],
   "source": [
    "# загружаем файл с гипотезами\n",
    "data = pd.read_csv('/datasets/hypothesis.csv')\n",
    "                   \n",
    "#выводим общую информацию и первые строки на экран\n",
    "data.info()\n",
    "data.head(9)"
   ]
  },
  {
   "cell_type": "markdown",
   "metadata": {},
   "source": [
    "Так как основных гипотез всего 9, датафрейм небольшой, проводить полную предобработку данных не будем. В данном случае проще оценить данные визуально. Заголовки столбцов однотипны и корректны, типы данных соответствуют необходимым. Перейдем к этапу приоритизации данных."
   ]
  },
  {
   "cell_type": "markdown",
   "metadata": {},
   "source": [
    "### Этап. Приоритизация гипотез.\n"
   ]
  },
  {
   "cell_type": "markdown",
   "metadata": {},
   "source": [
    "#### Приоритизация методом ICE."
   ]
  },
  {
   "cell_type": "code",
   "execution_count": 3,
   "metadata": {},
   "outputs": [
    {
     "data": {
      "text/html": [
       "<div>\n",
       "<style scoped>\n",
       "    .dataframe tbody tr th:only-of-type {\n",
       "        vertical-align: middle;\n",
       "    }\n",
       "\n",
       "    .dataframe tbody tr th {\n",
       "        vertical-align: top;\n",
       "    }\n",
       "\n",
       "    .dataframe thead th {\n",
       "        text-align: right;\n",
       "    }\n",
       "</style>\n",
       "<table border=\"1\" class=\"dataframe\">\n",
       "  <thead>\n",
       "    <tr style=\"text-align: right;\">\n",
       "      <th></th>\n",
       "      <th>Hypothesis</th>\n",
       "      <th>ICE</th>\n",
       "    </tr>\n",
       "  </thead>\n",
       "  <tbody>\n",
       "    <tr>\n",
       "      <th>8</th>\n",
       "      <td>Запустить акцию, дающую скидку на товар в день...</td>\n",
       "      <td>16.20</td>\n",
       "    </tr>\n",
       "    <tr>\n",
       "      <th>0</th>\n",
       "      <td>Добавить два новых канала привлечения трафика,...</td>\n",
       "      <td>13.33</td>\n",
       "    </tr>\n",
       "    <tr>\n",
       "      <th>7</th>\n",
       "      <td>Добавить форму подписки на все основные страни...</td>\n",
       "      <td>11.20</td>\n",
       "    </tr>\n",
       "    <tr>\n",
       "      <th>6</th>\n",
       "      <td>Показать на главной странице баннеры с актуаль...</td>\n",
       "      <td>8.00</td>\n",
       "    </tr>\n",
       "    <tr>\n",
       "      <th>2</th>\n",
       "      <td>Добавить блоки рекомендаций товаров на сайт ин...</td>\n",
       "      <td>7.00</td>\n",
       "    </tr>\n",
       "    <tr>\n",
       "      <th>1</th>\n",
       "      <td>Запустить собственную службу доставки, что сок...</td>\n",
       "      <td>2.00</td>\n",
       "    </tr>\n",
       "    <tr>\n",
       "      <th>5</th>\n",
       "      <td>Добавить страницу отзывов клиентов о магазине,...</td>\n",
       "      <td>1.33</td>\n",
       "    </tr>\n",
       "    <tr>\n",
       "      <th>3</th>\n",
       "      <td>Изменить структура категорий, что увеличит кон...</td>\n",
       "      <td>1.12</td>\n",
       "    </tr>\n",
       "    <tr>\n",
       "      <th>4</th>\n",
       "      <td>Изменить цвет фона главной страницы, чтобы уве...</td>\n",
       "      <td>1.00</td>\n",
       "    </tr>\n",
       "  </tbody>\n",
       "</table>\n",
       "</div>"
      ],
      "text/plain": [
       "                                          Hypothesis    ICE\n",
       "8  Запустить акцию, дающую скидку на товар в день...  16.20\n",
       "0  Добавить два новых канала привлечения трафика,...  13.33\n",
       "7  Добавить форму подписки на все основные страни...  11.20\n",
       "6  Показать на главной странице баннеры с актуаль...   8.00\n",
       "2  Добавить блоки рекомендаций товаров на сайт ин...   7.00\n",
       "1  Запустить собственную службу доставки, что сок...   2.00\n",
       "5  Добавить страницу отзывов клиентов о магазине,...   1.33\n",
       "3  Изменить структура категорий, что увеличит кон...   1.12\n",
       "4  Изменить цвет фона главной страницы, чтобы уве...   1.00"
      ]
     },
     "execution_count": 3,
     "metadata": {},
     "output_type": "execute_result"
    }
   ],
   "source": [
    "# добавляем новый столбец ICE с расчетом ICE для гипотез\n",
    "\n",
    "data['ICE'] = (data['Impact'] * data['Confidence']) / data['Efforts']\n",
    "\n",
    "# выводим гипотезы и ICE отсортированные по значению последнего, значение ICE округлим до 2 знаков после запятой\n",
    "\n",
    "round(data[['Hypothesis','ICE']].sort_values(by='ICE', ascending=False), 2)"
   ]
  },
  {
   "cell_type": "markdown",
   "metadata": {},
   "source": [
    "С помощью расчета ICE мы видим что наиболее перспективными являются гипотезы 8, 0 и 7. Гипотезы о запуске новой акции, о добавлении новых каналов привлечения и о добавлении формы подписки."
   ]
  },
  {
   "cell_type": "markdown",
   "metadata": {},
   "source": [
    "#### Приоритизация методом RICE."
   ]
  },
  {
   "cell_type": "code",
   "execution_count": 4,
   "metadata": {},
   "outputs": [
    {
     "data": {
      "text/html": [
       "<div>\n",
       "<style scoped>\n",
       "    .dataframe tbody tr th:only-of-type {\n",
       "        vertical-align: middle;\n",
       "    }\n",
       "\n",
       "    .dataframe tbody tr th {\n",
       "        vertical-align: top;\n",
       "    }\n",
       "\n",
       "    .dataframe thead th {\n",
       "        text-align: right;\n",
       "    }\n",
       "</style>\n",
       "<table border=\"1\" class=\"dataframe\">\n",
       "  <thead>\n",
       "    <tr style=\"text-align: right;\">\n",
       "      <th></th>\n",
       "      <th>Hypothesis</th>\n",
       "      <th>RICE</th>\n",
       "    </tr>\n",
       "  </thead>\n",
       "  <tbody>\n",
       "    <tr>\n",
       "      <th>7</th>\n",
       "      <td>Добавить форму подписки на все основные страни...</td>\n",
       "      <td>112.0</td>\n",
       "    </tr>\n",
       "    <tr>\n",
       "      <th>2</th>\n",
       "      <td>Добавить блоки рекомендаций товаров на сайт ин...</td>\n",
       "      <td>56.0</td>\n",
       "    </tr>\n",
       "    <tr>\n",
       "      <th>0</th>\n",
       "      <td>Добавить два новых канала привлечения трафика,...</td>\n",
       "      <td>40.0</td>\n",
       "    </tr>\n",
       "    <tr>\n",
       "      <th>6</th>\n",
       "      <td>Показать на главной странице баннеры с актуаль...</td>\n",
       "      <td>40.0</td>\n",
       "    </tr>\n",
       "    <tr>\n",
       "      <th>8</th>\n",
       "      <td>Запустить акцию, дающую скидку на товар в день...</td>\n",
       "      <td>16.2</td>\n",
       "    </tr>\n",
       "    <tr>\n",
       "      <th>3</th>\n",
       "      <td>Изменить структура категорий, что увеличит кон...</td>\n",
       "      <td>9.0</td>\n",
       "    </tr>\n",
       "    <tr>\n",
       "      <th>1</th>\n",
       "      <td>Запустить собственную службу доставки, что сок...</td>\n",
       "      <td>4.0</td>\n",
       "    </tr>\n",
       "    <tr>\n",
       "      <th>5</th>\n",
       "      <td>Добавить страницу отзывов клиентов о магазине,...</td>\n",
       "      <td>4.0</td>\n",
       "    </tr>\n",
       "    <tr>\n",
       "      <th>4</th>\n",
       "      <td>Изменить цвет фона главной страницы, чтобы уве...</td>\n",
       "      <td>3.0</td>\n",
       "    </tr>\n",
       "  </tbody>\n",
       "</table>\n",
       "</div>"
      ],
      "text/plain": [
       "                                          Hypothesis   RICE\n",
       "7  Добавить форму подписки на все основные страни...  112.0\n",
       "2  Добавить блоки рекомендаций товаров на сайт ин...   56.0\n",
       "0  Добавить два новых канала привлечения трафика,...   40.0\n",
       "6  Показать на главной странице баннеры с актуаль...   40.0\n",
       "8  Запустить акцию, дающую скидку на товар в день...   16.2\n",
       "3  Изменить структура категорий, что увеличит кон...    9.0\n",
       "1  Запустить собственную службу доставки, что сок...    4.0\n",
       "5  Добавить страницу отзывов клиентов о магазине,...    4.0\n",
       "4  Изменить цвет фона главной страницы, чтобы уве...    3.0"
      ]
     },
     "execution_count": 4,
     "metadata": {},
     "output_type": "execute_result"
    }
   ],
   "source": [
    "# добавляем новый столбец RICE с расчетом RICE для гипотез\n",
    "\n",
    "data['RICE'] = (data['Reach'] * data['Impact'] * data['Confidence']) / data['Efforts']\n",
    "\n",
    "# выводим гипотезы и RICE отсортированные по значению последнего, значение RICE округлим до 2 знаков после запятой\n",
    "\n",
    "round(data[['Hypothesis','RICE']].sort_values(by='RICE', ascending=False), 2)"
   ]
  },
  {
   "cell_type": "markdown",
   "metadata": {},
   "source": [
    "Как мы видим, список приоритетных гипотез несколько изменился, теперь в тройку самых перспективных входят гипотезы 7, 2, 0. "
   ]
  },
  {
   "cell_type": "markdown",
   "metadata": {},
   "source": [
    "#### Сравнение приоритизации."
   ]
  },
  {
   "cell_type": "markdown",
   "metadata": {},
   "source": [
    "Использовав оба метода приоритизации, и ICE и RICE, мы можем выявить наиболее перспективные и актуальные для проверки гипотезы. \n",
    "Первый метод - ICE, использует для расчета силу влияния гипотезы на пользователей, нашу уверенность в том что влияние будет именно таким и затраты на данную гипотезу. В расчет метода RICE добавляется количество пользователей, которых затронут изменения.\n",
    "\n",
    "Самый высокий показатель ICE у гипотезы о запуске акции. При расчете RICE эта гипотеза опустилась на 5-е место. Объясняется это тем что несмотря на небольшие трудозатраты на данную гипотезу (5 - здесь и далее в скобках будут указаны оценки показателей) и достаточно высокие силу (9) и уверенность в гипотезе (9), эта гипотеза затрагивает всего лишь 1-го человека, в связи с чем ее приоритетность резко сокращается.\n",
    "\n",
    "Гипотеза о добавлении формы подписки при расчете ICE заняла 3-е место. А вот по RICE уже 1-е. Эта гипотеза затрагивает наибольшее количество человек (10), при этом имеет такие же трудозатраты как предыдущая (5), и также достаточно высокие показатели силы влияние (7) и уверенности (7). \n",
    "\n",
    "<b>В итоге, на основании расчитанных показателей в качестве приоритетной гипотезы можно выделить гипотезу о добавлении формы подписки на все основные страницы.</b>"
   ]
  },
  {
   "cell_type": "markdown",
   "metadata": {},
   "source": [
    "### Этап. Анализ А/В теста."
   ]
  },
  {
   "cell_type": "markdown",
   "metadata": {},
   "source": [
    "#### Предобработка данных."
   ]
  },
  {
   "cell_type": "code",
   "execution_count": 5,
   "metadata": {},
   "outputs": [
    {
     "name": "stdout",
     "output_type": "stream",
     "text": [
      "<class 'pandas.core.frame.DataFrame'>\n",
      "RangeIndex: 62 entries, 0 to 61\n",
      "Data columns (total 3 columns):\n",
      " #   Column    Non-Null Count  Dtype \n",
      "---  ------    --------------  ----- \n",
      " 0   date      62 non-null     object\n",
      " 1   group     62 non-null     object\n",
      " 2   visitors  62 non-null     int64 \n",
      "dtypes: int64(1), object(2)\n",
      "memory usage: 1.6+ KB\n"
     ]
    },
    {
     "data": {
      "text/plain": [
       "None"
      ]
     },
     "metadata": {},
     "output_type": "display_data"
    },
    {
     "data": {
      "text/html": [
       "<div>\n",
       "<style scoped>\n",
       "    .dataframe tbody tr th:only-of-type {\n",
       "        vertical-align: middle;\n",
       "    }\n",
       "\n",
       "    .dataframe tbody tr th {\n",
       "        vertical-align: top;\n",
       "    }\n",
       "\n",
       "    .dataframe thead th {\n",
       "        text-align: right;\n",
       "    }\n",
       "</style>\n",
       "<table border=\"1\" class=\"dataframe\">\n",
       "  <thead>\n",
       "    <tr style=\"text-align: right;\">\n",
       "      <th></th>\n",
       "      <th>date</th>\n",
       "      <th>group</th>\n",
       "      <th>visitors</th>\n",
       "    </tr>\n",
       "  </thead>\n",
       "  <tbody>\n",
       "    <tr>\n",
       "      <th>0</th>\n",
       "      <td>2019-08-01</td>\n",
       "      <td>A</td>\n",
       "      <td>719</td>\n",
       "    </tr>\n",
       "    <tr>\n",
       "      <th>1</th>\n",
       "      <td>2019-08-02</td>\n",
       "      <td>A</td>\n",
       "      <td>619</td>\n",
       "    </tr>\n",
       "    <tr>\n",
       "      <th>2</th>\n",
       "      <td>2019-08-03</td>\n",
       "      <td>A</td>\n",
       "      <td>507</td>\n",
       "    </tr>\n",
       "    <tr>\n",
       "      <th>3</th>\n",
       "      <td>2019-08-04</td>\n",
       "      <td>A</td>\n",
       "      <td>717</td>\n",
       "    </tr>\n",
       "    <tr>\n",
       "      <th>4</th>\n",
       "      <td>2019-08-05</td>\n",
       "      <td>A</td>\n",
       "      <td>756</td>\n",
       "    </tr>\n",
       "  </tbody>\n",
       "</table>\n",
       "</div>"
      ],
      "text/plain": [
       "         date group  visitors\n",
       "0  2019-08-01     A       719\n",
       "1  2019-08-02     A       619\n",
       "2  2019-08-03     A       507\n",
       "3  2019-08-04     A       717\n",
       "4  2019-08-05     A       756"
      ]
     },
     "metadata": {},
     "output_type": "display_data"
    },
    {
     "name": "stdout",
     "output_type": "stream",
     "text": [
      "<class 'pandas.core.frame.DataFrame'>\n",
      "RangeIndex: 1197 entries, 0 to 1196\n",
      "Data columns (total 5 columns):\n",
      " #   Column         Non-Null Count  Dtype \n",
      "---  ------         --------------  ----- \n",
      " 0   transactionId  1197 non-null   int64 \n",
      " 1   visitorId      1197 non-null   int64 \n",
      " 2   date           1197 non-null   object\n",
      " 3   revenue        1197 non-null   int64 \n",
      " 4   group          1197 non-null   object\n",
      "dtypes: int64(3), object(2)\n",
      "memory usage: 46.9+ KB\n"
     ]
    },
    {
     "data": {
      "text/html": [
       "<div>\n",
       "<style scoped>\n",
       "    .dataframe tbody tr th:only-of-type {\n",
       "        vertical-align: middle;\n",
       "    }\n",
       "\n",
       "    .dataframe tbody tr th {\n",
       "        vertical-align: top;\n",
       "    }\n",
       "\n",
       "    .dataframe thead th {\n",
       "        text-align: right;\n",
       "    }\n",
       "</style>\n",
       "<table border=\"1\" class=\"dataframe\">\n",
       "  <thead>\n",
       "    <tr style=\"text-align: right;\">\n",
       "      <th></th>\n",
       "      <th>transactionId</th>\n",
       "      <th>visitorId</th>\n",
       "      <th>date</th>\n",
       "      <th>revenue</th>\n",
       "      <th>group</th>\n",
       "    </tr>\n",
       "  </thead>\n",
       "  <tbody>\n",
       "    <tr>\n",
       "      <th>0</th>\n",
       "      <td>3667963787</td>\n",
       "      <td>3312258926</td>\n",
       "      <td>2019-08-15</td>\n",
       "      <td>1650</td>\n",
       "      <td>B</td>\n",
       "    </tr>\n",
       "    <tr>\n",
       "      <th>1</th>\n",
       "      <td>2804400009</td>\n",
       "      <td>3642806036</td>\n",
       "      <td>2019-08-15</td>\n",
       "      <td>730</td>\n",
       "      <td>B</td>\n",
       "    </tr>\n",
       "    <tr>\n",
       "      <th>2</th>\n",
       "      <td>2961555356</td>\n",
       "      <td>4069496402</td>\n",
       "      <td>2019-08-15</td>\n",
       "      <td>400</td>\n",
       "      <td>A</td>\n",
       "    </tr>\n",
       "    <tr>\n",
       "      <th>3</th>\n",
       "      <td>3797467345</td>\n",
       "      <td>1196621759</td>\n",
       "      <td>2019-08-15</td>\n",
       "      <td>9759</td>\n",
       "      <td>B</td>\n",
       "    </tr>\n",
       "    <tr>\n",
       "      <th>4</th>\n",
       "      <td>2282983706</td>\n",
       "      <td>2322279887</td>\n",
       "      <td>2019-08-15</td>\n",
       "      <td>2308</td>\n",
       "      <td>B</td>\n",
       "    </tr>\n",
       "  </tbody>\n",
       "</table>\n",
       "</div>"
      ],
      "text/plain": [
       "   transactionId   visitorId        date  revenue group\n",
       "0     3667963787  3312258926  2019-08-15     1650     B\n",
       "1     2804400009  3642806036  2019-08-15      730     B\n",
       "2     2961555356  4069496402  2019-08-15      400     A\n",
       "3     3797467345  1196621759  2019-08-15     9759     B\n",
       "4     2282983706  2322279887  2019-08-15     2308     B"
      ]
     },
     "execution_count": 5,
     "metadata": {},
     "output_type": "execute_result"
    }
   ],
   "source": [
    "# загружаем данные о заказах и пользователях\n",
    "\n",
    "visitors, orders = (\n",
    "    pd.read_csv('/datasets/visitors.csv', sep=','),  # пользователи\n",
    "    pd.read_csv('/datasets/orders.csv', sep=','),  # заказы\n",
    ")\n",
    "\n",
    "#выводим общую информацию и первые строки на экран\n",
    "display(visitors.info())\n",
    "display(visitors.head())\n",
    "orders.info()\n",
    "orders.head() "
   ]
  },
  {
   "cell_type": "markdown",
   "metadata": {},
   "source": [
    "У нас есть 2 датафрейма с данными:\n",
    "\n",
    "visitors - файл с данными о пользователях, содержит 3 колонки (дата, группа, кол-во пользователей в указанную дату и группу) и 62 строки. Типы данных соответствуют необходимым. Наименования столбцов также не требуют корректировки.\n",
    "\n",
    "orders - файл с данными о заказах, содержит 5 столбцов (номер заказа, номер пользователя, дата заказа, сумма и группа в которой был совершен заказ) и 1197 строк. Типы данных соответствуют необходимым. Наименования столбцов приведем к нижнему регистру.\n",
    "\n",
    "Также оба файла проверим на наличие явных дубликатов и на пропуски."
   ]
  },
  {
   "cell_type": "code",
   "execution_count": 6,
   "metadata": {},
   "outputs": [
    {
     "data": {
      "text/plain": [
       "0"
      ]
     },
     "metadata": {},
     "output_type": "display_data"
    },
    {
     "data": {
      "text/plain": [
       "0"
      ]
     },
     "metadata": {},
     "output_type": "display_data"
    },
    {
     "data": {
      "text/plain": [
       "date        0\n",
       "group       0\n",
       "visitors    0\n",
       "dtype: int64"
      ]
     },
     "metadata": {},
     "output_type": "display_data"
    },
    {
     "data": {
      "text/plain": [
       "transactionid    0\n",
       "visitorid        0\n",
       "date             0\n",
       "revenue          0\n",
       "group            0\n",
       "dtype: int64"
      ]
     },
     "metadata": {},
     "output_type": "display_data"
    }
   ],
   "source": [
    "# приводим наименования столбцов к общему виду с нижним регистром\n",
    "\n",
    "orders.columns = orders.columns.str.lower()\n",
    "\n",
    "# проверим данные на явные дубликаты\n",
    "\n",
    "display(visitors.duplicated().sum())\n",
    "display(orders.duplicated().sum())\n",
    "\n",
    "# проверим данные на наличие пропусков\n",
    "\n",
    "display(visitors.isna().sum())\n",
    "display(orders.isna().sum())\n"
   ]
  },
  {
   "cell_type": "markdown",
   "metadata": {},
   "source": [
    "Дубликатов и пропусков не обнаружено, данные отформатированны и готовы к дальнейшему анализу."
   ]
  },
  {
   "cell_type": "code",
   "execution_count": 7,
   "metadata": {},
   "outputs": [
    {
     "data": {
      "text/html": [
       "<div>\n",
       "<style scoped>\n",
       "    .dataframe tbody tr th:only-of-type {\n",
       "        vertical-align: middle;\n",
       "    }\n",
       "\n",
       "    .dataframe tbody tr th {\n",
       "        vertical-align: top;\n",
       "    }\n",
       "\n",
       "    .dataframe thead th {\n",
       "        text-align: right;\n",
       "    }\n",
       "</style>\n",
       "<table border=\"1\" class=\"dataframe\">\n",
       "  <thead>\n",
       "    <tr style=\"text-align: right;\">\n",
       "      <th></th>\n",
       "      <th>group</th>\n",
       "      <th>visitors_count</th>\n",
       "    </tr>\n",
       "  </thead>\n",
       "  <tbody>\n",
       "    <tr>\n",
       "      <th>0</th>\n",
       "      <td>A</td>\n",
       "      <td>503</td>\n",
       "    </tr>\n",
       "    <tr>\n",
       "      <th>1</th>\n",
       "      <td>B</td>\n",
       "      <td>586</td>\n",
       "    </tr>\n",
       "  </tbody>\n",
       "</table>\n",
       "</div>"
      ],
      "text/plain": [
       "  group  visitors_count\n",
       "0     A             503\n",
       "1     B             586"
      ]
     },
     "metadata": {},
     "output_type": "display_data"
    },
    {
     "data": {
      "text/plain": [
       "'Дата старта теста:'"
      ]
     },
     "metadata": {},
     "output_type": "display_data"
    },
    {
     "data": {
      "text/plain": [
       "'2019-08-01'"
      ]
     },
     "metadata": {},
     "output_type": "display_data"
    },
    {
     "data": {
      "text/plain": [
       "'Дата окончания теста:'"
      ]
     },
     "metadata": {},
     "output_type": "display_data"
    },
    {
     "data": {
      "text/plain": [
       "'2019-08-31'"
      ]
     },
     "metadata": {},
     "output_type": "display_data"
    }
   ],
   "source": [
    "# посмотрим на количество групп и участников в них\n",
    "visits_info = (\n",
    "    orders.groupby('group', as_index=False)\n",
    "    .agg({'visitorid': 'nunique'})\n",
    ")\n",
    "visits_info.columns = ['group', 'visitors_count']\n",
    "display(visits_info)\n",
    "\n",
    "# посмотрим даты начала и конца теста\n",
    "display('Дата старта теста:', min(visitors['date']))\n",
    "display('Дата окончания теста:', max(visitors['date']))"
   ]
  },
  {
   "cell_type": "markdown",
   "metadata": {},
   "source": [
    "В тестировании у нас принимали участие 2 группы А и В. Группа А - 557 участников. Группа В - 640 участников. Период проведения теста с 01 августа 2019 по 31 августа 2019 года. Тестирование парное."
   ]
  },
  {
   "cell_type": "code",
   "execution_count": 8,
   "metadata": {},
   "outputs": [
    {
     "data": {
      "text/plain": [
       "group    58\n",
       "dtype: int64"
      ]
     },
     "execution_count": 8,
     "metadata": {},
     "output_type": "execute_result"
    }
   ],
   "source": [
    "# посчитаем пересекающихся участников\n",
    "orders.groupby('visitorid').agg({'group': 'nunique'}).query('group>1').count()"
   ]
  },
  {
   "cell_type": "markdown",
   "metadata": {},
   "source": [
    "В группах мы выявили 58 пересекающихся участников, это порядка 10% от группы. Однако удалять их мы не будем по следующим причинам:\n",
    "    - удаление пересекающихся пользователей только в одной из групп исказит результаты относительного изменения кумулятивных данных, так как они у нас обобщенные.\n",
    "    - удаление пользователей из обеих групп также приведет к искажению результатов, поскольку мы не можем их выделить их файла с данными по заказам.\n",
    "    \n",
    "В следствии этого примем решение оставить этих пользователей."
   ]
  },
  {
   "cell_type": "markdown",
   "metadata": {},
   "source": [
    "#### График кумулятивной выручки по группам."
   ]
  },
  {
   "cell_type": "code",
   "execution_count": 9,
   "metadata": {},
   "outputs": [
    {
     "data": {
      "text/html": [
       "<div>\n",
       "<style scoped>\n",
       "    .dataframe tbody tr th:only-of-type {\n",
       "        vertical-align: middle;\n",
       "    }\n",
       "\n",
       "    .dataframe tbody tr th {\n",
       "        vertical-align: top;\n",
       "    }\n",
       "\n",
       "    .dataframe thead th {\n",
       "        text-align: right;\n",
       "    }\n",
       "</style>\n",
       "<table border=\"1\" class=\"dataframe\">\n",
       "  <thead>\n",
       "    <tr style=\"text-align: right;\">\n",
       "      <th></th>\n",
       "      <th>date</th>\n",
       "      <th>group</th>\n",
       "      <th>orders</th>\n",
       "      <th>buyers</th>\n",
       "      <th>revenue</th>\n",
       "      <th>visitors</th>\n",
       "    </tr>\n",
       "  </thead>\n",
       "  <tbody>\n",
       "    <tr>\n",
       "      <th>0</th>\n",
       "      <td>2019-08-01</td>\n",
       "      <td>A</td>\n",
       "      <td>24</td>\n",
       "      <td>20</td>\n",
       "      <td>148579</td>\n",
       "      <td>719</td>\n",
       "    </tr>\n",
       "    <tr>\n",
       "      <th>1</th>\n",
       "      <td>2019-08-01</td>\n",
       "      <td>B</td>\n",
       "      <td>21</td>\n",
       "      <td>20</td>\n",
       "      <td>101217</td>\n",
       "      <td>713</td>\n",
       "    </tr>\n",
       "    <tr>\n",
       "      <th>2</th>\n",
       "      <td>2019-08-02</td>\n",
       "      <td>A</td>\n",
       "      <td>44</td>\n",
       "      <td>38</td>\n",
       "      <td>242401</td>\n",
       "      <td>1338</td>\n",
       "    </tr>\n",
       "    <tr>\n",
       "      <th>3</th>\n",
       "      <td>2019-08-02</td>\n",
       "      <td>B</td>\n",
       "      <td>45</td>\n",
       "      <td>43</td>\n",
       "      <td>266748</td>\n",
       "      <td>1294</td>\n",
       "    </tr>\n",
       "    <tr>\n",
       "      <th>4</th>\n",
       "      <td>2019-08-03</td>\n",
       "      <td>A</td>\n",
       "      <td>68</td>\n",
       "      <td>62</td>\n",
       "      <td>354874</td>\n",
       "      <td>1845</td>\n",
       "    </tr>\n",
       "  </tbody>\n",
       "</table>\n",
       "</div>"
      ],
      "text/plain": [
       "        date group  orders  buyers  revenue  visitors\n",
       "0 2019-08-01     A      24      20   148579       719\n",
       "1 2019-08-01     B      21      20   101217       713\n",
       "2 2019-08-02     A      44      38   242401      1338\n",
       "3 2019-08-02     B      45      43   266748      1294\n",
       "4 2019-08-03     A      68      62   354874      1845"
      ]
     },
     "execution_count": 9,
     "metadata": {},
     "output_type": "execute_result"
    }
   ],
   "source": [
    "# подготовим данные\n",
    "\n",
    "orders['date'] = orders['date'].map(lambda x: dt.datetime.strptime(x, '%Y-%m-%d'))\n",
    "visitors['date'] = visitors['date'].map(lambda x: dt.datetime.strptime(x, '%Y-%m-%d'))\n",
    "\n",
    "dates_groups = orders[['date','group']].drop_duplicates() \n",
    "\n",
    "ordersAggregated = dates_groups.apply(lambda x: orders[np.logical_and(orders['date'] <= x['date'], orders['group'] == x['group'])]\\\n",
    ".agg({'date' : 'max', 'group' : 'max', 'transactionid' : 'nunique', 'visitorid' : 'nunique', 'revenue' : 'sum'}), axis=1).sort_values(by=['date','group'])\n",
    "\n",
    "\n",
    "visitorsAggregated = dates_groups.apply(lambda x: visitors[np.logical_and(visitors['date'] <= x['date'], visitors['group'] == x['group'])].agg({'date' : 'max', 'group' : 'max', 'visitors' : 'sum'}), axis=1).sort_values(by=['date','group'])\n",
    "\n",
    "\n",
    "cumulativeData = ordersAggregated.merge(visitorsAggregated, left_on=['date', 'group'], right_on=['date', 'group'])\n",
    "cumulativeData.columns = ['date', 'group', 'orders', 'buyers', 'revenue', 'visitors']\n",
    "\n",
    "cumulativeData.head(5)"
   ]
  },
  {
   "cell_type": "code",
   "execution_count": 10,
   "metadata": {},
   "outputs": [
    {
     "data": {
      "image/png": "[encoded data removed]",
      "text/plain": [
       "<Figure size 1080x504 with 1 Axes>"
      ]
     },
     "metadata": {
      "needs_background": "light"
     },
     "output_type": "display_data"
    }
   ],
   "source": [
    "# датафрейм с кумулятивным количеством заказов и кумулятивной выручкой по дням в группе А\n",
    "cumulativeRevenueA = cumulativeData[cumulativeData['group']=='A'][['date','revenue', 'orders']]\n",
    "\n",
    "# датафрейм с кумулятивным количеством заказов и кумулятивной выручкой по дням в группе B\n",
    "cumulativeRevenueB = cumulativeData[cumulativeData['group']=='B'][['date','revenue', 'orders']]\n",
    "\n",
    "# Строим график выручки группы А\n",
    "plt.figure(figsize=(15,7))\n",
    "plt.plot(cumulativeRevenueA['date'], cumulativeRevenueA['revenue'], label='A')\n",
    "\n",
    "# Строим график выручки группы B\n",
    "plt.plot(cumulativeRevenueB['date'], cumulativeRevenueB['revenue'], label='B')\n",
    "plt.title('График кумулятивной выручки по группам', fontsize=14)\n",
    "plt.xlabel('Дата', fontsize=12)\n",
    "plt.ylabel('Объем выручки', fontsize=12)\n",
    "plt.legend()\n",
    "plt.show()"
   ]
  },
  {
   "cell_type": "code",
   "execution_count": 28,
   "metadata": {},
   "outputs": [
    {
     "data": {
      "text/html": [
       "<div>\n",
       "<style scoped>\n",
       "    .dataframe tbody tr th:only-of-type {\n",
       "        vertical-align: middle;\n",
       "    }\n",
       "\n",
       "    .dataframe tbody tr th {\n",
       "        vertical-align: top;\n",
       "    }\n",
       "\n",
       "    .dataframe thead th {\n",
       "        text-align: right;\n",
       "    }\n",
       "</style>\n",
       "<table border=\"1\" class=\"dataframe\">\n",
       "  <thead>\n",
       "    <tr style=\"text-align: right;\">\n",
       "      <th></th>\n",
       "      <th>date</th>\n",
       "      <th>revenue</th>\n",
       "      <th>orders</th>\n",
       "    </tr>\n",
       "  </thead>\n",
       "  <tbody>\n",
       "    <tr>\n",
       "      <th>0</th>\n",
       "      <td>2019-08-01</td>\n",
       "      <td>148579</td>\n",
       "      <td>24</td>\n",
       "    </tr>\n",
       "    <tr>\n",
       "      <th>2</th>\n",
       "      <td>2019-08-02</td>\n",
       "      <td>242401</td>\n",
       "      <td>44</td>\n",
       "    </tr>\n",
       "    <tr>\n",
       "      <th>4</th>\n",
       "      <td>2019-08-03</td>\n",
       "      <td>354874</td>\n",
       "      <td>68</td>\n",
       "    </tr>\n",
       "    <tr>\n",
       "      <th>6</th>\n",
       "      <td>2019-08-04</td>\n",
       "      <td>425699</td>\n",
       "      <td>84</td>\n",
       "    </tr>\n",
       "    <tr>\n",
       "      <th>8</th>\n",
       "      <td>2019-08-05</td>\n",
       "      <td>549917</td>\n",
       "      <td>109</td>\n",
       "    </tr>\n",
       "    <tr>\n",
       "      <th>10</th>\n",
       "      <td>2019-08-06</td>\n",
       "      <td>598401</td>\n",
       "      <td>127</td>\n",
       "    </tr>\n",
       "    <tr>\n",
       "      <th>12</th>\n",
       "      <td>2019-08-07</td>\n",
       "      <td>740818</td>\n",
       "      <td>145</td>\n",
       "    </tr>\n",
       "    <tr>\n",
       "      <th>14</th>\n",
       "      <td>2019-08-08</td>\n",
       "      <td>837097</td>\n",
       "      <td>161</td>\n",
       "    </tr>\n",
       "    <tr>\n",
       "      <th>16</th>\n",
       "      <td>2019-08-09</td>\n",
       "      <td>1025603</td>\n",
       "      <td>177</td>\n",
       "    </tr>\n",
       "    <tr>\n",
       "      <th>18</th>\n",
       "      <td>2019-08-10</td>\n",
       "      <td>1236098</td>\n",
       "      <td>193</td>\n",
       "    </tr>\n",
       "    <tr>\n",
       "      <th>20</th>\n",
       "      <td>2019-08-11</td>\n",
       "      <td>1313683</td>\n",
       "      <td>206</td>\n",
       "    </tr>\n",
       "    <tr>\n",
       "      <th>22</th>\n",
       "      <td>2019-08-12</td>\n",
       "      <td>1562873</td>\n",
       "      <td>230</td>\n",
       "    </tr>\n",
       "    <tr>\n",
       "      <th>24</th>\n",
       "      <td>2019-08-13</td>\n",
       "      <td>1826511</td>\n",
       "      <td>244</td>\n",
       "    </tr>\n",
       "    <tr>\n",
       "      <th>26</th>\n",
       "      <td>2019-08-14</td>\n",
       "      <td>1890852</td>\n",
       "      <td>268</td>\n",
       "    </tr>\n",
       "    <tr>\n",
       "      <th>28</th>\n",
       "      <td>2019-08-15</td>\n",
       "      <td>1979057</td>\n",
       "      <td>283</td>\n",
       "    </tr>\n",
       "    <tr>\n",
       "      <th>30</th>\n",
       "      <td>2019-08-16</td>\n",
       "      <td>2078908</td>\n",
       "      <td>301</td>\n",
       "    </tr>\n",
       "    <tr>\n",
       "      <th>32</th>\n",
       "      <td>2019-08-17</td>\n",
       "      <td>2129769</td>\n",
       "      <td>311</td>\n",
       "    </tr>\n",
       "    <tr>\n",
       "      <th>34</th>\n",
       "      <td>2019-08-18</td>\n",
       "      <td>2202167</td>\n",
       "      <td>328</td>\n",
       "    </tr>\n",
       "    <tr>\n",
       "      <th>36</th>\n",
       "      <td>2019-08-19</td>\n",
       "      <td>2391910</td>\n",
       "      <td>350</td>\n",
       "    </tr>\n",
       "    <tr>\n",
       "      <th>38</th>\n",
       "      <td>2019-08-20</td>\n",
       "      <td>2469529</td>\n",
       "      <td>362</td>\n",
       "    </tr>\n",
       "    <tr>\n",
       "      <th>40</th>\n",
       "      <td>2019-08-21</td>\n",
       "      <td>2643838</td>\n",
       "      <td>385</td>\n",
       "    </tr>\n",
       "    <tr>\n",
       "      <th>42</th>\n",
       "      <td>2019-08-22</td>\n",
       "      <td>2756579</td>\n",
       "      <td>401</td>\n",
       "    </tr>\n",
       "    <tr>\n",
       "      <th>44</th>\n",
       "      <td>2019-08-23</td>\n",
       "      <td>2874367</td>\n",
       "      <td>426</td>\n",
       "    </tr>\n",
       "    <tr>\n",
       "      <th>46</th>\n",
       "      <td>2019-08-24</td>\n",
       "      <td>3002070</td>\n",
       "      <td>441</td>\n",
       "    </tr>\n",
       "    <tr>\n",
       "      <th>48</th>\n",
       "      <td>2019-08-25</td>\n",
       "      <td>3070704</td>\n",
       "      <td>451</td>\n",
       "    </tr>\n",
       "    <tr>\n",
       "      <th>50</th>\n",
       "      <td>2019-08-26</td>\n",
       "      <td>3227918</td>\n",
       "      <td>467</td>\n",
       "    </tr>\n",
       "    <tr>\n",
       "      <th>52</th>\n",
       "      <td>2019-08-27</td>\n",
       "      <td>3514698</td>\n",
       "      <td>495</td>\n",
       "    </tr>\n",
       "    <tr>\n",
       "      <th>54</th>\n",
       "      <td>2019-08-28</td>\n",
       "      <td>3615820</td>\n",
       "      <td>512</td>\n",
       "    </tr>\n",
       "    <tr>\n",
       "      <th>56</th>\n",
       "      <td>2019-08-29</td>\n",
       "      <td>3936510</td>\n",
       "      <td>534</td>\n",
       "    </tr>\n",
       "    <tr>\n",
       "      <th>58</th>\n",
       "      <td>2019-08-30</td>\n",
       "      <td>4022970</td>\n",
       "      <td>545</td>\n",
       "    </tr>\n",
       "    <tr>\n",
       "      <th>60</th>\n",
       "      <td>2019-08-31</td>\n",
       "      <td>4084803</td>\n",
       "      <td>557</td>\n",
       "    </tr>\n",
       "  </tbody>\n",
       "</table>\n",
       "</div>"
      ],
      "text/plain": [
       "         date  revenue  orders\n",
       "0  2019-08-01   148579      24\n",
       "2  2019-08-02   242401      44\n",
       "4  2019-08-03   354874      68\n",
       "6  2019-08-04   425699      84\n",
       "8  2019-08-05   549917     109\n",
       "10 2019-08-06   598401     127\n",
       "12 2019-08-07   740818     145\n",
       "14 2019-08-08   837097     161\n",
       "16 2019-08-09  1025603     177\n",
       "18 2019-08-10  1236098     193\n",
       "20 2019-08-11  1313683     206\n",
       "22 2019-08-12  1562873     230\n",
       "24 2019-08-13  1826511     244\n",
       "26 2019-08-14  1890852     268\n",
       "28 2019-08-15  1979057     283\n",
       "30 2019-08-16  2078908     301\n",
       "32 2019-08-17  2129769     311\n",
       "34 2019-08-18  2202167     328\n",
       "36 2019-08-19  2391910     350\n",
       "38 2019-08-20  2469529     362\n",
       "40 2019-08-21  2643838     385\n",
       "42 2019-08-22  2756579     401\n",
       "44 2019-08-23  2874367     426\n",
       "46 2019-08-24  3002070     441\n",
       "48 2019-08-25  3070704     451\n",
       "50 2019-08-26  3227918     467\n",
       "52 2019-08-27  3514698     495\n",
       "54 2019-08-28  3615820     512\n",
       "56 2019-08-29  3936510     534\n",
       "58 2019-08-30  4022970     545\n",
       "60 2019-08-31  4084803     557"
      ]
     },
     "execution_count": 28,
     "metadata": {},
     "output_type": "execute_result"
    }
   ],
   "source": [
    "cumulativeRevenueA"
   ]
  },
  {
   "cell_type": "markdown",
   "metadata": {},
   "source": [
    "Как хорошо видно по графику, объем выручки группы В уже на 5-ый день стал немного обгонять объем выручки группы А. Но тем не менее до 17-18 августа выручка была примерно на одном уровне. 18-го числа мы видим в группе В резкий всплеск выручки, что косвенно может говорить нам о наличии крупных заказов в этот день. Далее динамика нарастания выручки в обеих группах также сохраняется одинаково."
   ]
  },
  {
   "cell_type": "markdown",
   "metadata": {},
   "source": [
    "#### График кумулятивного среднего чека по группам."
   ]
  },
  {
   "cell_type": "code",
   "execution_count": 11,
   "metadata": {},
   "outputs": [
    {
     "data": {
      "image/png": "[encoded data removed]",
      "text/plain": [
       "<Figure size 1080x504 with 1 Axes>"
      ]
     },
     "metadata": {
      "needs_background": "light"
     },
     "output_type": "display_data"
    }
   ],
   "source": [
    "# строим графики\n",
    "plt.figure(figsize=(15,7))\n",
    "plt.plot(cumulativeRevenueA['date'], cumulativeRevenueA['revenue']/cumulativeRevenueA['orders'], label='A')\n",
    "plt.plot(cumulativeRevenueB['date'], cumulativeRevenueB['revenue']/cumulativeRevenueB['orders'], label='B')\n",
    "plt.title('График кумулятивного среднего чека по группам', fontsize=14)\n",
    "plt.xlabel('Дата', fontsize=12)\n",
    "plt.ylabel('Средний чек', fontsize=12)\n",
    "plt.legend() \n",
    "plt.show()"
   ]
  },
  {
   "cell_type": "markdown",
   "metadata": {},
   "source": [
    "Кумулятивное значение среднего чека колеблется достаточно сильно в обеих группах в первой половине периода. 18-го числа в группе В опять происходит резкий скачок, что подтверждает предположение о крупном заказе, фактически это аномалия, и в последствии для объективности анализа нам следует ее удалить. "
   ]
  },
  {
   "cell_type": "markdown",
   "metadata": {},
   "source": [
    "#### График относительного изменения кумулятивного среднего чека группы B к группе A."
   ]
  },
  {
   "cell_type": "code",
   "execution_count": 12,
   "metadata": {},
   "outputs": [
    {
     "data": {
      "image/png": "[encoded data removed]",
      "text/plain": [
       "<Figure size 1080x504 with 1 Axes>"
      ]
     },
     "metadata": {
      "needs_background": "light"
     },
     "output_type": "display_data"
    }
   ],
   "source": [
    "# собираем данные в одном датафрейме\n",
    "mergedCumulativeRevenue = cumulativeRevenueA.merge(cumulativeRevenueB, left_on='date', right_on='date', how='left', suffixes=['A', 'B'])\n",
    "\n",
    "# cтроим отношение средних чеков\n",
    "plt.figure(figsize=(15,7))\n",
    "plt.plot(mergedCumulativeRevenue['date'], (mergedCumulativeRevenue['revenueB']/mergedCumulativeRevenue['ordersB'])/(mergedCumulativeRevenue['revenueA']/mergedCumulativeRevenue['ordersA'])-1)\n",
    "\n",
    "# добавляем ось X\n",
    "plt.axhline(y=0, color='black', linestyle='--')\n",
    "plt.title('График относительного изменения кумулятивного среднего чека группы B к группе A.', fontsize=14)\n",
    "plt.xlabel('Дата', fontsize=12)\n",
    "plt.ylabel('Относительно изменение среднего чека', fontsize=12)\n",
    "plt.show()"
   ]
  },
  {
   "cell_type": "markdown",
   "metadata": {},
   "source": [
    "Опять видим резкие скачки графика, и колебание относительного изменения кумулятивного среднего чека. Выводы о крупных аномальных заказах подтверждаются."
   ]
  },
  {
   "cell_type": "markdown",
   "metadata": {},
   "source": [
    "#### График кумулятивного среднего количества заказов на посетителя по группам."
   ]
  },
  {
   "cell_type": "code",
   "execution_count": 13,
   "metadata": {},
   "outputs": [
    {
     "data": {
      "image/png": "[encoded data removed]",
      "text/plain": [
       "<Figure size 1080x504 with 1 Axes>"
      ]
     },
     "metadata": {
      "needs_background": "light"
     },
     "output_type": "display_data"
    }
   ],
   "source": [
    "# считаем кумулятивный средний чек на посетителя\n",
    "cumulativeData['mean'] = cumulativeData['orders']/cumulativeData['visitors']\n",
    "\n",
    "# отделяем данные по группе A\n",
    "cumulativeDataA = cumulativeData[cumulativeData['group']=='A']\n",
    "\n",
    "# отделяем данные по группе B\n",
    "cumulativeDataB = cumulativeData[cumulativeData['group']=='B']\n",
    "\n",
    "# строим графики\n",
    "plt.figure(figsize=(15,7))\n",
    "plt.plot(cumulativeDataA['date'], cumulativeDataA['mean'], label='A')\n",
    "plt.plot(cumulativeDataB['date'], cumulativeDataB['mean'], label='B')\n",
    "plt.title('График кумулятивного среднего количества заказов на посетителя по группам.', fontsize=14)\n",
    "plt.xlabel('Дата', fontsize=12)\n",
    "plt.ylabel('Среднее количество заказов на посетителя', fontsize=12)\n",
    "plt.legend()\n",
    "\n",
    "# задаем масштаб осей\n",
    "plt.axis([dt.datetime(2019, 8, 1), dt.datetime(2019, 9, 1), 0, 0.05])\n",
    "plt.ylim(0.025, 0.04)\n",
    "plt.show()\n"
   ]
  },
  {
   "cell_type": "markdown",
   "metadata": {},
   "source": [
    "Среднее кумулятивное количество заказов группы А в первые дни немного обогнало группу В, но потом стабилизровалось и оставалось на уровне 0.03 заказа на посетителя. Показатели группы В сначала были ниже группы А, однако достаточно быстро обогнали другую группы и также показывали стабильный результат на протяжении всего исследования - 0.035 заказа на посетителя."
   ]
  },
  {
   "cell_type": "markdown",
   "metadata": {},
   "source": [
    "#### График относительного изменения кумулятивного среднего количества заказов на посетителя группы B к группе A."
   ]
  },
  {
   "cell_type": "code",
   "execution_count": 14,
   "metadata": {},
   "outputs": [
    {
     "data": {
      "image/png": "[encoded data removed]",
      "text/plain": [
       "<Figure size 1080x504 with 1 Axes>"
      ]
     },
     "metadata": {
      "needs_background": "light"
     },
     "output_type": "display_data"
    }
   ],
   "source": [
    "mergedCumulativeConversions = cumulativeDataA[['date','mean']].merge(cumulativeDataB[['date','mean']], left_on='date', right_on='date', how='left', suffixes=['A', 'B'])\n",
    "\n",
    "plt.figure(figsize=(15,7))\n",
    "plt.plot(mergedCumulativeConversions['date'], mergedCumulativeConversions['meanB']/mergedCumulativeConversions['meanA']-1)\n",
    "plt.title('График относительного изменения кумулятивного среднего количества заказов на посетителя группы B к группе A.', fontsize=14)\n",
    "plt.xlabel('Дата', fontsize=12)\n",
    "plt.ylabel('Относительное изменение количества заказов', fontsize=12)\n",
    "\n",
    "plt.axhline(y=0, color='black', linestyle='--')\n",
    "plt.axhline(y=-0.1, color='grey', linestyle='--')\n",
    "plt.axis([dt.datetime(2019, 8, 1), dt.datetime(2019, 9, 1), -0.3, 0.3])\n",
    "plt.ylim(-0.2,0.25)\n",
    "plt.show()"
   ]
  },
  {
   "cell_type": "markdown",
   "metadata": {},
   "source": [
    "График показывает нам что с 5-го дня теста показатели группы В показывают прирост относительно группы А до середины теста, и с середины стабилизируется и остаетс на уровне 10-12%."
   ]
  },
  {
   "cell_type": "markdown",
   "metadata": {},
   "source": [
    "#### Точечный график количества заказов по пользователям."
   ]
  },
  {
   "cell_type": "code",
   "execution_count": 15,
   "metadata": {},
   "outputs": [
    {
     "data": {
      "image/png": "[encoded data removed]",
      "text/plain": [
       "<Figure size 1080x504 with 1 Axes>"
      ]
     },
     "metadata": {
      "needs_background": "light"
     },
     "output_type": "display_data"
    }
   ],
   "source": [
    "ordersByUsers = (\n",
    "    orders.groupby('visitorid', as_index=False)\n",
    "    .agg({'transactionid': 'nunique'})\n",
    ")\n",
    "\n",
    "ordersByUsers.columns = ['visitorid', 'orders']\n",
    "\n",
    "\n",
    "x_values = pd.Series(range(0,len(ordersByUsers)))\n",
    "\n",
    "plt.figure(figsize=(15,7))\n",
    "plt.scatter(x_values, ordersByUsers['orders'], alpha = 0.5)\n",
    "plt.title('Точечный график количества заказов по пользователям', fontsize=14,)\n",
    "plt.ylabel('Количество заказов на пользователя', fontsize=12)\n",
    "plt.xlabel('Покупатели', fontsize=12)\n",
    "plt.show()"
   ]
  },
  {
   "cell_type": "markdown",
   "metadata": {},
   "source": [
    "Точечное распределение заказов очень наглядно показало нам что пользователей которые совершили более 2-х покупок мало. Но тем не менее они есть, что бы точно определить границу аномалии, расчитаем 95-ый и 99-ый перцинтили количества заказов на одного пользователя."
   ]
  },
  {
   "cell_type": "markdown",
   "metadata": {},
   "source": [
    "#### Расчет 95-го и 99-го перцентилей количества заказов."
   ]
  },
  {
   "cell_type": "code",
   "execution_count": 16,
   "metadata": {},
   "outputs": [
    {
     "data": {
      "text/plain": [
       "'95-ый перцинтиль количества заказов на пользователя:'"
      ]
     },
     "metadata": {},
     "output_type": "display_data"
    },
    {
     "data": {
      "text/plain": [
       "2.0"
      ]
     },
     "metadata": {},
     "output_type": "display_data"
    },
    {
     "data": {
      "text/plain": [
       "'99-ый перцинтиль количества заказов на пользователя:'"
      ]
     },
     "metadata": {},
     "output_type": "display_data"
    },
    {
     "data": {
      "text/plain": [
       "4.0"
      ]
     },
     "metadata": {},
     "output_type": "display_data"
    }
   ],
   "source": [
    "# считаем 95 и 99 перцинтили\n",
    "per_95 = np.percentile(ordersByUsers['orders'], 95)\n",
    "per_99 = np.percentile(ordersByUsers['orders'], 99)\n",
    "\n",
    "display('95-ый перцинтиль количества заказов на пользователя:', per_95)\n",
    "display('99-ый перцинтиль количества заказов на пользователя:', per_99)"
   ]
  },
  {
   "cell_type": "markdown",
   "metadata": {},
   "source": [
    "Не более 5% пользователей совершали больше 2-х покупок. И не более 1% пользователей совершали больше 4-х покупок. В данном случае верхней границей аномальных заказов выберем 2 заказа."
   ]
  },
  {
   "cell_type": "markdown",
   "metadata": {},
   "source": [
    "#### Точечный график стоимостей заказов."
   ]
  },
  {
   "cell_type": "code",
   "execution_count": 17,
   "metadata": {},
   "outputs": [
    {
     "data": {
      "image/png": "[encoded data removed]",
      "text/plain": [
       "<Figure size 1080x504 with 1 Axes>"
      ]
     },
     "metadata": {
      "needs_background": "light"
     },
     "output_type": "display_data"
    }
   ],
   "source": [
    "# строим точечный график стоимости заказов\n",
    "x_values = pd.Series(range(0,len(orders['revenue'])))\n",
    "\n",
    "plt.figure(figsize=(15,7))\n",
    "plt.scatter(x_values, orders['revenue'], alpha = 0.5)\n",
    "plt.title('Точечный график стоимостей заказов.', fontsize=14,)\n",
    "plt.ylabel('Стоимость заказа', fontsize=12)\n",
    "plt.ylim(0, 120000)\n",
    "plt.xlabel('Заказы', fontsize=12)\n",
    "plt.show()"
   ]
  },
  {
   "cell_type": "markdown",
   "metadata": {},
   "source": [
    "При выводе графика без указания ограничений по оси y, у нас был заказ на сумму 1.2 млн, что определенно является аномалией, но при таком масштабе плохо видны остальные данные, в связи с чем, для большей наглядности указали граниы заказов до 120000. \n",
    "\n",
    "Теперь же мы можем видеть что основная масса заказов находится в пределах 20000, проверим верхнюю границу аномалий с помощью перцинтилей."
   ]
  },
  {
   "cell_type": "markdown",
   "metadata": {},
   "source": [
    "#### Расчет 95-го и 99-го перцентилей стоимости заказов."
   ]
  },
  {
   "cell_type": "code",
   "execution_count": 18,
   "metadata": {},
   "outputs": [
    {
     "data": {
      "text/plain": [
       "'95-ый перцинтиль стоимости заказов:'"
      ]
     },
     "metadata": {},
     "output_type": "display_data"
    },
    {
     "data": {
      "text/plain": [
       "28000"
      ]
     },
     "metadata": {},
     "output_type": "display_data"
    },
    {
     "data": {
      "text/plain": [
       "'99-ый перцинтиль стоимости заказов:'"
      ]
     },
     "metadata": {},
     "output_type": "display_data"
    },
    {
     "data": {
      "text/plain": [
       "58233"
      ]
     },
     "metadata": {},
     "output_type": "display_data"
    }
   ],
   "source": [
    "# считаем 95 и 99 перцинтили\n",
    "perс_95 = np.percentile(orders['revenue'], 95)\n",
    "perс_99 = np.percentile(orders['revenue'], 99)\n",
    "\n",
    "display('95-ый перцинтиль стоимости заказов:', round(perс_95))\n",
    "display('99-ый перцинтиль стоимости заказов:', round(perс_99))"
   ]
  },
  {
   "cell_type": "markdown",
   "metadata": {},
   "source": [
    "5% пользователей покупает на сумму больше 28000, и лишь 1% на сумму больше 58000. Исходя из данных расчетов, заказы выше 28000 будем считать аномалиями."
   ]
  },
  {
   "cell_type": "markdown",
   "metadata": {},
   "source": [
    "#### Статистическая значимость различий в среднем количестве заказов на посетителя между группами по «сырым» данным."
   ]
  },
  {
   "cell_type": "markdown",
   "metadata": {},
   "source": [
    "Для проверки статистической значимости различий здесь и далее мы будем использовать критерий Манна-Уинни, поскольку наши данные имеют аномальные выбросы. Сформулируем гипотезы:\n",
    "\n",
    "Нулевая гипотеза: различий в среднем количестве заказов на посетителя между группами нет.\n",
    "\n",
    "Альтернативная: различия в среднем количестве заказов на посетителя между группами есть."
   ]
  },
  {
   "cell_type": "code",
   "execution_count": 19,
   "metadata": {},
   "outputs": [
    {
     "data": {
      "text/html": [
       "<div>\n",
       "<style scoped>\n",
       "    .dataframe tbody tr th:only-of-type {\n",
       "        vertical-align: middle;\n",
       "    }\n",
       "\n",
       "    .dataframe tbody tr th {\n",
       "        vertical-align: top;\n",
       "    }\n",
       "\n",
       "    .dataframe thead th {\n",
       "        text-align: right;\n",
       "    }\n",
       "</style>\n",
       "<table border=\"1\" class=\"dataframe\">\n",
       "  <thead>\n",
       "    <tr style=\"text-align: right;\">\n",
       "      <th></th>\n",
       "      <th>date</th>\n",
       "      <th>ordersPerDateA</th>\n",
       "      <th>revenuePerDateA</th>\n",
       "      <th>ordersPerDateB</th>\n",
       "      <th>revenuePerDateB</th>\n",
       "      <th>ordersCummulativeA</th>\n",
       "      <th>revenueCummulativeA</th>\n",
       "      <th>ordersCummulativeB</th>\n",
       "      <th>revenueCummulativeB</th>\n",
       "      <th>visitorsPerDateA</th>\n",
       "      <th>visitorsPerDateB</th>\n",
       "      <th>visitorsCummulativeA</th>\n",
       "      <th>visitorsCummulativeB</th>\n",
       "    </tr>\n",
       "  </thead>\n",
       "  <tbody>\n",
       "    <tr>\n",
       "      <th>0</th>\n",
       "      <td>2019-08-01</td>\n",
       "      <td>20</td>\n",
       "      <td>148579</td>\n",
       "      <td>21</td>\n",
       "      <td>101217</td>\n",
       "      <td>20</td>\n",
       "      <td>148579</td>\n",
       "      <td>21</td>\n",
       "      <td>101217</td>\n",
       "      <td>719</td>\n",
       "      <td>713</td>\n",
       "      <td>719</td>\n",
       "      <td>713</td>\n",
       "    </tr>\n",
       "    <tr>\n",
       "      <th>1</th>\n",
       "      <td>2019-08-02</td>\n",
       "      <td>19</td>\n",
       "      <td>93822</td>\n",
       "      <td>24</td>\n",
       "      <td>165531</td>\n",
       "      <td>39</td>\n",
       "      <td>242401</td>\n",
       "      <td>45</td>\n",
       "      <td>266748</td>\n",
       "      <td>619</td>\n",
       "      <td>581</td>\n",
       "      <td>1338</td>\n",
       "      <td>1294</td>\n",
       "    </tr>\n",
       "    <tr>\n",
       "      <th>2</th>\n",
       "      <td>2019-08-03</td>\n",
       "      <td>24</td>\n",
       "      <td>112473</td>\n",
       "      <td>16</td>\n",
       "      <td>114248</td>\n",
       "      <td>63</td>\n",
       "      <td>354874</td>\n",
       "      <td>61</td>\n",
       "      <td>380996</td>\n",
       "      <td>507</td>\n",
       "      <td>509</td>\n",
       "      <td>1845</td>\n",
       "      <td>1803</td>\n",
       "    </tr>\n",
       "    <tr>\n",
       "      <th>3</th>\n",
       "      <td>2019-08-04</td>\n",
       "      <td>15</td>\n",
       "      <td>70825</td>\n",
       "      <td>17</td>\n",
       "      <td>108571</td>\n",
       "      <td>78</td>\n",
       "      <td>425699</td>\n",
       "      <td>78</td>\n",
       "      <td>489567</td>\n",
       "      <td>717</td>\n",
       "      <td>770</td>\n",
       "      <td>2562</td>\n",
       "      <td>2573</td>\n",
       "    </tr>\n",
       "    <tr>\n",
       "      <th>4</th>\n",
       "      <td>2019-08-05</td>\n",
       "      <td>25</td>\n",
       "      <td>124218</td>\n",
       "      <td>23</td>\n",
       "      <td>92428</td>\n",
       "      <td>103</td>\n",
       "      <td>549917</td>\n",
       "      <td>101</td>\n",
       "      <td>581995</td>\n",
       "      <td>756</td>\n",
       "      <td>707</td>\n",
       "      <td>3318</td>\n",
       "      <td>3280</td>\n",
       "    </tr>\n",
       "  </tbody>\n",
       "</table>\n",
       "</div>"
      ],
      "text/plain": [
       "        date  ordersPerDateA  revenuePerDateA  ordersPerDateB  \\\n",
       "0 2019-08-01              20           148579              21   \n",
       "1 2019-08-02              19            93822              24   \n",
       "2 2019-08-03              24           112473              16   \n",
       "3 2019-08-04              15            70825              17   \n",
       "4 2019-08-05              25           124218              23   \n",
       "\n",
       "   revenuePerDateB  ordersCummulativeA  revenueCummulativeA  \\\n",
       "0           101217                  20               148579   \n",
       "1           165531                  39               242401   \n",
       "2           114248                  63               354874   \n",
       "3           108571                  78               425699   \n",
       "4            92428                 103               549917   \n",
       "\n",
       "   ordersCummulativeB  revenueCummulativeB  visitorsPerDateA  \\\n",
       "0                  21               101217               719   \n",
       "1                  45               266748               619   \n",
       "2                  61               380996               507   \n",
       "3                  78               489567               717   \n",
       "4                 101               581995               756   \n",
       "\n",
       "   visitorsPerDateB  visitorsCummulativeA  visitorsCummulativeB  \n",
       "0               713                   719                   713  \n",
       "1               581                  1338                  1294  \n",
       "2               509                  1845                  1803  \n",
       "3               770                  2562                  2573  \n",
       "4               707                  3318                  3280  "
      ]
     },
     "execution_count": 19,
     "metadata": {},
     "output_type": "execute_result"
    }
   ],
   "source": [
    "# подготовим данные\n",
    "\n",
    "visitorsADaily = visitors[visitors['group'] == 'A'][['date', 'visitors']]\n",
    "visitorsADaily.columns = ['date', 'visitorsPerDateA']\n",
    "\n",
    "visitorsACummulative = visitorsADaily.apply(\n",
    "    lambda x: visitorsADaily[visitorsADaily['date'] <= x['date']].agg(\n",
    "        {'date': 'max', 'visitorsPerDateA': 'sum'}\n",
    "    ),\n",
    "    axis=1,\n",
    ")\n",
    "visitorsACummulative.columns = ['date', 'visitorsCummulativeA']\n",
    "\n",
    "visitorsBDaily = visitors[visitors['group'] == 'B'][['date', 'visitors']]\n",
    "visitorsBDaily.columns = ['date', 'visitorsPerDateB']\n",
    "\n",
    "visitorsBCummulative = visitorsBDaily.apply(\n",
    "    lambda x: visitorsBDaily[visitorsBDaily['date'] <= x['date']].agg(\n",
    "        {'date': 'max', 'visitorsPerDateB': 'sum'}\n",
    "    ),\n",
    "    axis=1,\n",
    ")\n",
    "visitorsBCummulative.columns = ['date', 'visitorsCummulativeB']\n",
    "\n",
    "ordersADaily = (\n",
    "    orders[orders['group'] == 'A'][['date', 'transactionid', 'visitorid', 'revenue']]\n",
    "    .groupby('date', as_index=False)\n",
    "    .agg({'visitorid': pd.Series.nunique, 'revenue': 'sum'})\n",
    ")\n",
    "ordersADaily.columns = ['date', 'ordersPerDateA', 'revenuePerDateA']\n",
    "\n",
    "ordersACummulative = ordersADaily.apply(\n",
    "    lambda x: ordersADaily[ordersADaily['date'] <= x['date']].agg(\n",
    "        {'date': 'max', 'ordersPerDateA': 'sum', 'revenuePerDateA': 'sum'}\n",
    "    ),\n",
    "    axis=1,\n",
    ").sort_values(by=['date'])\n",
    "ordersACummulative.columns = [\n",
    "    'date',\n",
    "    'ordersCummulativeA',\n",
    "    'revenueCummulativeA',\n",
    "]\n",
    "\n",
    "ordersBDaily = (\n",
    "    orders[orders['group'] == 'B'][['date', 'transactionid', 'visitorid', 'revenue']]\n",
    "    .groupby('date', as_index=False)\n",
    "    .agg({'transactionid': pd.Series.nunique, 'revenue': 'sum'})\n",
    ")\n",
    "ordersBDaily.columns = ['date', 'ordersPerDateB', 'revenuePerDateB']\n",
    "\n",
    "ordersBCummulative = ordersBDaily.apply(\n",
    "    lambda x: ordersBDaily[ordersBDaily['date'] <= x['date']].agg(\n",
    "        {'date': 'max', 'ordersPerDateB': 'sum', 'revenuePerDateB': 'sum'}\n",
    "    ),\n",
    "    axis=1,\n",
    ").sort_values(by=['date'])\n",
    "ordersBCummulative.columns = [\n",
    "    'date',\n",
    "    'ordersCummulativeB',\n",
    "    'revenueCummulativeB',\n",
    "]\n",
    "\n",
    "new_data = (\n",
    "    ordersADaily.merge(\n",
    "        ordersBDaily, left_on='date', right_on='date', how='left'\n",
    "    )\n",
    "    .merge(ordersACummulative, left_on='date', right_on='date', how='left')\n",
    "    .merge(ordersBCummulative, left_on='date', right_on='date', how='left')\n",
    "    .merge(visitorsADaily, left_on='date', right_on='date', how='left')\n",
    "    .merge(visitorsBDaily, left_on='date', right_on='date', how='left')\n",
    "    .merge(visitorsACummulative, left_on='date', right_on='date', how='left')\n",
    "    .merge(visitorsBCummulative, left_on='date', right_on='date', how='left')\n",
    ")\n",
    "\n",
    "new_data.head(5)"
   ]
  },
  {
   "cell_type": "code",
   "execution_count": 20,
   "metadata": {},
   "outputs": [],
   "source": [
    "# создадим переменные с данными о пользователях и заказах\n",
    "\n",
    "ordersByUsersA = (\n",
    "    orders[orders['group'] == 'A']\n",
    "    .groupby('visitorid', as_index=False)\n",
    "    .agg({'transactionid': pd.Series.nunique})\n",
    ")\n",
    "ordersByUsersA.columns = ['visitorid', 'orders']\n",
    "\n",
    "ordersByUsersB = (\n",
    "    orders[orders['group'] == 'B']\n",
    "    .groupby('visitorid', as_index=False)\n",
    "    .agg({'transactionid': pd.Series.nunique})\n",
    ")\n",
    "ordersByUsersB.columns = ['visitorid', 'orders']\n",
    "\n",
    "sampleA = pd.concat(\n",
    "    [\n",
    "        ordersByUsersA['orders'],\n",
    "        pd.Series(\n",
    "            0,\n",
    "            index=np.arange(\n",
    "                new_data['visitorsPerDateA'].sum() - len(ordersByUsersA['orders'])\n",
    "            ),\n",
    "            name='orders',\n",
    "        ),\n",
    "    ],\n",
    "    axis=0,\n",
    ")\n",
    "\n",
    "sampleB = pd.concat(\n",
    "    [\n",
    "        ordersByUsersB['orders'],\n",
    "        pd.Series(\n",
    "            0,\n",
    "            index=np.arange(\n",
    "                new_data['visitorsPerDateB'].sum() - len(ordersByUsersB['orders'])\n",
    "            ),\n",
    "            name='orders',\n",
    "        ),\n",
    "    ],\n",
    "    axis=0,\n",
    ")\n"
   ]
  },
  {
   "cell_type": "code",
   "execution_count": 21,
   "metadata": {},
   "outputs": [
    {
     "data": {
      "text/plain": [
       "'P-value:0.017'"
      ]
     },
     "metadata": {},
     "output_type": "display_data"
    },
    {
     "data": {
      "text/plain": [
       "'Относительное различие в среднем между группами:0.138'"
      ]
     },
     "metadata": {},
     "output_type": "display_data"
    }
   ],
   "source": [
    "display('P-value:' \"{0:.3f}\".format(stats.mannwhitneyu(sampleA, sampleB)[1]))\n",
    "\n",
    "display('Относительное различие в среднем между группами:' \"{0:.3f}\".format(sampleB.mean() / sampleA.mean() - 1))"
   ]
  },
  {
   "cell_type": "markdown",
   "metadata": {},
   "source": [
    "P-value менее 0,05, следовательно нулевую гипотезу мы можем отвергнуть, различия между группами в среднем количеством заказов на посетителя есть.  И разница в среднем между группами порядка 13%. Что достаточно существенно, однако в данном расчете \"сырые\" данные, далее сравним их с очищенными."
   ]
  },
  {
   "cell_type": "markdown",
   "metadata": {},
   "source": [
    "#### Статистическая значимость различий в среднем чеке заказа между группами по «сырым» данным."
   ]
  },
  {
   "cell_type": "markdown",
   "metadata": {},
   "source": [
    "Проверим статистическую значимость различий в среднем чеке между группами по \"сырым\" данным.\n",
    "\n",
    "Нулевая гипотеза: различий в среднем чеке между группами нет. \n",
    "\n",
    "Альтернативная гипотеза: различия в среднем чеке между группами есть. "
   ]
  },
  {
   "cell_type": "code",
   "execution_count": 22,
   "metadata": {},
   "outputs": [
    {
     "data": {
      "text/plain": [
       "'P-value:0.729'"
      ]
     },
     "metadata": {},
     "output_type": "display_data"
    },
    {
     "data": {
      "text/plain": [
       "'Относительное различие в среднем между группами:0.259'"
      ]
     },
     "metadata": {},
     "output_type": "display_data"
    }
   ],
   "source": [
    "display('P-value:' '{0:.3f}'.format(stats.mannwhitneyu(orders[orders['group']=='A']['revenue'], orders[orders['group']=='B']['revenue'])[1]))\n",
    "display('Относительное различие в среднем между группами:' '{0:.3f}'.format(orders[orders['group']=='B']['revenue'].mean()/orders[orders['group']=='A']['revenue'].mean()-1))"
   ]
  },
  {
   "cell_type": "markdown",
   "metadata": {},
   "source": [
    "Нулевую гипотезу не отвергаем, так как p-value значительно больше 0.05. При этом относительное различие между чеками 25%. "
   ]
  },
  {
   "cell_type": "markdown",
   "metadata": {},
   "source": [
    "#### Статистическая значимость различий в среднем количестве заказов на посетителя между группами по «очищенным» данным."
   ]
  },
  {
   "cell_type": "markdown",
   "metadata": {},
   "source": [
    "Для проверки статистической значимости различий в среднем количестве заказов на посетителя очистим данные от аномалий, также сформулируем гипотезы:\n",
    "\n",
    "Нулевая гипотеза: различий в среднем количестве заказов на посетителя между группами нет.\n",
    "\n",
    "Альтернативная: различия в среднем количестве заказов на посетителя между группами есть."
   ]
  },
  {
   "cell_type": "code",
   "execution_count": 23,
   "metadata": {},
   "outputs": [],
   "source": [
    "# подготовим очищенные данные\n",
    "\n",
    "usersWithManyOrders = pd.concat(\n",
    "    [\n",
    "        ordersByUsersA[ordersByUsersA['orders'] > per_95]['visitorid'],\n",
    "        ordersByUsersB[ordersByUsersB['orders'] > per_95]['visitorid'],\n",
    "    ],\n",
    "    axis=0,\n",
    ")\n",
    "usersWithExpensiveOrders = orders[orders['revenue'] > perс_95]['visitorid']\n",
    "abnormalUsers = (\n",
    "    pd.concat([usersWithManyOrders, usersWithExpensiveOrders], axis=0)\n",
    "    .drop_duplicates()\n",
    "    .sort_values()\n",
    ")"
   ]
  },
  {
   "cell_type": "code",
   "execution_count": 24,
   "metadata": {},
   "outputs": [
    {
     "data": {
      "text/plain": [
       "1099    148427295\n",
       "18      199603092\n",
       "928     204675465\n",
       "23      237748145\n",
       "37      249864742\n",
       "Name: visitorid, dtype: int64"
      ]
     },
     "metadata": {},
     "output_type": "display_data"
    },
    {
     "name": "stdout",
     "output_type": "stream",
     "text": [
      "Количество аномальных пользователей: 74\n",
      "% аномальных пользователей: 7\n"
     ]
    }
   ],
   "source": [
    "# считаем аномальных пользователей\n",
    "abnormalUsers = (\n",
    "    pd.concat([usersWithManyOrders, usersWithExpensiveOrders], axis=0)\n",
    "    .drop_duplicates()\n",
    "    .sort_values()\n",
    ")\n",
    "display(abnormalUsers.head(5))\n",
    "print('Количество аномальных пользователей:',abnormalUsers.shape[0])\n",
    "print('% аномальных пользователей:', round(abnormalUsers.shape[0]/orders['visitorid'].nunique()*100))\n"
   ]
  },
  {
   "cell_type": "code",
   "execution_count": 25,
   "metadata": {},
   "outputs": [],
   "source": [
    "sampleAFiltered = pd.concat(\n",
    "    [\n",
    "        ordersByUsersA[\n",
    "            np.logical_not(ordersByUsersA['visitorid'].isin(abnormalUsers))\n",
    "        ]['orders'],\n",
    "        pd.Series(\n",
    "            0,\n",
    "            index=np.arange(\n",
    "                new_data['visitorsPerDateA'].sum() - len(ordersByUsersA['orders'])\n",
    "            ),\n",
    "            name='orders',\n",
    "        ),\n",
    "    ],\n",
    "    axis=0,\n",
    ")\n",
    "\n",
    "sampleBFiltered = pd.concat(\n",
    "    [\n",
    "        ordersByUsersB[\n",
    "            np.logical_not(ordersByUsersB['visitorid'].isin(abnormalUsers))\n",
    "        ]['orders'],\n",
    "        pd.Series(\n",
    "            0,\n",
    "            index=np.arange(\n",
    "                new_data['visitorsPerDateB'].sum() - len(ordersByUsersB['orders'])\n",
    "            ),\n",
    "            name='orders',\n",
    "        ),\n",
    "    ],\n",
    "    axis=0,\n",
    ")\n"
   ]
  },
  {
   "cell_type": "code",
   "execution_count": 26,
   "metadata": {},
   "outputs": [
    {
     "data": {
      "text/plain": [
       "'P-value:0.013'"
      ]
     },
     "metadata": {},
     "output_type": "display_data"
    },
    {
     "data": {
      "text/plain": [
       "'Относительное различие в среднем между группами:0.173'"
      ]
     },
     "metadata": {},
     "output_type": "display_data"
    }
   ],
   "source": [
    "display('P-value:' \"{0:.3f}\".format(stats.mannwhitneyu(sampleAFiltered, sampleBFiltered)[1]))\n",
    "\n",
    "display('Относительное различие в среднем между группами:' \"{0:.3f}\".format(sampleBFiltered.mean()/sampleAFiltered.mean()-1))\n"
   ]
  },
  {
   "cell_type": "markdown",
   "metadata": {},
   "source": [
    "Нулевую гипотезу отвергаем, так как p-value меньше 0,05. То есть различия между группами есть, Группа В также превосходит группу А на 17%, что достаточно хороший показатель. "
   ]
  },
  {
   "cell_type": "markdown",
   "metadata": {},
   "source": [
    "#### Статистическая значимость различий в среднем чеке заказа между группами по «очищенным» данным. Сделайте выводы и предположения."
   ]
  },
  {
   "cell_type": "markdown",
   "metadata": {},
   "source": [
    "Считаем статистическую значимость различий между группами в среднем чеке заказа. \n",
    "\n",
    "Нулевая гипотеза: различий в среднем чеке между группами нет.\n",
    "\n",
    "Альтернативная гипотеза: различия в среднем чеке между группами есть."
   ]
  },
  {
   "cell_type": "code",
   "execution_count": 27,
   "metadata": {},
   "outputs": [
    {
     "data": {
      "text/plain": [
       "'P-value:0.738'"
      ]
     },
     "metadata": {},
     "output_type": "display_data"
    },
    {
     "data": {
      "text/plain": [
       "'Относительное различие в среднем между группами:-0.020'"
      ]
     },
     "metadata": {},
     "output_type": "display_data"
    }
   ],
   "source": [
    "display('P-value:'\n",
    "    '{0:.3f}'.format(\n",
    "        stats.mannwhitneyu(\n",
    "            orders[\n",
    "                np.logical_and(\n",
    "                    orders['group'] == 'A',\n",
    "                    np.logical_not(orders['visitorid'].isin(abnormalUsers)),\n",
    "                )\n",
    "            ]['revenue'],\n",
    "            orders[\n",
    "                np.logical_and(\n",
    "                    orders['group'] == 'B',\n",
    "                    np.logical_not(orders['visitorid'].isin(abnormalUsers)),\n",
    "                )\n",
    "            ]['revenue'],\n",
    "        )[1]\n",
    "    )\n",
    ")\n",
    "\n",
    "display('Относительное различие в среднем между группами:'\n",
    "    \"{0:.3f}\".format(\n",
    "        orders[\n",
    "            np.logical_and(\n",
    "                orders['group'] == 'B',\n",
    "                np.logical_not(orders['visitorid'].isin(abnormalUsers)),\n",
    "            )\n",
    "        ]['revenue'].mean()\n",
    "        / orders[\n",
    "            np.logical_and(\n",
    "                orders['group'] == 'A',\n",
    "                np.logical_not(orders['visitorid'].isin(abnormalUsers)),\n",
    "            )\n",
    "        ]['revenue'].mean()\n",
    "        - 1\n",
    "    )\n",
    ")"
   ]
  },
  {
   "cell_type": "markdown",
   "metadata": {},
   "source": [
    "Нулевую гипотезу не отвергаем, средний чек на пользователя в группе В не увеличился. Более того относительное различие показзывает что средний чек группы В по очищенным данным оказывается даже меньше чека группы А на 2%. "
   ]
  },
  {
   "cell_type": "markdown",
   "metadata": {},
   "source": [
    "#### Решение по результатам теста."
   ]
  },
  {
   "cell_type": "markdown",
   "metadata": {},
   "source": [
    "<b> Выводы и решения по результатам теста: </b> \n",
    "   1. Расчеты различий в среднем количестве заказов между группами и по \"сырым\" и по очищенным данным одинаковые. Разница в 13% по \"сырым\" данным и в 17% по очищенным. Это достаточно хорошая разница, группа В по данному параметру показывает превосходящие результаты.\n",
    "   2. При расчете статистической значимости различий в среднем чеке между группами по \"сырым\" данным разница между группами была в 25%, однако после очистки данных разница исчезла, и разница оказалась в 2% при том что средний чек группы В упал по отношению к чеку группы А.\n",
    "\n",
    "Исходя из вышеобозначенного примем решение об остановке теста и признании  группы В победителем, несмотря на отсутствие роста среднего чека, рост количества заказов в 17% значительно поспособствует увеличению выручки, что и является целью исследования."
   ]
  },
  {
   "cell_type": "markdown",
   "metadata": {},
   "source": [
    "### Этап. Итоговые выводы.\n"
   ]
  },
  {
   "cell_type": "markdown",
   "metadata": {},
   "source": [
    "Основной целью нашего исследования было увеличение выручки интернет-магазина. Для этого были проведены несколько этапов.\n",
    "\n",
    "1. Приоритезация гипотез. Из предложенного списка гипотез, методами ICE и RICE были выявлены наиболее приоритетные гипотезы, которые наиболее полно помогли бы в достижении поставленной цели. По итогу проверки была определена лидирующая гипотеза - Добавить форму подписки на все основные страницы. С выбранной гипотезой будет проведен А/В тест.\n",
    "\n",
    "2. По итогам А/В теста были проведены следующие иследования:\n",
    "\n",
    "    - Построен график кумулятивной выручки по группам - по итогам выручка группы В выше, но незначительно.\n",
    "    - Построен график кумулятивного среднего чека по группам - график с явными колебаниями показал наличие аномалий в данных.\n",
    "    - График относительного изменения кумулятивного среднего чека группы В к группе А также показал колебания и налличие аномалий.\n",
    "    - График кумулятивного среднего количества заказов выявил превосходство группы В.\n",
    "    - График относительного изменения среднего количества заказов на посетителя также показывают прирост количества заказов группы В относительно группы А на 10-12%\n",
    "    - По результатм исследования статистических различий между группами по \"сырым\" и очищенным даннаым было выявлено что уровень среднего чека остался без изменений, а количество заказов выросло на 17%.\n",
    "\n",
    "<b> На основании проведенных исследований в ходе анализа принято решение о прекращении теста и признании его группы В победителем, так как в следствии увеличения объема заказов будет увеличена и выручка.\n",
    "\n",
    "Рекомендации - применить настройки группы В ко всем пользователям.</b>"
   ]
  }
 ],
 "metadata": {
  "ExecuteTimeLog": [
   {
    "duration": 65,
    "start_time": "2023-03-09T08:29:57.259Z"
   },
   {
    "duration": 856,
    "start_time": "2023-03-09T08:30:16.561Z"
   },
   {
    "duration": 44,
    "start_time": "2023-03-09T08:30:31.014Z"
   },
   {
    "duration": 51,
    "start_time": "2023-03-09T08:31:53.091Z"
   },
   {
    "duration": 16,
    "start_time": "2023-03-09T09:40:51.377Z"
   },
   {
    "duration": 101,
    "start_time": "2023-03-09T09:41:33.553Z"
   },
   {
    "duration": 15,
    "start_time": "2023-03-09T09:41:44.266Z"
   },
   {
    "duration": 13,
    "start_time": "2023-03-09T10:11:48.814Z"
   },
   {
    "duration": 3,
    "start_time": "2023-03-09T10:13:23.447Z"
   },
   {
    "duration": 3,
    "start_time": "2023-03-09T10:20:06.307Z"
   },
   {
    "duration": 961,
    "start_time": "2023-03-10T07:15:05.063Z"
   },
   {
    "duration": 12,
    "start_time": "2023-03-10T07:15:06.026Z"
   },
   {
    "duration": 12,
    "start_time": "2023-03-10T07:15:06.039Z"
   },
   {
    "duration": 3,
    "start_time": "2023-03-10T07:16:26.218Z"
   },
   {
    "duration": 166,
    "start_time": "2023-03-10T07:24:42.039Z"
   },
   {
    "duration": 76,
    "start_time": "2023-03-10T07:26:13.453Z"
   },
   {
    "duration": 89,
    "start_time": "2023-03-10T07:27:05.245Z"
   },
   {
    "duration": 14,
    "start_time": "2023-03-10T08:22:59.173Z"
   },
   {
    "duration": 3,
    "start_time": "2023-03-10T08:24:29.468Z"
   },
   {
    "duration": 279,
    "start_time": "2023-03-10T08:46:35.677Z"
   },
   {
    "duration": 41,
    "start_time": "2023-03-10T08:47:16.675Z"
   },
   {
    "duration": 265,
    "start_time": "2023-03-10T08:47:26.195Z"
   },
   {
    "duration": 282,
    "start_time": "2023-03-10T08:48:12.271Z"
   },
   {
    "duration": 29,
    "start_time": "2023-03-10T08:48:41.122Z"
   },
   {
    "duration": 24,
    "start_time": "2023-03-10T08:49:12.252Z"
   },
   {
    "duration": 394,
    "start_time": "2023-03-10T08:51:21.822Z"
   },
   {
    "duration": 9,
    "start_time": "2023-03-10T08:54:43.763Z"
   },
   {
    "duration": 5,
    "start_time": "2023-03-10T08:56:42.372Z"
   },
   {
    "duration": 186,
    "start_time": "2023-03-10T08:56:43.228Z"
   },
   {
    "duration": 354,
    "start_time": "2023-03-10T08:59:18.424Z"
   },
   {
    "duration": 6,
    "start_time": "2023-03-10T09:03:33.310Z"
   },
   {
    "duration": 157,
    "start_time": "2023-03-10T09:05:56.002Z"
   },
   {
    "duration": 579,
    "start_time": "2023-03-10T09:10:14.141Z"
   },
   {
    "duration": 39,
    "start_time": "2023-03-10T09:12:42.065Z"
   },
   {
    "duration": 11,
    "start_time": "2023-03-10T09:12:42.106Z"
   },
   {
    "duration": 24,
    "start_time": "2023-03-10T09:12:42.118Z"
   },
   {
    "duration": 92,
    "start_time": "2023-03-10T09:12:42.144Z"
   },
   {
    "duration": 13,
    "start_time": "2023-03-10T09:12:42.237Z"
   },
   {
    "duration": 8,
    "start_time": "2023-03-10T09:12:42.251Z"
   },
   {
    "duration": 5,
    "start_time": "2023-03-10T09:12:46.312Z"
   },
   {
    "duration": 348,
    "start_time": "2023-03-10T09:12:47.180Z"
   },
   {
    "duration": 262,
    "start_time": "2023-03-10T09:14:40.197Z"
   },
   {
    "duration": 434,
    "start_time": "2023-03-10T09:14:55.441Z"
   },
   {
    "duration": 3,
    "start_time": "2023-03-10T09:16:06.216Z"
   },
   {
    "duration": 272,
    "start_time": "2023-03-10T09:16:19.724Z"
   },
   {
    "duration": 197,
    "start_time": "2023-03-10T09:16:40.010Z"
   },
   {
    "duration": 231,
    "start_time": "2023-03-10T09:19:47.962Z"
   },
   {
    "duration": 202,
    "start_time": "2023-03-10T09:21:02.100Z"
   },
   {
    "duration": 459,
    "start_time": "2023-03-10T09:33:09.832Z"
   },
   {
    "duration": 2,
    "start_time": "2023-03-10T09:36:41.018Z"
   },
   {
    "duration": 2,
    "start_time": "2023-03-10T09:51:21.778Z"
   },
   {
    "duration": 2,
    "start_time": "2023-03-10T09:59:32.186Z"
   },
   {
    "duration": 198,
    "start_time": "2023-03-10T10:02:48.201Z"
   },
   {
    "duration": 58,
    "start_time": "2023-03-10T10:09:31.520Z"
   },
   {
    "duration": 407,
    "start_time": "2023-03-10T10:09:41.564Z"
   },
   {
    "duration": 188,
    "start_time": "2023-03-10T10:10:18.691Z"
   },
   {
    "duration": 299,
    "start_time": "2023-03-10T10:11:08.888Z"
   },
   {
    "duration": 242,
    "start_time": "2023-03-10T10:11:22.287Z"
   },
   {
    "duration": 216,
    "start_time": "2023-03-10T10:20:58.310Z"
   },
   {
    "duration": 199,
    "start_time": "2023-03-10T10:21:08.104Z"
   },
   {
    "duration": 693,
    "start_time": "2023-03-10T10:21:54.884Z"
   },
   {
    "duration": 24,
    "start_time": "2023-03-10T10:21:55.579Z"
   },
   {
    "duration": 11,
    "start_time": "2023-03-10T10:21:55.605Z"
   },
   {
    "duration": 85,
    "start_time": "2023-03-10T10:21:55.618Z"
   },
   {
    "duration": 17,
    "start_time": "2023-03-10T10:21:55.705Z"
   },
   {
    "duration": 5,
    "start_time": "2023-03-10T10:21:55.724Z"
   },
   {
    "duration": 379,
    "start_time": "2023-03-10T10:22:34.702Z"
   },
   {
    "duration": 42,
    "start_time": "2023-03-10T10:58:53.691Z"
   },
   {
    "duration": 12,
    "start_time": "2023-03-10T10:58:53.735Z"
   },
   {
    "duration": 19,
    "start_time": "2023-03-10T10:58:53.748Z"
   },
   {
    "duration": 76,
    "start_time": "2023-03-10T10:58:53.817Z"
   },
   {
    "duration": 18,
    "start_time": "2023-03-10T10:58:53.895Z"
   },
   {
    "duration": 205,
    "start_time": "2023-03-10T10:59:51.023Z"
   },
   {
    "duration": 302,
    "start_time": "2023-03-10T11:00:07.473Z"
   },
   {
    "duration": 285,
    "start_time": "2023-03-10T11:03:05.329Z"
   },
   {
    "duration": 323,
    "start_time": "2023-03-10T11:04:14.901Z"
   },
   {
    "duration": 12,
    "start_time": "2023-03-10T11:07:02.565Z"
   },
   {
    "duration": 271,
    "start_time": "2023-03-10T11:07:37.278Z"
   },
   {
    "duration": 222,
    "start_time": "2023-03-10T11:08:00.334Z"
   },
   {
    "duration": 169,
    "start_time": "2023-03-10T11:08:17.491Z"
   },
   {
    "duration": 230,
    "start_time": "2023-03-10T11:08:51.121Z"
   },
   {
    "duration": 45,
    "start_time": "2023-03-10T11:29:15.222Z"
   },
   {
    "duration": 40,
    "start_time": "2023-03-10T11:29:23.820Z"
   },
   {
    "duration": 12,
    "start_time": "2023-03-10T11:29:23.862Z"
   },
   {
    "duration": 17,
    "start_time": "2023-03-10T11:29:23.875Z"
   },
   {
    "duration": 82,
    "start_time": "2023-03-10T11:29:23.894Z"
   },
   {
    "duration": 15,
    "start_time": "2023-03-10T11:29:23.978Z"
   },
   {
    "duration": 11,
    "start_time": "2023-03-10T11:29:27.028Z"
   },
   {
    "duration": 250,
    "start_time": "2023-03-10T11:29:30.977Z"
   },
   {
    "duration": 262,
    "start_time": "2023-03-10T11:29:33.370Z"
   },
   {
    "duration": 100,
    "start_time": "2023-03-10T11:30:31.468Z"
   },
   {
    "duration": 88,
    "start_time": "2023-03-10T11:31:03.039Z"
   },
   {
    "duration": 15,
    "start_time": "2023-03-10T11:31:07.587Z"
   },
   {
    "duration": 17,
    "start_time": "2023-03-10T11:31:12.500Z"
   },
   {
    "duration": 226,
    "start_time": "2023-03-10T11:31:16.700Z"
   },
   {
    "duration": 670,
    "start_time": "2023-03-10T12:57:31.453Z"
   },
   {
    "duration": 13,
    "start_time": "2023-03-10T12:57:33.787Z"
   },
   {
    "duration": 12,
    "start_time": "2023-03-10T12:57:35.242Z"
   },
   {
    "duration": 95,
    "start_time": "2023-03-10T12:57:38.244Z"
   },
   {
    "duration": 15,
    "start_time": "2023-03-10T12:57:39.400Z"
   },
   {
    "duration": 13,
    "start_time": "2023-03-10T12:57:41.603Z"
   },
   {
    "duration": 5,
    "start_time": "2023-03-10T12:57:44.153Z"
   },
   {
    "duration": 245,
    "start_time": "2023-03-10T12:57:47.361Z"
   },
   {
    "duration": 195,
    "start_time": "2023-03-10T12:57:53.708Z"
   },
   {
    "duration": 191,
    "start_time": "2023-03-10T12:58:51.850Z"
   },
   {
    "duration": 628,
    "start_time": "2023-03-10T12:59:03.449Z"
   },
   {
    "duration": 12,
    "start_time": "2023-03-10T12:59:04.079Z"
   },
   {
    "duration": 11,
    "start_time": "2023-03-10T12:59:04.093Z"
   },
   {
    "duration": 79,
    "start_time": "2023-03-10T12:59:04.107Z"
   },
   {
    "duration": 17,
    "start_time": "2023-03-10T12:59:04.188Z"
   },
   {
    "duration": 19,
    "start_time": "2023-03-10T12:59:04.207Z"
   },
   {
    "duration": 13,
    "start_time": "2023-03-10T12:59:04.228Z"
   },
   {
    "duration": 96,
    "start_time": "2023-03-10T13:00:16.775Z"
   },
   {
    "duration": 165,
    "start_time": "2023-03-10T13:00:27.314Z"
   },
   {
    "duration": 134,
    "start_time": "2023-03-10T13:01:01.478Z"
   },
   {
    "duration": 7,
    "start_time": "2023-03-10T13:01:44.940Z"
   },
   {
    "duration": 14,
    "start_time": "2023-03-10T13:02:13.346Z"
   },
   {
    "duration": 265,
    "start_time": "2023-03-10T13:02:42.127Z"
   },
   {
    "duration": 830,
    "start_time": "2023-03-13T07:53:51.029Z"
   },
   {
    "duration": 12,
    "start_time": "2023-03-13T07:53:51.861Z"
   },
   {
    "duration": 11,
    "start_time": "2023-03-13T07:53:51.874Z"
   },
   {
    "duration": 180,
    "start_time": "2023-03-13T07:54:04.399Z"
   },
   {
    "duration": 13,
    "start_time": "2023-03-13T07:54:10.395Z"
   },
   {
    "duration": 278,
    "start_time": "2023-03-13T08:00:12.921Z"
   },
   {
    "duration": 236,
    "start_time": "2023-03-13T08:00:23.508Z"
   },
   {
    "duration": 193,
    "start_time": "2023-03-13T08:01:40.454Z"
   },
   {
    "duration": 172,
    "start_time": "2023-03-13T08:02:27.418Z"
   },
   {
    "duration": 272,
    "start_time": "2023-03-13T08:05:44.434Z"
   },
   {
    "duration": 284,
    "start_time": "2023-03-13T08:07:16.420Z"
   },
   {
    "duration": 188,
    "start_time": "2023-03-13T08:07:38.538Z"
   },
   {
    "duration": 152,
    "start_time": "2023-03-13T08:07:54.990Z"
   },
   {
    "duration": 155,
    "start_time": "2023-03-13T08:08:06.882Z"
   },
   {
    "duration": 158,
    "start_time": "2023-03-13T08:08:59.344Z"
   },
   {
    "duration": 341,
    "start_time": "2023-03-13T08:10:25.741Z"
   },
   {
    "duration": 173,
    "start_time": "2023-03-13T08:10:44.178Z"
   },
   {
    "duration": 186,
    "start_time": "2023-03-13T08:10:51.970Z"
   },
   {
    "duration": 192,
    "start_time": "2023-03-13T08:11:06.620Z"
   },
   {
    "duration": 201,
    "start_time": "2023-03-13T08:11:17.436Z"
   },
   {
    "duration": 281,
    "start_time": "2023-03-13T08:11:59.866Z"
   },
   {
    "duration": 232,
    "start_time": "2023-03-13T08:19:40.651Z"
   },
   {
    "duration": 383,
    "start_time": "2023-03-13T08:28:53.030Z"
   },
   {
    "duration": 267,
    "start_time": "2023-03-13T09:17:37.814Z"
   },
   {
    "duration": 269,
    "start_time": "2023-03-13T09:21:15.817Z"
   },
   {
    "duration": 297,
    "start_time": "2023-03-13T09:21:56.298Z"
   },
   {
    "duration": 6,
    "start_time": "2023-03-13T09:22:46.575Z"
   },
   {
    "duration": 230,
    "start_time": "2023-03-13T09:22:56.459Z"
   },
   {
    "duration": 203,
    "start_time": "2023-03-13T09:23:11.192Z"
   },
   {
    "duration": 204,
    "start_time": "2023-03-13T09:23:19.255Z"
   },
   {
    "duration": 206,
    "start_time": "2023-03-13T09:23:31.535Z"
   },
   {
    "duration": 199,
    "start_time": "2023-03-13T09:23:39.017Z"
   },
   {
    "duration": 274,
    "start_time": "2023-03-13T09:24:15.974Z"
   },
   {
    "duration": 376,
    "start_time": "2023-03-13T09:32:16.850Z"
   },
   {
    "duration": 21,
    "start_time": "2023-03-13T09:32:51.383Z"
   },
   {
    "duration": 351,
    "start_time": "2023-03-13T09:34:31.815Z"
   },
   {
    "duration": 347,
    "start_time": "2023-03-13T09:35:16.080Z"
   },
   {
    "duration": 401,
    "start_time": "2023-03-13T09:35:25.041Z"
   },
   {
    "duration": 328,
    "start_time": "2023-03-13T09:35:35.330Z"
   },
   {
    "duration": 362,
    "start_time": "2023-03-13T09:46:19.531Z"
   },
   {
    "duration": 352,
    "start_time": "2023-03-13T09:46:30.632Z"
   },
   {
    "duration": 334,
    "start_time": "2023-03-13T09:47:59.759Z"
   },
   {
    "duration": 312,
    "start_time": "2023-03-13T09:48:29.976Z"
   },
   {
    "duration": 374,
    "start_time": "2023-03-13T09:50:24.456Z"
   },
   {
    "duration": 119,
    "start_time": "2023-03-13T10:01:47.642Z"
   },
   {
    "duration": 110,
    "start_time": "2023-03-13T10:04:13.533Z"
   },
   {
    "duration": 273,
    "start_time": "2023-03-13T10:06:17.187Z"
   },
   {
    "duration": 125,
    "start_time": "2023-03-13T10:06:22.940Z"
   },
   {
    "duration": 125,
    "start_time": "2023-03-13T10:06:36.839Z"
   },
   {
    "duration": 149,
    "start_time": "2023-03-13T10:06:41.650Z"
   },
   {
    "duration": 115,
    "start_time": "2023-03-13T10:07:05.024Z"
   },
   {
    "duration": 121,
    "start_time": "2023-03-13T10:07:59.836Z"
   },
   {
    "duration": 125,
    "start_time": "2023-03-13T10:08:04.820Z"
   },
   {
    "duration": 2191,
    "start_time": "2023-03-13T10:16:11.508Z"
   },
   {
    "duration": 129,
    "start_time": "2023-03-13T10:16:28.100Z"
   },
   {
    "duration": 113,
    "start_time": "2023-03-13T10:17:07.364Z"
   },
   {
    "duration": 115,
    "start_time": "2023-03-13T10:17:13.507Z"
   },
   {
    "duration": 132,
    "start_time": "2023-03-13T10:17:21.063Z"
   },
   {
    "duration": 113,
    "start_time": "2023-03-13T10:17:33.737Z"
   },
   {
    "duration": 123,
    "start_time": "2023-03-13T10:17:38.997Z"
   },
   {
    "duration": 146,
    "start_time": "2023-03-13T10:18:18.477Z"
   },
   {
    "duration": 159,
    "start_time": "2023-03-13T10:20:33.648Z"
   },
   {
    "duration": 223,
    "start_time": "2023-03-13T10:27:26.782Z"
   },
   {
    "duration": 146,
    "start_time": "2023-03-13T10:29:51.365Z"
   },
   {
    "duration": 157,
    "start_time": "2023-03-13T10:30:01.594Z"
   },
   {
    "duration": 153,
    "start_time": "2023-03-13T10:30:16.155Z"
   },
   {
    "duration": 147,
    "start_time": "2023-03-13T10:31:34.771Z"
   },
   {
    "duration": 3,
    "start_time": "2023-03-13T10:32:01.013Z"
   },
   {
    "duration": 5,
    "start_time": "2023-03-13T10:38:14.314Z"
   },
   {
    "duration": 6,
    "start_time": "2023-03-13T10:38:20.735Z"
   },
   {
    "duration": 5,
    "start_time": "2023-03-13T10:38:41.437Z"
   },
   {
    "duration": 6,
    "start_time": "2023-03-13T10:38:52.291Z"
   },
   {
    "duration": 65,
    "start_time": "2023-03-13T10:42:29.402Z"
   },
   {
    "duration": 9,
    "start_time": "2023-03-13T10:42:46.505Z"
   },
   {
    "duration": 6,
    "start_time": "2023-03-13T10:43:04.173Z"
   },
   {
    "duration": 4,
    "start_time": "2023-03-13T10:44:45.982Z"
   },
   {
    "duration": 8,
    "start_time": "2023-03-13T10:44:50.340Z"
   },
   {
    "duration": 10,
    "start_time": "2023-03-13T10:45:12.060Z"
   },
   {
    "duration": 765,
    "start_time": "2023-03-13T10:51:50.003Z"
   },
   {
    "duration": 166,
    "start_time": "2023-03-13T10:53:19.398Z"
   },
   {
    "duration": 159,
    "start_time": "2023-03-13T10:55:17.627Z"
   },
   {
    "duration": 199,
    "start_time": "2023-03-13T10:56:14.147Z"
   },
   {
    "duration": 177,
    "start_time": "2023-03-13T10:56:29.992Z"
   },
   {
    "duration": 180,
    "start_time": "2023-03-13T10:56:37.262Z"
   },
   {
    "duration": 11,
    "start_time": "2023-03-13T11:01:17.409Z"
   },
   {
    "duration": 9,
    "start_time": "2023-03-13T11:02:07.865Z"
   },
   {
    "duration": 142,
    "start_time": "2023-03-13T12:32:20.623Z"
   },
   {
    "duration": 197,
    "start_time": "2023-03-13T12:32:37.415Z"
   },
   {
    "duration": 136,
    "start_time": "2023-03-13T12:37:02.996Z"
   },
   {
    "duration": 149,
    "start_time": "2023-03-13T12:38:55.865Z"
   },
   {
    "duration": 8,
    "start_time": "2023-03-13T12:38:57.812Z"
   },
   {
    "duration": 621,
    "start_time": "2023-03-13T12:39:37.774Z"
   },
   {
    "duration": 23,
    "start_time": "2023-03-13T12:39:45.667Z"
   },
   {
    "duration": 25,
    "start_time": "2023-03-13T12:41:45.087Z"
   },
   {
    "duration": 32,
    "start_time": "2023-03-13T12:42:12.070Z"
   },
   {
    "duration": 26,
    "start_time": "2023-03-13T12:42:21.530Z"
   },
   {
    "duration": 24,
    "start_time": "2023-03-13T12:42:29.062Z"
   },
   {
    "duration": 45,
    "start_time": "2023-03-13T12:42:43.239Z"
   },
   {
    "duration": 53,
    "start_time": "2023-03-13T12:43:03.558Z"
   },
   {
    "duration": 22,
    "start_time": "2023-03-13T12:43:32.407Z"
   },
   {
    "duration": 213,
    "start_time": "2023-03-13T12:44:07.677Z"
   },
   {
    "duration": 52,
    "start_time": "2023-03-13T12:44:41.497Z"
   },
   {
    "duration": 53,
    "start_time": "2023-03-13T12:44:58.974Z"
   },
   {
    "duration": 8,
    "start_time": "2023-03-13T12:45:04.662Z"
   },
   {
    "duration": 8,
    "start_time": "2023-03-13T12:45:20.904Z"
   },
   {
    "duration": 8,
    "start_time": "2023-03-13T12:45:47.744Z"
   },
   {
    "duration": 25,
    "start_time": "2023-03-13T12:53:53.362Z"
   },
   {
    "duration": 39,
    "start_time": "2023-03-13T12:54:16.456Z"
   },
   {
    "duration": 786,
    "start_time": "2023-03-13T12:59:58.022Z"
   },
   {
    "duration": 9,
    "start_time": "2023-03-13T13:11:49.880Z"
   },
   {
    "duration": 7,
    "start_time": "2023-03-13T13:12:14.567Z"
   },
   {
    "duration": 9,
    "start_time": "2023-03-13T13:15:01.000Z"
   },
   {
    "duration": 1014,
    "start_time": "2023-03-13T13:16:09.049Z"
   },
   {
    "duration": 7,
    "start_time": "2023-03-13T13:18:06.945Z"
   },
   {
    "duration": 793,
    "start_time": "2023-03-13T13:20:14.503Z"
   },
   {
    "duration": 12,
    "start_time": "2023-03-13T13:20:32.280Z"
   },
   {
    "duration": 27,
    "start_time": "2023-03-13T13:23:23.408Z"
   },
   {
    "duration": 1519,
    "start_time": "2023-03-14T08:46:00.134Z"
   },
   {
    "duration": 12,
    "start_time": "2023-03-14T08:46:01.656Z"
   },
   {
    "duration": 51,
    "start_time": "2023-03-14T08:46:01.670Z"
   },
   {
    "duration": 203,
    "start_time": "2023-03-14T08:46:01.724Z"
   },
   {
    "duration": 13,
    "start_time": "2023-03-14T08:46:01.929Z"
   },
   {
    "duration": 346,
    "start_time": "2023-03-14T08:46:01.944Z"
   },
   {
    "duration": 355,
    "start_time": "2023-03-14T08:46:02.292Z"
   },
   {
    "duration": 243,
    "start_time": "2023-03-14T08:46:02.649Z"
   },
   {
    "duration": 438,
    "start_time": "2023-03-14T08:46:02.893Z"
   },
   {
    "duration": 228,
    "start_time": "2023-03-14T08:46:03.339Z"
   },
   {
    "duration": 312,
    "start_time": "2023-03-14T08:46:03.570Z"
   },
   {
    "duration": 161,
    "start_time": "2023-03-14T08:46:03.884Z"
   },
   {
    "duration": 9,
    "start_time": "2023-03-14T08:46:04.047Z"
   },
   {
    "duration": 213,
    "start_time": "2023-03-14T08:46:04.058Z"
   },
   {
    "duration": 9,
    "start_time": "2023-03-14T08:46:04.273Z"
   },
   {
    "duration": 219,
    "start_time": "2023-03-14T08:46:04.284Z"
   },
   {
    "duration": 1377,
    "start_time": "2023-03-14T08:46:04.505Z"
   },
   {
    "duration": 0,
    "start_time": "2023-03-14T08:46:05.883Z"
   },
   {
    "duration": 0,
    "start_time": "2023-03-14T08:46:05.885Z"
   },
   {
    "duration": 0,
    "start_time": "2023-03-14T08:46:05.886Z"
   },
   {
    "duration": 0,
    "start_time": "2023-03-14T08:46:05.887Z"
   },
   {
    "duration": 9,
    "start_time": "2023-03-14T08:46:13.061Z"
   },
   {
    "duration": 148,
    "start_time": "2023-03-14T08:47:53.543Z"
   },
   {
    "duration": 22,
    "start_time": "2023-03-14T08:47:57.750Z"
   },
   {
    "duration": 13,
    "start_time": "2023-03-14T08:48:10.879Z"
   },
   {
    "duration": 13,
    "start_time": "2023-03-14T08:48:28.248Z"
   },
   {
    "duration": 22,
    "start_time": "2023-03-14T08:48:30.467Z"
   },
   {
    "duration": 1220,
    "start_time": "2023-03-14T08:53:31.112Z"
   },
   {
    "duration": 17,
    "start_time": "2023-03-14T08:54:07.827Z"
   },
   {
    "duration": 2,
    "start_time": "2023-03-14T09:50:01.640Z"
   },
   {
    "duration": 1180,
    "start_time": "2023-03-14T11:47:17.002Z"
   },
   {
    "duration": 15,
    "start_time": "2023-03-14T11:47:18.187Z"
   },
   {
    "duration": 15,
    "start_time": "2023-03-14T11:47:18.204Z"
   },
   {
    "duration": 95,
    "start_time": "2023-03-14T11:47:18.221Z"
   },
   {
    "duration": 15,
    "start_time": "2023-03-14T11:47:18.319Z"
   },
   {
    "duration": 334,
    "start_time": "2023-03-14T11:47:18.337Z"
   },
   {
    "duration": 345,
    "start_time": "2023-03-14T11:47:18.680Z"
   },
   {
    "duration": 301,
    "start_time": "2023-03-14T11:47:19.027Z"
   },
   {
    "duration": 429,
    "start_time": "2023-03-14T11:47:19.330Z"
   },
   {
    "duration": 261,
    "start_time": "2023-03-14T11:47:19.763Z"
   },
   {
    "duration": 372,
    "start_time": "2023-03-14T11:47:20.026Z"
   },
   {
    "duration": 191,
    "start_time": "2023-03-14T11:47:20.400Z"
   },
   {
    "duration": 8,
    "start_time": "2023-03-14T11:47:20.593Z"
   },
   {
    "duration": 218,
    "start_time": "2023-03-14T11:47:20.604Z"
   },
   {
    "duration": 35,
    "start_time": "2023-03-14T11:47:20.824Z"
   },
   {
    "duration": 233,
    "start_time": "2023-03-14T11:47:20.860Z"
   },
   {
    "duration": 210,
    "start_time": "2023-03-14T11:47:21.095Z"
   },
   {
    "duration": 42,
    "start_time": "2023-03-14T11:47:21.307Z"
   },
   {
    "duration": 13,
    "start_time": "2023-03-14T11:47:21.351Z"
   },
   {
    "duration": 43,
    "start_time": "2023-03-14T11:47:21.366Z"
   },
   {
    "duration": 26,
    "start_time": "2023-03-14T11:47:21.411Z"
   },
   {
    "duration": 18,
    "start_time": "2023-03-14T11:47:21.446Z"
   },
   {
    "duration": 1346,
    "start_time": "2023-03-14T16:06:41.898Z"
   },
   {
    "duration": 13,
    "start_time": "2023-03-14T16:06:43.246Z"
   },
   {
    "duration": 13,
    "start_time": "2023-03-14T16:06:43.261Z"
   },
   {
    "duration": 155,
    "start_time": "2023-03-14T16:06:43.276Z"
   },
   {
    "duration": 16,
    "start_time": "2023-03-14T16:06:43.433Z"
   },
   {
    "duration": 356,
    "start_time": "2023-03-14T16:06:43.451Z"
   },
   {
    "duration": 335,
    "start_time": "2023-03-14T16:06:43.809Z"
   },
   {
    "duration": 240,
    "start_time": "2023-03-14T16:06:44.146Z"
   },
   {
    "duration": 391,
    "start_time": "2023-03-14T16:06:44.388Z"
   },
   {
    "duration": 251,
    "start_time": "2023-03-14T16:06:44.782Z"
   },
   {
    "duration": 357,
    "start_time": "2023-03-14T16:06:45.035Z"
   },
   {
    "duration": 175,
    "start_time": "2023-03-14T16:06:45.393Z"
   },
   {
    "duration": 8,
    "start_time": "2023-03-14T16:06:45.570Z"
   },
   {
    "duration": 223,
    "start_time": "2023-03-14T16:06:45.579Z"
   },
   {
    "duration": 11,
    "start_time": "2023-03-14T16:06:45.804Z"
   },
   {
    "duration": 228,
    "start_time": "2023-03-14T16:06:45.817Z"
   },
   {
    "duration": 151,
    "start_time": "2023-03-14T16:06:46.047Z"
   },
   {
    "duration": 25,
    "start_time": "2023-03-14T16:06:46.200Z"
   },
   {
    "duration": 23,
    "start_time": "2023-03-14T16:06:46.227Z"
   },
   {
    "duration": 7,
    "start_time": "2023-03-14T16:06:46.252Z"
   },
   {
    "duration": 12,
    "start_time": "2023-03-14T16:06:46.261Z"
   },
   {
    "duration": 24,
    "start_time": "2023-03-14T16:06:46.275Z"
   },
   {
    "duration": 40,
    "start_time": "2023-03-14T16:06:46.301Z"
   },
   {
    "duration": 90,
    "start_time": "2023-03-15T05:57:21.550Z"
   },
   {
    "duration": 1267,
    "start_time": "2023-03-15T06:03:40.094Z"
   },
   {
    "duration": 147,
    "start_time": "2023-03-15T06:03:45.126Z"
   },
   {
    "duration": 37,
    "start_time": "2023-03-15T06:08:58.906Z"
   },
   {
    "duration": 4,
    "start_time": "2023-03-15T06:09:06.470Z"
   },
   {
    "duration": 3,
    "start_time": "2023-03-15T06:11:13.838Z"
   },
   {
    "duration": 36,
    "start_time": "2023-03-15T06:11:13.843Z"
   },
   {
    "duration": 13,
    "start_time": "2023-03-15T06:11:13.881Z"
   },
   {
    "duration": 13,
    "start_time": "2023-03-15T06:11:13.896Z"
   },
   {
    "duration": 165,
    "start_time": "2023-03-15T06:11:13.912Z"
   },
   {
    "duration": 19,
    "start_time": "2023-03-15T06:11:14.079Z"
   },
   {
    "duration": 448,
    "start_time": "2023-03-15T06:11:14.100Z"
   },
   {
    "duration": 321,
    "start_time": "2023-03-15T06:11:20.292Z"
   },
   {
    "duration": 79,
    "start_time": "2023-03-15T06:11:56.234Z"
   },
   {
    "duration": 234,
    "start_time": "2023-03-15T06:12:47.570Z"
   },
   {
    "duration": 383,
    "start_time": "2023-03-15T06:13:08.221Z"
   },
   {
    "duration": 409,
    "start_time": "2023-03-15T06:13:29.525Z"
   },
   {
    "duration": 309,
    "start_time": "2023-03-15T06:14:13.988Z"
   },
   {
    "duration": 209,
    "start_time": "2023-03-15T06:14:22.476Z"
   },
   {
    "duration": 233,
    "start_time": "2023-03-15T06:15:43.734Z"
   },
   {
    "duration": 224,
    "start_time": "2023-03-15T06:15:56.191Z"
   },
   {
    "duration": 294,
    "start_time": "2023-03-15T06:16:06.549Z"
   },
   {
    "duration": 220,
    "start_time": "2023-03-15T06:16:20.327Z"
   },
   {
    "duration": 244,
    "start_time": "2023-03-15T06:16:49.262Z"
   },
   {
    "duration": 247,
    "start_time": "2023-03-15T06:17:06.426Z"
   },
   {
    "duration": 264,
    "start_time": "2023-03-15T06:17:47.229Z"
   },
   {
    "duration": 288,
    "start_time": "2023-03-15T06:19:47.852Z"
   },
   {
    "duration": 336,
    "start_time": "2023-03-15T06:20:48.878Z"
   },
   {
    "duration": 364,
    "start_time": "2023-03-15T06:21:01.407Z"
   },
   {
    "duration": 86,
    "start_time": "2023-03-15T06:22:20.506Z"
   },
   {
    "duration": 150,
    "start_time": "2023-03-15T06:23:20.837Z"
   },
   {
    "duration": 165,
    "start_time": "2023-03-15T06:26:36.287Z"
   },
   {
    "duration": 152,
    "start_time": "2023-03-15T06:26:49.191Z"
   },
   {
    "duration": 234,
    "start_time": "2023-03-15T06:28:03.565Z"
   },
   {
    "duration": 74,
    "start_time": "2023-03-15T06:28:46.590Z"
   },
   {
    "duration": 175,
    "start_time": "2023-03-15T06:29:53.496Z"
   },
   {
    "duration": 173,
    "start_time": "2023-03-15T06:30:24.815Z"
   },
   {
    "duration": 5,
    "start_time": "2023-03-15T07:53:19.217Z"
   },
   {
    "duration": 3,
    "start_time": "2023-03-15T07:53:25.836Z"
   },
   {
    "duration": 37,
    "start_time": "2023-03-15T07:53:25.842Z"
   },
   {
    "duration": 14,
    "start_time": "2023-03-15T07:53:25.881Z"
   },
   {
    "duration": 14,
    "start_time": "2023-03-15T07:53:25.897Z"
   },
   {
    "duration": 94,
    "start_time": "2023-03-15T07:53:25.914Z"
   },
   {
    "duration": 19,
    "start_time": "2023-03-15T07:53:26.010Z"
   },
   {
    "duration": 4,
    "start_time": "2023-03-15T07:53:35.881Z"
   },
   {
    "duration": 15,
    "start_time": "2023-03-15T07:56:34.214Z"
   },
   {
    "duration": 105,
    "start_time": "2023-03-15T07:56:45.710Z"
   },
   {
    "duration": 5,
    "start_time": "2023-03-15T07:56:59.548Z"
   },
   {
    "duration": 5,
    "start_time": "2023-03-15T07:57:09.914Z"
   },
   {
    "duration": 16,
    "start_time": "2023-03-15T07:57:50.024Z"
   },
   {
    "duration": 12,
    "start_time": "2023-03-15T07:58:24.711Z"
   },
   {
    "duration": 10,
    "start_time": "2023-03-15T07:58:36.762Z"
   },
   {
    "duration": 12,
    "start_time": "2023-03-15T07:58:59.160Z"
   },
   {
    "duration": 11,
    "start_time": "2023-03-15T08:00:57.110Z"
   },
   {
    "duration": 11,
    "start_time": "2023-03-15T08:22:28.313Z"
   },
   {
    "duration": 15,
    "start_time": "2023-03-15T08:22:40.624Z"
   },
   {
    "duration": 13,
    "start_time": "2023-03-15T08:32:35.359Z"
   },
   {
    "duration": 14,
    "start_time": "2023-03-15T08:32:45.125Z"
   },
   {
    "duration": 14,
    "start_time": "2023-03-15T08:35:52.224Z"
   },
   {
    "duration": 74,
    "start_time": "2023-03-15T08:39:42.662Z"
   },
   {
    "duration": 12,
    "start_time": "2023-03-15T08:39:47.833Z"
   },
   {
    "duration": 73,
    "start_time": "2023-03-15T08:40:33.247Z"
   },
   {
    "duration": 12,
    "start_time": "2023-03-15T08:40:39.237Z"
   },
   {
    "duration": 12,
    "start_time": "2023-03-15T08:40:50.479Z"
   },
   {
    "duration": 11,
    "start_time": "2023-03-15T08:41:10.670Z"
   },
   {
    "duration": 14,
    "start_time": "2023-03-15T08:58:38.964Z"
   },
   {
    "duration": 9,
    "start_time": "2023-03-15T09:03:15.219Z"
   },
   {
    "duration": 15,
    "start_time": "2023-03-15T09:07:02.167Z"
   },
   {
    "duration": 22,
    "start_time": "2023-03-15T09:07:23.376Z"
   },
   {
    "duration": 70,
    "start_time": "2023-03-15T09:49:33.817Z"
   },
   {
    "duration": 1254,
    "start_time": "2023-03-15T12:52:43.402Z"
   },
   {
    "duration": 142,
    "start_time": "2023-03-15T12:52:44.658Z"
   },
   {
    "duration": 14,
    "start_time": "2023-03-15T12:52:44.802Z"
   },
   {
    "duration": 17,
    "start_time": "2023-03-15T12:52:44.818Z"
   },
   {
    "duration": 176,
    "start_time": "2023-03-15T12:52:44.836Z"
   },
   {
    "duration": 16,
    "start_time": "2023-03-15T12:52:45.015Z"
   },
   {
    "duration": 22,
    "start_time": "2023-03-15T12:52:45.033Z"
   },
   {
    "duration": 11,
    "start_time": "2023-03-15T12:52:45.057Z"
   },
   {
    "duration": 333,
    "start_time": "2023-03-15T12:52:45.070Z"
   },
   {
    "duration": 341,
    "start_time": "2023-03-15T12:52:45.406Z"
   },
   {
    "duration": 257,
    "start_time": "2023-03-15T12:52:45.749Z"
   },
   {
    "duration": 399,
    "start_time": "2023-03-15T12:52:46.009Z"
   },
   {
    "duration": 290,
    "start_time": "2023-03-15T12:52:46.410Z"
   },
   {
    "duration": 411,
    "start_time": "2023-03-15T12:52:46.702Z"
   },
   {
    "duration": 230,
    "start_time": "2023-03-15T12:52:47.115Z"
   },
   {
    "duration": 12,
    "start_time": "2023-03-15T12:52:47.347Z"
   },
   {
    "duration": 239,
    "start_time": "2023-03-15T12:52:47.360Z"
   },
   {
    "duration": 10,
    "start_time": "2023-03-15T12:52:47.601Z"
   },
   {
    "duration": 1259,
    "start_time": "2023-03-15T16:31:23.476Z"
   },
   {
    "duration": 153,
    "start_time": "2023-03-15T16:31:24.737Z"
   },
   {
    "duration": 14,
    "start_time": "2023-03-15T16:31:24.892Z"
   },
   {
    "duration": 13,
    "start_time": "2023-03-15T16:31:24.909Z"
   },
   {
    "duration": 185,
    "start_time": "2023-03-15T16:31:24.924Z"
   },
   {
    "duration": 16,
    "start_time": "2023-03-15T16:31:25.111Z"
   },
   {
    "duration": 16,
    "start_time": "2023-03-15T16:31:25.129Z"
   },
   {
    "duration": 21,
    "start_time": "2023-03-15T16:31:25.146Z"
   },
   {
    "duration": 332,
    "start_time": "2023-03-15T16:31:25.169Z"
   },
   {
    "duration": 323,
    "start_time": "2023-03-15T16:31:25.503Z"
   },
   {
    "duration": 250,
    "start_time": "2023-03-15T16:31:25.828Z"
   },
   {
    "duration": 412,
    "start_time": "2023-03-15T16:31:26.080Z"
   },
   {
    "duration": 338,
    "start_time": "2023-03-15T16:31:26.494Z"
   },
   {
    "duration": 349,
    "start_time": "2023-03-15T16:31:26.835Z"
   },
   {
    "duration": 169,
    "start_time": "2023-03-15T16:31:27.186Z"
   },
   {
    "duration": 10,
    "start_time": "2023-03-15T16:31:27.357Z"
   },
   {
    "duration": 234,
    "start_time": "2023-03-15T16:31:27.369Z"
   },
   {
    "duration": 10,
    "start_time": "2023-03-15T16:31:27.604Z"
   },
   {
    "duration": 257,
    "start_time": "2023-03-15T16:31:27.615Z"
   },
   {
    "duration": 157,
    "start_time": "2023-03-15T16:31:27.874Z"
   },
   {
    "duration": 42,
    "start_time": "2023-03-15T16:31:28.033Z"
   },
   {
    "duration": 12,
    "start_time": "2023-03-15T16:31:28.077Z"
   },
   {
    "duration": 8,
    "start_time": "2023-03-15T16:31:28.091Z"
   },
   {
    "duration": 9,
    "start_time": "2023-03-15T16:31:28.130Z"
   },
   {
    "duration": 28,
    "start_time": "2023-03-15T16:31:28.140Z"
   },
   {
    "duration": 17,
    "start_time": "2023-03-15T16:31:28.170Z"
   },
   {
    "duration": 8,
    "start_time": "2023-03-15T16:55:31.683Z"
   },
   {
    "duration": 9,
    "start_time": "2023-03-15T16:55:48.639Z"
   },
   {
    "duration": 25,
    "start_time": "2023-03-15T16:55:50.691Z"
   },
   {
    "duration": 49,
    "start_time": "2023-03-15T16:58:09.660Z"
   },
   {
    "duration": 11,
    "start_time": "2023-03-15T17:08:47.574Z"
   },
   {
    "duration": 8,
    "start_time": "2023-03-15T17:09:33.275Z"
   },
   {
    "duration": 9,
    "start_time": "2023-03-15T17:10:13.944Z"
   },
   {
    "duration": 10,
    "start_time": "2023-03-15T17:10:27.128Z"
   },
   {
    "duration": 6,
    "start_time": "2023-03-15T17:10:39.800Z"
   },
   {
    "duration": 7,
    "start_time": "2023-03-15T17:10:47.191Z"
   },
   {
    "duration": 1009,
    "start_time": "2023-03-15T17:13:25.452Z"
   },
   {
    "duration": 11,
    "start_time": "2023-03-15T17:13:36.259Z"
   },
   {
    "duration": 9,
    "start_time": "2023-03-15T17:14:04.403Z"
   },
   {
    "duration": 9,
    "start_time": "2023-03-15T17:14:20.229Z"
   },
   {
    "duration": 48,
    "start_time": "2023-03-15T17:16:13.808Z"
   },
   {
    "duration": 70,
    "start_time": "2023-03-15T17:24:22.954Z"
   },
   {
    "duration": 45,
    "start_time": "2023-03-15T17:26:51.889Z"
   },
   {
    "duration": 1053,
    "start_time": "2023-03-15T17:29:25.717Z"
   },
   {
    "duration": 92,
    "start_time": "2023-03-15T17:29:26.772Z"
   },
   {
    "duration": 13,
    "start_time": "2023-03-15T17:29:26.866Z"
   },
   {
    "duration": 12,
    "start_time": "2023-03-15T17:29:26.881Z"
   },
   {
    "duration": 93,
    "start_time": "2023-03-15T17:29:26.895Z"
   },
   {
    "duration": 19,
    "start_time": "2023-03-15T17:29:26.990Z"
   },
   {
    "duration": 26,
    "start_time": "2023-03-15T17:29:27.012Z"
   },
   {
    "duration": 16,
    "start_time": "2023-03-15T17:29:27.040Z"
   },
   {
    "duration": 344,
    "start_time": "2023-03-15T17:29:27.058Z"
   },
   {
    "duration": 311,
    "start_time": "2023-03-15T17:29:27.404Z"
   },
   {
    "duration": 228,
    "start_time": "2023-03-15T17:29:27.716Z"
   },
   {
    "duration": 341,
    "start_time": "2023-03-15T17:29:27.946Z"
   },
   {
    "duration": 235,
    "start_time": "2023-03-15T17:29:28.289Z"
   },
   {
    "duration": 345,
    "start_time": "2023-03-15T17:29:28.530Z"
   },
   {
    "duration": 164,
    "start_time": "2023-03-15T17:29:28.876Z"
   },
   {
    "duration": 8,
    "start_time": "2023-03-15T17:29:29.042Z"
   },
   {
    "duration": 232,
    "start_time": "2023-03-15T17:29:29.051Z"
   },
   {
    "duration": 12,
    "start_time": "2023-03-15T17:29:29.286Z"
   },
   {
    "duration": 241,
    "start_time": "2023-03-15T17:29:29.301Z"
   },
   {
    "duration": 139,
    "start_time": "2023-03-15T17:29:29.544Z"
   },
   {
    "duration": 25,
    "start_time": "2023-03-15T17:29:29.685Z"
   },
   {
    "duration": 28,
    "start_time": "2023-03-15T17:29:29.712Z"
   },
   {
    "duration": 13,
    "start_time": "2023-03-15T17:29:29.741Z"
   },
   {
    "duration": 16,
    "start_time": "2023-03-15T17:29:29.755Z"
   },
   {
    "duration": 11,
    "start_time": "2023-03-15T17:29:29.772Z"
   },
   {
    "duration": 47,
    "start_time": "2023-03-15T17:29:29.784Z"
   },
   {
    "duration": 14,
    "start_time": "2023-03-15T17:29:29.833Z"
   },
   {
    "duration": 1202,
    "start_time": "2023-03-16T11:13:21.766Z"
   },
   {
    "duration": 147,
    "start_time": "2023-03-16T11:13:22.970Z"
   },
   {
    "duration": 12,
    "start_time": "2023-03-16T11:13:23.118Z"
   },
   {
    "duration": 11,
    "start_time": "2023-03-16T11:13:23.131Z"
   },
   {
    "duration": 178,
    "start_time": "2023-03-16T11:13:23.144Z"
   },
   {
    "duration": 13,
    "start_time": "2023-03-16T11:13:23.323Z"
   },
   {
    "duration": 13,
    "start_time": "2023-03-16T11:13:23.337Z"
   },
   {
    "duration": 11,
    "start_time": "2023-03-16T11:13:23.351Z"
   },
   {
    "duration": 282,
    "start_time": "2023-03-16T11:13:23.364Z"
   },
   {
    "duration": 295,
    "start_time": "2023-03-16T11:13:23.655Z"
   },
   {
    "duration": 210,
    "start_time": "2023-03-16T11:13:23.951Z"
   },
   {
    "duration": 401,
    "start_time": "2023-03-16T11:13:24.162Z"
   },
   {
    "duration": 226,
    "start_time": "2023-03-16T11:13:24.564Z"
   },
   {
    "duration": 303,
    "start_time": "2023-03-16T11:13:24.793Z"
   },
   {
    "duration": 161,
    "start_time": "2023-03-16T11:13:25.097Z"
   },
   {
    "duration": 7,
    "start_time": "2023-03-16T11:13:25.259Z"
   },
   {
    "duration": 229,
    "start_time": "2023-03-16T11:13:25.268Z"
   },
   {
    "duration": 7,
    "start_time": "2023-03-16T11:13:25.499Z"
   },
   {
    "duration": 227,
    "start_time": "2023-03-16T11:13:25.507Z"
   },
   {
    "duration": 130,
    "start_time": "2023-03-16T11:13:25.735Z"
   },
   {
    "duration": 21,
    "start_time": "2023-03-16T11:13:25.866Z"
   },
   {
    "duration": 10,
    "start_time": "2023-03-16T11:13:25.889Z"
   },
   {
    "duration": 7,
    "start_time": "2023-03-16T11:13:25.901Z"
   },
   {
    "duration": 13,
    "start_time": "2023-03-16T11:13:25.909Z"
   },
   {
    "duration": 31,
    "start_time": "2023-03-16T11:13:25.924Z"
   },
   {
    "duration": 23,
    "start_time": "2023-03-16T11:13:25.956Z"
   },
   {
    "duration": 14,
    "start_time": "2023-03-16T11:13:25.980Z"
   },
   {
    "duration": 1135,
    "start_time": "2023-05-25T12:34:08.523Z"
   },
   {
    "duration": 167,
    "start_time": "2023-05-25T12:34:09.660Z"
   },
   {
    "duration": 16,
    "start_time": "2023-05-25T12:34:09.829Z"
   },
   {
    "duration": 24,
    "start_time": "2023-05-25T12:34:09.848Z"
   },
   {
    "duration": 208,
    "start_time": "2023-05-25T12:34:09.874Z"
   },
   {
    "duration": 16,
    "start_time": "2023-05-25T12:34:10.085Z"
   },
   {
    "duration": 64,
    "start_time": "2023-05-25T12:34:10.102Z"
   },
   {
    "duration": 67,
    "start_time": "2023-05-25T12:34:10.168Z"
   },
   {
    "duration": 370,
    "start_time": "2023-05-25T12:34:10.237Z"
   },
   {
    "duration": 342,
    "start_time": "2023-05-25T12:34:10.610Z"
   },
   {
    "duration": 253,
    "start_time": "2023-05-25T12:34:10.954Z"
   },
   {
    "duration": 326,
    "start_time": "2023-05-25T12:34:11.209Z"
   },
   {
    "duration": 282,
    "start_time": "2023-05-25T12:34:11.537Z"
   },
   {
    "duration": 336,
    "start_time": "2023-05-25T12:34:11.821Z"
   },
   {
    "duration": 185,
    "start_time": "2023-05-25T12:34:12.159Z"
   },
   {
    "duration": 8,
    "start_time": "2023-05-25T12:34:12.346Z"
   },
   {
    "duration": 317,
    "start_time": "2023-05-25T12:34:12.356Z"
   },
   {
    "duration": 27,
    "start_time": "2023-05-25T12:34:12.675Z"
   },
   {
    "duration": 246,
    "start_time": "2023-05-25T12:34:12.704Z"
   },
   {
    "duration": 156,
    "start_time": "2023-05-25T12:34:12.953Z"
   },
   {
    "duration": 26,
    "start_time": "2023-05-25T12:34:13.111Z"
   },
   {
    "duration": 38,
    "start_time": "2023-05-25T12:34:13.139Z"
   },
   {
    "duration": 10,
    "start_time": "2023-05-25T12:34:13.179Z"
   },
   {
    "duration": 23,
    "start_time": "2023-05-25T12:34:13.191Z"
   },
   {
    "duration": 9,
    "start_time": "2023-05-25T12:34:13.217Z"
   },
   {
    "duration": 51,
    "start_time": "2023-05-25T12:34:13.228Z"
   },
   {
    "duration": 19,
    "start_time": "2023-05-25T12:34:13.281Z"
   },
   {
    "duration": 9,
    "start_time": "2023-05-25T12:34:36.699Z"
   }
  ],
  "kernelspec": {
   "display_name": "Python 3 (ipykernel)",
   "language": "python",
   "name": "python3"
  },
  "language_info": {
   "codemirror_mode": {
    "name": "ipython",
    "version": 3
   },
   "file_extension": ".py",
   "mimetype": "text/x-python",
   "name": "python",
   "nbconvert_exporter": "python",
   "pygments_lexer": "ipython3",
   "version": "3.9.5"
  },
  "toc": {
   "base_numbering": 1,
   "nav_menu": {},
   "number_sections": true,
   "sideBar": true,
   "skip_h1_title": true,
   "title_cell": "Table of Contents",
   "title_sidebar": "Contents",
   "toc_cell": true,
   "toc_position": {
    "height": "calc(100% - 180px)",
    "left": "10px",
    "top": "150px",
    "width": "556.391px"
   },
   "toc_section_display": true,
   "toc_window_display": false
  }
 },
 "nbformat": 4,
 "nbformat_minor": 2
}
